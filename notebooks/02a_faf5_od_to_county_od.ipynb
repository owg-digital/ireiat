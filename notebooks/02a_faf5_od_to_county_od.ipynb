{
 "cells": [
  {
   "cell_type": "code",
   "execution_count": 1,
   "id": "afc88dd9-074d-48d0-ad98-5564470ec49b",
   "metadata": {},
   "outputs": [],
   "source": [
    "import pyogrio\n",
    "import pandas as pd\n",
    "import pickle\n",
    "from zipfile import ZipFile\n",
    "import tempfile\n",
    "import numpy as np\n",
    "from pathlib import Path\n",
    "import os\n",
    "from collections import defaultdict\n",
    "pd.set_option('display.max_columns',None)\n",
    "\n",
    "# requires local installation of ireiat package using \n",
    "from ireiat.config import CACHE_PATH"
   ]
  },
  {
   "cell_type": "markdown",
   "id": "edeccde8-af78-45af-9264-a59502af03e6",
   "metadata": {},
   "source": [
    "### Purpose\n",
    "Given the FAF5 regional association with counties and the county population, create an OD matrix (state_orig, county_orig, state_dest, county_dest)=tons"
   ]
  },
  {
   "cell_type": "code",
   "execution_count": 2,
   "id": "316d674a-ef9a-4724-8200-6c1b4d9f6f75",
   "metadata": {},
   "outputs": [],
   "source": [
    "TARGET_FIELD = 'tons_2022'\n",
    "TOLERANCE = 1e-5"
   ]
  },
  {
   "cell_type": "code",
   "execution_count": 3,
   "id": "2aea2cec-1b06-465b-978b-f9108085e8de",
   "metadata": {},
   "outputs": [],
   "source": [
    "county_pop_pdf = pd.read_csv(CACHE_PATH / 'raw/co-est2022-alldata.csv',dtype={'STATE':str,'COUNTY':str})"
   ]
  },
  {
   "cell_type": "code",
   "execution_count": 4,
   "id": "2ca1b3d2-3ba3-4f86-8d7b-6d9bff7697b2",
   "metadata": {},
   "outputs": [],
   "source": [
    "with open(CACHE_PATH / 'faf_id_to_county_areas','rb') as fp:\n",
    "    faf_id_to_county_id_map = pickle.load(fp)"
   ]
  },
  {
   "cell_type": "code",
   "execution_count": 5,
   "id": "9bbe496b-7842-467a-93dd-36960ae6da95",
   "metadata": {},
   "outputs": [],
   "source": [
    "actual_state_county_to_pop_map = dict()\n",
    "for row in county_pop_pdf.loc[county_pop_pdf['COUNTY']!='000'].itertuples(): # ignore state totals\n",
    "    actual_state_county_to_pop_map[(row.STATE,row.COUNTY)]=row.POPESTIMATE2022"
   ]
  },
  {
   "cell_type": "code",
   "execution_count": 6,
   "id": "fdb31ffb-4b10-4bbb-ae58-6e6120884ba3",
   "metadata": {},
   "outputs": [],
   "source": [
    "faf_id_to_county_id_population_map = defaultdict(dict)\n",
    "\n",
    "# look up the county population within each faf zone\n",
    "for faf_id, vals in faf_id_to_county_id_map.items():\n",
    "    for (state_id, county_id), pct_county_in_faf in vals.items():\n",
    "        faf_id_to_county_id_population_map[faf_id][(state_id, county_id)] = actual_state_county_to_pop_map[(state_id, county_id)]*pct_county_in_faf"
   ]
  },
  {
   "cell_type": "code",
   "execution_count": 7,
   "id": "b22c61b7-4ff9-4356-b698-51f7bc7a6cce",
   "metadata": {},
   "outputs": [],
   "source": [
    "faf_total_population_map = dict()\n",
    "for faf_id, vals_dict in faf_id_to_county_id_population_map.items():\n",
    "    faf_total_population_map[faf_id] = sum(vals_dict.values())\n",
    "\n",
    "# check that the totals are equal\n",
    "assert sum(actual_state_county_to_pop_map.values()) == sum(faf_total_population_map.values())"
   ]
  },
  {
   "cell_type": "code",
   "execution_count": 8,
   "id": "8ba798c8-8369-4218-b124-56b103b51f4d",
   "metadata": {},
   "outputs": [],
   "source": [
    "# determine the percentage of the faf demand that should be allocated to the county based on the allocation metric of interest\n",
    "faf_id_to_county_percent_map = defaultdict(dict)\n",
    "for faf_id, vals in faf_id_to_county_id_population_map.items():\n",
    "    for (state_id, county_id), population_portion in vals.items():\n",
    "        faf_id_to_county_percent_map[faf_id][(state_id, county_id)]=population_portion/faf_total_population_map[faf_id]\n",
    "\n",
    "# confirm that all the faf ids have a \"total\" allocation that sums to 1 (within some tolerance)\n",
    "assert all([abs(sum(pop_map.values())-1)<TOLERANCE for pop_map in faf_id_to_county_percent_map.values()])"
   ]
  },
  {
   "cell_type": "code",
   "execution_count": 26,
   "id": "a131478b-fc5a-42e7-8bba-bab04f8e2e5d",
   "metadata": {},
   "outputs": [],
   "source": [
    "target_path = CACHE_PATH / 'raw/faf5_demand.zip'\n",
    "zip = ZipFile(target_path)\n",
    "with tempfile.TemporaryDirectory() as tmpdirname:\n",
    "    zip.extractall(path=tmpdirname)\n",
    "    metadata_xls = [f for f in zip.namelist() if f.endswith('xlsx')]\n",
    "    target_csvs = [f for f in zip.namelist() if f.endswith('csv')]\n",
    "    faf_pdf = pd.read_csv(zip.open(target_csvs[0]),dtype={'dms_orig':str, 'dms_dest':str, 'sctg2':str})\n",
    "    faf_metadata = pd.read_excel(zip.open(metadata_xls[0]),sheet_name=None)\n",
    "    zip.close()"
   ]
  },
  {
   "cell_type": "code",
   "execution_count": 44,
   "id": "8bdea3d1-5095-4548-8384-1c1332d9accb",
   "metadata": {},
   "outputs": [],
   "source": [
    "from enum import StrEnum\n",
    "\n",
    "class FAFCommodity(StrEnum):\n",
    "    LIVE_ANIMALS_FISH = '01'\n",
    "    CEREAL_GRAINS = '02'\n",
    "    OTHER_AG_PRODS = '03'\n",
    "    ANIMAL_FEED = '04'\n",
    "    MEAT_SEAFOOD = '05'\n",
    "    MILLED_GRAIN_PRODS = '06'\n",
    "    OTHER_FOODSTUFFS = '07'\n",
    "    ALCOHOLIC_BEVERAGES = '08'\n",
    "    TOBACCO_PRODS = '09'\n",
    "    BUILDING_STONE = '10'\n",
    "    NATURAL_SANDS = '11'\n",
    "    GRAVEL = '12'\n",
    "    NONMETALLIC_MINERALS = '13'\n",
    "    METALLIC_ORES = '14'\n",
    "    COAL = '15'\n",
    "    CRUDE_PETROLEUM = '16'\n",
    "    GASOLINE = '17'\n",
    "    FUEL_OILS = '18'\n",
    "    NATURAL_GAS_AND_OTHER_FOSSIL_PRODUCTS = '19'\n",
    "    BASIC_CHEMICALS = '20'\n",
    "    PHARMACEUTICALS = '21'\n",
    "    FERTILIZERS = '22'\n",
    "    CHEMICAL_PRODS = '23'\n",
    "    PLASTICS_RUBBER = '24'\n",
    "    LOGS = '25'\n",
    "    WOOD_PRODS = '26'\n",
    "    NEWSPRINT_PAPER = '27'\n",
    "    PAPER_ARTICLES = '28'\n",
    "    PRINTED_PRODS = '29'\n",
    "    TEXTILES_LEATHER = '30'\n",
    "    NONMETAL_MIN_PRODS = '31'\n",
    "    BASE_METALS = '32'\n",
    "    ARTICLESBASE_METAL = '33'\n",
    "    MACHINERY = '34'\n",
    "    ELECTRONICS = '35'\n",
    "    MOTORIZED_VEHICLES = '36'\n",
    "    TRANSPORT_EQUIP = '37'\n",
    "    PRECISION_INSTRUMENTS = '38'\n",
    "    FURNITURE = '39'\n",
    "    MISC_MFG_PRODS = '40'\n",
    "    WASTE_SCRAP = '41'\n",
    "    MIXED_FREIGHT = '43'"
   ]
  },
  {
   "cell_type": "code",
   "execution_count": 41,
   "id": "bba5db08-1a83-4892-bfe0-c58987fb2220",
   "metadata": {},
   "outputs": [
    {
     "name": "stdout",
     "output_type": "stream",
     "text": [
      "LIVE_ANIMALS_FISH = '01'\n",
      "CEREAL_GRAINS = '02'\n",
      "OTHER_AG_PRODS = '03'\n",
      "ANIMAL_FEED = '04'\n",
      "MEAT_SEAFOOD = '05'\n",
      "MILLED_GRAIN_PRODS = '06'\n",
      "OTHER_FOODSTUFFS = '07'\n",
      "ALCOHOLIC_BEVERAGES = '08'\n",
      "TOBACCO_PRODS = '09'\n",
      "BUILDING_STONE = '10'\n",
      "NATURAL_SANDS = '11'\n",
      "GRAVEL = '12'\n",
      "NONMETALLIC_MINERALS = '13'\n",
      "METALLIC_ORES = '14'\n",
      "COAL = '15'\n",
      "CRUDE_PETROLEUM = '16'\n",
      "GASOLINE = '17'\n",
      "FUEL_OILS = '18'\n",
      "NATURAL_GAS_AND_OTHER_FOSSIL_PRODUCTS = '19'\n",
      "BASIC_CHEMICALS = '20'\n",
      "PHARMACEUTICALS = '21'\n",
      "FERTILIZERS = '22'\n",
      "CHEMICAL_PRODS = '23'\n",
      "PLASTICS_RUBBER = '24'\n",
      "LOGS = '25'\n",
      "WOOD_PRODS = '26'\n",
      "NEWSPRINT_PAPER = '27'\n",
      "PAPER_ARTICLES = '28'\n",
      "PRINTED_PRODS = '29'\n",
      "TEXTILES_LEATHER = '30'\n",
      "NONMETAL_MIN_PRODS = '31'\n",
      "BASE_METALS = '32'\n",
      "ARTICLESBASE_METAL = '33'\n",
      "MACHINERY = '34'\n",
      "ELECTRONICS = '35'\n",
      "MOTORIZED_VEHICLES = '36'\n",
      "TRANSPORT_EQUIP = '37'\n",
      "PRECISION_INSTRUMENTS = '38'\n",
      "FURNITURE = '39'\n",
      "MISC_MFG_PRODS = '40'\n",
      "WASTE_SCRAP = '41'\n",
      "MIXED_FREIGHT = '43'\n"
     ]
    }
   ],
   "source": [
    "def clean_description(desc):\n",
    "    temp = desc.replace('/','_').replace(' ','_').replace('.','').replace('-','')\n",
    "    return temp.upper()\n",
    "\n",
    "for row in faf_metadata['Commodity (SCTG2)'].itertuples():\n",
    "    desc = row.Description\n",
    "    print(f\"{clean_description(desc)} = '{row._1:02d}'\")\n",
    "    "
   ]
  },
  {
   "cell_type": "code",
   "execution_count": 59,
   "id": "edf32dbd-cdce-4009-90fe-58dc85e8f474",
   "metadata": {},
   "outputs": [
    {
     "data": {
      "text/plain": [
       "42"
      ]
     },
     "execution_count": 59,
     "metadata": {},
     "output_type": "execute_result"
    }
   ],
   "source": [
    "len(set(faf_pdf.loc[faf_pdf['dms_mode']==5,'sctg2'].unique()))"
   ]
  },
  {
   "cell_type": "code",
   "execution_count": 56,
   "id": "5f61b755-c388-448b-ba12-8fcf94b85c4a",
   "metadata": {},
   "outputs": [
    {
     "data": {
      "text/plain": [
       "set()"
      ]
     },
     "execution_count": 56,
     "metadata": {},
     "output_type": "execute_result"
    }
   ],
   "source": [
    "set([e.value for e in FAFCommodity]) - set(faf_pdf.loc[faf_pdf['dms_mode']==5,'sctg2'].unique())"
   ]
  },
  {
   "cell_type": "code",
   "execution_count": 50,
   "id": "e5d972a3-f45a-487e-8328-ca135eae1e43",
   "metadata": {},
   "outputs": [
    {
     "data": {
      "text/plain": [
       "<Axes: xlabel='sctg2'>"
      ]
     },
     "execution_count": 50,
     "metadata": {},
     "output_type": "execute_result"
    },
    {
     "data": {
      "image/png": "[encoded data removed]",
      "text/plain": [
       "<Figure size 640x480 with 1 Axes>"
      ]
     },
     "metadata": {},
     "output_type": "display_data"
    }
   ],
   "source": [
    "faf_pdf.loc[faf_pdf['dms_mode']==5].groupby('sctg2')['tons_2022'].sum().sort_values().plot(kind='bar')"
   ]
  },
  {
   "cell_type": "code",
   "execution_count": 12,
   "id": "de2fb928-5d86-4d4b-a9b6-72e804b9b6fa",
   "metadata": {},
   "outputs": [
    {
     "data": {
      "text/plain": [
       "dtype('O')"
      ]
     },
     "execution_count": 12,
     "metadata": {},
     "output_type": "execute_result"
    }
   ],
   "source": [
    "faf_pdf['sctg2'].dtype"
   ]
  },
  {
   "cell_type": "code",
   "execution_count": 13,
   "id": "3a2129c5-f723-4eeb-8399-cee31f0bb8d7",
   "metadata": {},
   "outputs": [
    {
     "data": {
      "text/html": [
       "<div>\n",
       "<style scoped>\n",
       "    .dataframe tbody tr th:only-of-type {\n",
       "        vertical-align: middle;\n",
       "    }\n",
       "\n",
       "    .dataframe tbody tr th {\n",
       "        vertical-align: top;\n",
       "    }\n",
       "\n",
       "    .dataframe thead th {\n",
       "        text-align: right;\n",
       "    }\n",
       "</style>\n",
       "<table border=\"1\" class=\"dataframe\">\n",
       "  <thead>\n",
       "    <tr style=\"text-align: right;\">\n",
       "      <th></th>\n",
       "      <th>fr_orig</th>\n",
       "      <th>dms_orig</th>\n",
       "      <th>dms_dest</th>\n",
       "      <th>fr_dest</th>\n",
       "      <th>fr_inmode</th>\n",
       "      <th>dms_mode</th>\n",
       "      <th>fr_outmode</th>\n",
       "      <th>sctg2</th>\n",
       "      <th>trade_type</th>\n",
       "      <th>dist_band</th>\n",
       "      <th>tons_2017</th>\n",
       "      <th>tons_2018</th>\n",
       "      <th>tons_2019</th>\n",
       "      <th>tons_2020</th>\n",
       "      <th>tons_2021</th>\n",
       "      <th>tons_2022</th>\n",
       "      <th>tons_2023</th>\n",
       "      <th>tons_2025</th>\n",
       "      <th>tons_2030</th>\n",
       "      <th>tons_2035</th>\n",
       "      <th>tons_2040</th>\n",
       "      <th>tons_2045</th>\n",
       "      <th>tons_2050</th>\n",
       "      <th>value_2017</th>\n",
       "      <th>value_2018</th>\n",
       "      <th>value_2019</th>\n",
       "      <th>value_2020</th>\n",
       "      <th>value_2021</th>\n",
       "      <th>value_2022</th>\n",
       "      <th>value_2023</th>\n",
       "      <th>value_2025</th>\n",
       "      <th>value_2030</th>\n",
       "      <th>value_2035</th>\n",
       "      <th>value_2040</th>\n",
       "      <th>value_2045</th>\n",
       "      <th>value_2050</th>\n",
       "      <th>current_value_2018</th>\n",
       "      <th>current_value_2019</th>\n",
       "      <th>current_value_2020</th>\n",
       "      <th>current_value_2021</th>\n",
       "      <th>current_value_2022</th>\n",
       "      <th>tmiles_2017</th>\n",
       "      <th>tmiles_2018</th>\n",
       "      <th>tmiles_2019</th>\n",
       "      <th>tmiles_2020</th>\n",
       "      <th>tmiles_2021</th>\n",
       "      <th>tmiles_2022</th>\n",
       "      <th>tmiles_2023</th>\n",
       "      <th>tmiles_2025</th>\n",
       "      <th>tmiles_2030</th>\n",
       "      <th>tmiles_2035</th>\n",
       "      <th>tmiles_2040</th>\n",
       "      <th>tmiles_2045</th>\n",
       "      <th>tmiles_2050</th>\n",
       "    </tr>\n",
       "  </thead>\n",
       "  <tbody>\n",
       "  </tbody>\n",
       "</table>\n",
       "</div>"
      ],
      "text/plain": [
       "Empty DataFrame\n",
       "Columns: [fr_orig, dms_orig, dms_dest, fr_dest, fr_inmode, dms_mode, fr_outmode, sctg2, trade_type, dist_band, tons_2017, tons_2018, tons_2019, tons_2020, tons_2021, tons_2022, tons_2023, tons_2025, tons_2030, tons_2035, tons_2040, tons_2045, tons_2050, value_2017, value_2018, value_2019, value_2020, value_2021, value_2022, value_2023, value_2025, value_2030, value_2035, value_2040, value_2045, value_2050, current_value_2018, current_value_2019, current_value_2020, current_value_2021, current_value_2022, tmiles_2017, tmiles_2018, tmiles_2019, tmiles_2020, tmiles_2021, tmiles_2022, tmiles_2023, tmiles_2025, tmiles_2030, tmiles_2035, tmiles_2040, tmiles_2045, tmiles_2050]\n",
       "Index: []"
      ]
     },
     "execution_count": 13,
     "metadata": {},
     "output_type": "execute_result"
    }
   ],
   "source": [
    "faf_pdf.loc[(faf_pdf['dms_mode']==2) &(faf_pdf['sctg2'].isin([36]))]"
   ]
  },
  {
   "cell_type": "code",
   "execution_count": 10,
   "id": "4c00fd3d-d0c5-46c9-a4f6-11538a9bc907",
   "metadata": {},
   "outputs": [
    {
     "data": {
      "text/html": [
       "<div>\n",
       "<style scoped>\n",
       "    .dataframe tbody tr th:only-of-type {\n",
       "        vertical-align: middle;\n",
       "    }\n",
       "\n",
       "    .dataframe tbody tr th {\n",
       "        vertical-align: top;\n",
       "    }\n",
       "\n",
       "    .dataframe thead th {\n",
       "        text-align: right;\n",
       "    }\n",
       "</style>\n",
       "<table border=\"1\" class=\"dataframe\">\n",
       "  <thead>\n",
       "    <tr style=\"text-align: right;\">\n",
       "      <th></th>\n",
       "      <th>dms_orig</th>\n",
       "      <th>dms_dest</th>\n",
       "      <th>dms_mode</th>\n",
       "      <th>sctg2</th>\n",
       "      <th>trade_type</th>\n",
       "      <th>dist_band</th>\n",
       "      <th>tons_2022</th>\n",
       "      <th>tmiles_2022</th>\n",
       "      <th>value_2022</th>\n",
       "    </tr>\n",
       "  </thead>\n",
       "  <tbody>\n",
       "    <tr>\n",
       "      <th>273876</th>\n",
       "      <td>452</td>\n",
       "      <td>061</td>\n",
       "      <td>1</td>\n",
       "      <td>32</td>\n",
       "      <td>1</td>\n",
       "      <td>8</td>\n",
       "      <td>0.098212</td>\n",
       "      <td>0.227570</td>\n",
       "      <td>1.609759</td>\n",
       "    </tr>\n",
       "    <tr>\n",
       "      <th>2096145</th>\n",
       "      <td>219</td>\n",
       "      <td>131</td>\n",
       "      <td>4</td>\n",
       "      <td>32</td>\n",
       "      <td>3</td>\n",
       "      <td>3</td>\n",
       "      <td>0.000000</td>\n",
       "      <td>0.000000</td>\n",
       "      <td>0.000000</td>\n",
       "    </tr>\n",
       "    <tr>\n",
       "      <th>1664686</th>\n",
       "      <td>089</td>\n",
       "      <td>451</td>\n",
       "      <td>5</td>\n",
       "      <td>8</td>\n",
       "      <td>3</td>\n",
       "      <td>8</td>\n",
       "      <td>0.000000</td>\n",
       "      <td>0.000000</td>\n",
       "      <td>0.000000</td>\n",
       "    </tr>\n",
       "    <tr>\n",
       "      <th>2274814</th>\n",
       "      <td>487</td>\n",
       "      <td>485</td>\n",
       "      <td>2</td>\n",
       "      <td>36</td>\n",
       "      <td>3</td>\n",
       "      <td>4</td>\n",
       "      <td>0.006332</td>\n",
       "      <td>0.004591</td>\n",
       "      <td>0.079575</td>\n",
       "    </tr>\n",
       "    <tr>\n",
       "      <th>1055444</th>\n",
       "      <td>369</td>\n",
       "      <td>441</td>\n",
       "      <td>1</td>\n",
       "      <td>32</td>\n",
       "      <td>2</td>\n",
       "      <td>3</td>\n",
       "      <td>0.300924</td>\n",
       "      <td>0.105810</td>\n",
       "      <td>0.911552</td>\n",
       "    </tr>\n",
       "  </tbody>\n",
       "</table>\n",
       "</div>"
      ],
      "text/plain": [
       "        dms_orig dms_dest  dms_mode  sctg2  trade_type  dist_band  tons_2022  \\\n",
       "273876       452      061         1     32           1          8   0.098212   \n",
       "2096145      219      131         4     32           3          3   0.000000   \n",
       "1664686      089      451         5      8           3          8   0.000000   \n",
       "2274814      487      485         2     36           3          4   0.006332   \n",
       "1055444      369      441         1     32           2          3   0.300924   \n",
       "\n",
       "         tmiles_2022  value_2022  \n",
       "273876      0.227570    1.609759  \n",
       "2096145     0.000000    0.000000  \n",
       "1664686     0.000000    0.000000  \n",
       "2274814     0.004591    0.079575  \n",
       "1055444     0.105810    0.911552  "
      ]
     },
     "execution_count": 10,
     "metadata": {},
     "output_type": "execute_result"
    }
   ],
   "source": [
    "basic_cols = [c for c in faf_pdf.columns if not (c.startswith('tons') or c.startswith('value') or c.startswith('tmiles') or c.startswith('current') or c in ['fr_orig','fr_dest','fr_inmode','fr_outmode'])]\n",
    "extra_cols = ['tons_2022','tmiles_2022','value_2022']\n",
    "faf_pdf[[*basic_cols,*extra_cols]].sample(5)"
   ]
  },
  {
   "cell_type": "code",
   "execution_count": 13,
   "id": "3b3516df-0bf7-4cc9-9c56-a3935babc48d",
   "metadata": {},
   "outputs": [],
   "source": [
    "# faf_mode_map = {\n",
    "#     1:  'Truck',\n",
    "#     2:\t'Rail',\n",
    "#     3:\t'Water',\n",
    "#     4:\t'Air (include truck-air)',\n",
    "#     5:\t'Multiple modes & mail',\n",
    "#     6:\t'Pipeline',\n",
    "#     7:\t'Other and unknown',\n",
    "#     8:\t'No domestic mode',\n",
    "# }"
   ]
  },
  {
   "cell_type": "code",
   "execution_count": 11,
   "id": "dba72851-78a7-46aa-8fa9-2c6cbd8a16c5",
   "metadata": {},
   "outputs": [],
   "source": [
    "is_by_truck = faf_pdf['dms_mode']==1 # by truck\n",
    "faf_truck_pdf = faf_pdf.loc[is_by_truck]\n",
    "total_road_tons_od_pdf = faf_truck_pdf.groupby(['dms_orig','dms_dest'],as_index=False)[[TARGET_FIELD]].sum()"
   ]
  },
  {
   "cell_type": "code",
   "execution_count": 12,
   "id": "15100fce-2c4e-4f6f-b6b4-90e853a4a214",
   "metadata": {},
   "outputs": [
    {
     "name": "stdout",
     "output_type": "stream",
     "text": [
      "CPU times: total: 7.5 s\n",
      "Wall time: 7.51 s\n"
     ]
    }
   ],
   "source": [
    "%%time\n",
    "# create a (state_orig, county_orig, state_dest, county_dest) => tons map\n",
    "county_od = defaultdict(float)\n",
    "for row in total_road_tons_od_pdf.itertuples():\n",
    "    constituent_orig_counties_map = faf_id_to_county_percent_map[row.dms_orig]\n",
    "    constituent_dest_counties_map = faf_id_to_county_percent_map[row.dms_dest]\n",
    "    for (state_orig, county_orig), pct_in_county_orig in constituent_orig_counties_map.items():\n",
    "        for (state_dest, county_dest), pct_in_county_dest in constituent_dest_counties_map.items():\n",
    "            county_od[(state_orig, county_orig, state_dest, county_dest)] += getattr(row,TARGET_FIELD)*pct_in_county_orig*pct_in_county_dest\n",
    "\n",
    "assert abs(total_road_tons_od_pdf[TARGET_FIELD].sum()-sum(county_od.values()))<TOLERANCE"
   ]
  },
  {
   "cell_type": "code",
   "execution_count": 13,
   "id": "3c13c0dc-427d-4b1d-a06b-446ebdc46ccf",
   "metadata": {},
   "outputs": [
    {
     "data": {
      "text/plain": [
       "9880444"
      ]
     },
     "execution_count": 13,
     "metadata": {},
     "output_type": "execute_result"
    }
   ],
   "source": [
    "len(county_od)"
   ]
  },
  {
   "cell_type": "code",
   "execution_count": 26,
   "id": "b13c78ee-c7e7-4925-b1dd-9ea3aed48945",
   "metadata": {},
   "outputs": [],
   "source": [
    "county_od_tuples = [(*k, v) for k,v in county_od.items()]"
   ]
  },
  {
   "cell_type": "code",
   "execution_count": 27,
   "id": "81d24afb-58f9-4a22-8cb4-4e7511cc6f1c",
   "metadata": {},
   "outputs": [],
   "source": [
    "county_od_pdf = pd.DataFrame(county_od_tuples,columns=['state_orig','county_orig','state_dest','county_dest','tons'])"
   ]
  },
  {
   "cell_type": "code",
   "execution_count": 28,
   "id": "cf5fb4fd-6d28-4ee5-8e89-bdc9d0a69a95",
   "metadata": {},
   "outputs": [
    {
     "data": {
      "text/html": [
       "<div>\n",
       "<style scoped>\n",
       "    .dataframe tbody tr th:only-of-type {\n",
       "        vertical-align: middle;\n",
       "    }\n",
       "\n",
       "    .dataframe tbody tr th {\n",
       "        vertical-align: top;\n",
       "    }\n",
       "\n",
       "    .dataframe thead th {\n",
       "        text-align: right;\n",
       "    }\n",
       "</style>\n",
       "<table border=\"1\" class=\"dataframe\">\n",
       "  <thead>\n",
       "    <tr style=\"text-align: right;\">\n",
       "      <th></th>\n",
       "      <th>tons</th>\n",
       "    </tr>\n",
       "  </thead>\n",
       "  <tbody>\n",
       "    <tr>\n",
       "      <th>count</th>\n",
       "      <td>9.835245e+06</td>\n",
       "    </tr>\n",
       "    <tr>\n",
       "      <th>mean</th>\n",
       "      <td>1.287026e+00</td>\n",
       "    </tr>\n",
       "    <tr>\n",
       "      <th>std</th>\n",
       "      <td>7.544484e+01</td>\n",
       "    </tr>\n",
       "    <tr>\n",
       "      <th>min</th>\n",
       "      <td>0.000000e+00</td>\n",
       "    </tr>\n",
       "    <tr>\n",
       "      <th>25%</th>\n",
       "      <td>1.947237e-03</td>\n",
       "    </tr>\n",
       "    <tr>\n",
       "      <th>50%</th>\n",
       "      <td>1.113167e-02</td>\n",
       "    </tr>\n",
       "    <tr>\n",
       "      <th>75%</th>\n",
       "      <td>6.795850e-02</td>\n",
       "    </tr>\n",
       "    <tr>\n",
       "      <th>max</th>\n",
       "      <td>8.937358e+04</td>\n",
       "    </tr>\n",
       "  </tbody>\n",
       "</table>\n",
       "</div>"
      ],
      "text/plain": [
       "               tons\n",
       "count  9.835245e+06\n",
       "mean   1.287026e+00\n",
       "std    7.544484e+01\n",
       "min    0.000000e+00\n",
       "25%    1.947237e-03\n",
       "50%    1.113167e-02\n",
       "75%    6.795850e-02\n",
       "max    8.937358e+04"
      ]
     },
     "execution_count": 28,
     "metadata": {},
     "output_type": "execute_result"
    }
   ],
   "source": [
    "county_od_pdf.describe()"
   ]
  },
  {
   "cell_type": "code",
   "execution_count": 19,
   "id": "64087929-8eee-4100-80f0-c9b1f8022640",
   "metadata": {},
   "outputs": [
    {
     "data": {
      "text/plain": [
       "5.305011000119845"
      ]
     },
     "execution_count": 19,
     "metadata": {},
     "output_type": "execute_result"
    }
   ],
   "source": [
    "county_od_pdf['tons'].quantile(.98)"
   ]
  },
  {
   "cell_type": "code",
   "execution_count": 20,
   "id": "3737da43-0199-4e75-8857-0d0972bc82ed",
   "metadata": {},
   "outputs": [],
   "source": [
    "non_zero_county_od_pdf = county_od_pdf.loc[county_od_pdf['tons']>0].sort_values('tons')"
   ]
  },
  {
   "cell_type": "code",
   "execution_count": 21,
   "id": "865ae98a-9530-43ae-828d-5a0b9c0b515b",
   "metadata": {},
   "outputs": [],
   "source": [
    "non_zero_county_od_pdf['cum_tons'] = non_zero_county_od_pdf['tons'].cumsum()"
   ]
  },
  {
   "cell_type": "code",
   "execution_count": 22,
   "id": "f28d8fa0-549c-4797-9fd9-486caa27f86b",
   "metadata": {},
   "outputs": [
    {
     "data": {
      "text/plain": [
       "<Axes: >"
      ]
     },
     "execution_count": 22,
     "metadata": {},
     "output_type": "execute_result"
    },
    {
     "data": {
      "image/png": "[encoded data removed]",
      "text/plain": [
       "<Figure size 640x480 with 1 Axes>"
      ]
     },
     "metadata": {},
     "output_type": "display_data"
    }
   ],
   "source": [
    "non_zero_county_od_pdf['cum_tons'].quantile(q=np.linspace(0,1,50)).plot()"
   ]
  },
  {
   "cell_type": "code",
   "execution_count": 27,
   "id": "eb9c78c8-6896-4bc5-a1c0-1b092ce450ed",
   "metadata": {},
   "outputs": [],
   "source": [
    "# save as a parquet file to reduce file size\n",
    "target_path = CACHE_PATH / 'data/transformed/county_od.parquet'\n",
    "Path(os.path.dirname(target_path)).mkdir(parents=True,exist_ok=True)\n",
    "county_od_pdf.to_parquet(target_path)"
   ]
  }
 ],
 "metadata": {
  "kernelspec": {
   "display_name": "Python 3 (ipykernel)",
   "language": "python",
   "name": "python3"
  },
  "language_info": {
   "codemirror_mode": {
    "name": "ipython",
    "version": 3
   },
   "file_extension": ".py",
   "mimetype": "text/x-python",
   "name": "python",
   "nbconvert_exporter": "python",
   "pygments_lexer": "ipython3",
   "version": "3.11.7"
  }
 },
 "nbformat": 4,
 "nbformat_minor": 5
}
