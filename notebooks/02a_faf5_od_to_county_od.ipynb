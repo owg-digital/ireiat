{
 "cells": [
  {
   "cell_type": "code",
   "execution_count": 3,
   "id": "afc88dd9-074d-48d0-ad98-5564470ec49b",
   "metadata": {},
   "outputs": [],
   "source": [
    "import pyogrio\n",
    "import pandas as pd\n",
    "import pickle\n",
    "from zipfile import ZipFile\n",
    "import tempfile\n",
    "import numpy as np\n",
    "from pathlib import Path\n",
    "import os\n",
    "from collections import defaultdict\n",
    "pd.set_option('display.max_columns',None)\n",
    "\n",
    "# requires local installation of ireiat package using \n",
    "from ireiat.config import CACHE_PATH"
   ]
  },
  {
   "cell_type": "markdown",
   "id": "edeccde8-af78-45af-9264-a59502af03e6",
   "metadata": {},
   "source": [
    "### Purpose\n",
    "Given the FAF5 regional association with counties and the county population, create an OD matrix (state_orig, county_orig, state_dest, county_dest)=tons"
   ]
  },
  {
   "cell_type": "code",
   "execution_count": 22,
   "id": "316d674a-ef9a-4724-8200-6c1b4d9f6f75",
   "metadata": {},
   "outputs": [],
   "source": [
    "TARGET_FIELD = 'tons_2022'\n",
    "TOLERANCE = 1e-5"
   ]
  },
  {
   "cell_type": "code",
   "execution_count": 5,
   "id": "2aea2cec-1b06-465b-978b-f9108085e8de",
   "metadata": {},
   "outputs": [],
   "source": [
    "county_pop_pdf = pd.read_csv(CACHE_PATH / 'raw/co-est2022-alldata.csv',dtype={'STATE':str,'COUNTY':str})"
   ]
  },
  {
   "cell_type": "code",
   "execution_count": 6,
   "id": "2ca1b3d2-3ba3-4f86-8d7b-6d9bff7697b2",
   "metadata": {},
   "outputs": [],
   "source": [
    "with open(CACHE_PATH / 'faf_id_to_county_areas','rb') as fp:\n",
    "    faf_id_to_county_id_map = pickle.load(fp)"
   ]
  },
  {
   "cell_type": "code",
   "execution_count": 7,
   "id": "9bbe496b-7842-467a-93dd-36960ae6da95",
   "metadata": {},
   "outputs": [],
   "source": [
    "actual_state_county_to_pop_map = dict()\n",
    "for row in county_pop_pdf.loc[county_pop_pdf['COUNTY']!='000'].itertuples(): # ignore state totals\n",
    "    actual_state_county_to_pop_map[(row.STATE,row.COUNTY)]=row.POPESTIMATE2022"
   ]
  },
  {
   "cell_type": "code",
   "execution_count": 9,
   "id": "fdb31ffb-4b10-4bbb-ae58-6e6120884ba3",
   "metadata": {},
   "outputs": [],
   "source": [
    "faf_id_to_county_id_population_map = defaultdict(dict)\n",
    "\n",
    "# look up the county population within each faf zone\n",
    "for faf_id, vals in faf_id_to_county_id_map.items():\n",
    "    for (state_id, county_id), pct_county_in_faf in vals.items():\n",
    "        faf_id_to_county_id_population_map[faf_id][(state_id, county_id)] = actual_state_county_to_pop_map[(state_id, county_id)]*pct_county_in_faf"
   ]
  },
  {
   "cell_type": "code",
   "execution_count": 10,
   "id": "b22c61b7-4ff9-4356-b698-51f7bc7a6cce",
   "metadata": {},
   "outputs": [],
   "source": [
    "faf_total_population_map = dict()\n",
    "for faf_id, vals_dict in faf_id_to_county_id_population_map.items():\n",
    "    faf_total_population_map[faf_id] = sum(vals_dict.values())\n",
    "\n",
    "# check that the totals are equal\n",
    "assert sum(actual_state_county_to_pop_map.values()) == sum(faf_total_population_map.values())"
   ]
  },
  {
   "cell_type": "code",
   "execution_count": 11,
   "id": "8ba798c8-8369-4218-b124-56b103b51f4d",
   "metadata": {},
   "outputs": [],
   "source": [
    "# determine the percentage of the faf demand that should be allocated to the county based on the allocation metric of interest\n",
    "faf_id_to_county_percent_map = defaultdict(dict)\n",
    "for faf_id, vals in faf_id_to_county_id_population_map.items():\n",
    "    for (state_id, county_id), population_portion in vals.items():\n",
    "        faf_id_to_county_percent_map[faf_id][(state_id, county_id)]=population_portion/faf_total_population_map[faf_id]\n",
    "\n",
    "# confirm that all the faf ids have a \"total\" allocation that sums to 1 (within some tolerance)\n",
    "assert all([abs(sum(pop_map.values())-1)<TOLERANCE for pop_map in faf_id_to_county_percent_map.values()])"
   ]
  },
  {
   "cell_type": "code",
   "execution_count": 12,
   "id": "a131478b-fc5a-42e7-8bba-bab04f8e2e5d",
   "metadata": {},
   "outputs": [],
   "source": [
    "target_path = CACHE_PATH / 'raw/faf5_demand.zip'\n",
    "zip = ZipFile(target_path)\n",
    "with tempfile.TemporaryDirectory() as tmpdirname:\n",
    "    zip.extractall(path=tmpdirname)\n",
    "    target_csvs = [f for f in zip.namelist() if f.endswith('csv')]\n",
    "    faf_pdf = pd.read_csv(zip.open(target_csvs[0]),dtype={'dms_orig':str, 'dms_dest':str})\n",
    "    zip.close()"
   ]
  },
  {
   "cell_type": "code",
   "execution_count": 13,
   "id": "3b3516df-0bf7-4cc9-9c56-a3935babc48d",
   "metadata": {},
   "outputs": [],
   "source": [
    "# faf_mode_map = {\n",
    "#     1:  'Truck',\n",
    "#     2:\t'Rail',\n",
    "#     3:\t'Water',\n",
    "#     4:\t'Air (include truck-air)',\n",
    "#     5:\t'Multiple modes & mail',\n",
    "#     6:\t'Pipeline',\n",
    "#     7:\t'Other and unknown',\n",
    "#     8:\t'No domestic mode',\n",
    "# }"
   ]
  },
  {
   "cell_type": "code",
   "execution_count": 14,
   "id": "dba72851-78a7-46aa-8fa9-2c6cbd8a16c5",
   "metadata": {},
   "outputs": [],
   "source": [
    "is_by_truck = faf_pdf['dms_mode']==1 # by truck\n",
    "faf_truck_pdf = faf_pdf.loc[is_by_truck]\n",
    "total_road_tons_od_pdf = faf_truck_pdf.groupby(['dms_orig','dms_dest'],as_index=False)[[TARGET_FIELD]].sum()"
   ]
  },
  {
   "cell_type": "code",
   "execution_count": 23,
   "id": "15100fce-2c4e-4f6f-b6b4-90e853a4a214",
   "metadata": {},
   "outputs": [
    {
     "name": "stdout",
     "output_type": "stream",
     "text": [
      "CPU times: total: 7.34 s\n",
      "Wall time: 7.33 s\n"
     ]
    }
   ],
   "source": [
    "%%time\n",
    "# create a (state_orig, county_orig, state_dest, county_dest) => tons map\n",
    "county_od = defaultdict(float)\n",
    "for row in total_road_tons_od_pdf.itertuples():\n",
    "    constituent_orig_counties_map = faf_id_to_county_percent_map[row.dms_orig]\n",
    "    constituent_dest_counties_map = faf_id_to_county_percent_map[row.dms_dest]\n",
    "    for (state_orig, county_orig), pct_in_county_orig in constituent_orig_counties_map.items():\n",
    "        for (state_dest, county_dest), pct_in_county_dest in constituent_dest_counties_map.items():\n",
    "            county_od[(state_orig, county_orig, state_dest, county_dest)] += getattr(row,TARGET_FIELD)*pct_in_county_orig*pct_in_county_dest\n",
    "\n",
    "assert abs(total_road_tons_od_pdf[TARGET_FIELD].sum()-sum(county_od.values()))<TOLERANCE"
   ]
  },
  {
   "cell_type": "code",
   "execution_count": 24,
   "id": "3c13c0dc-427d-4b1d-a06b-446ebdc46ccf",
   "metadata": {},
   "outputs": [
    {
     "data": {
      "text/plain": [
       "9835245"
      ]
     },
     "execution_count": 24,
     "metadata": {},
     "output_type": "execute_result"
    }
   ],
   "source": [
    "len(county_od)"
   ]
  },
  {
   "cell_type": "code",
   "execution_count": 26,
   "id": "b13c78ee-c7e7-4925-b1dd-9ea3aed48945",
   "metadata": {},
   "outputs": [],
   "source": [
    "county_od_tuples = [(*k, v) for k,v in county_od.items()]"
   ]
  },
  {
   "cell_type": "code",
   "execution_count": 27,
   "id": "81d24afb-58f9-4a22-8cb4-4e7511cc6f1c",
   "metadata": {},
   "outputs": [],
   "source": [
    "county_od_pdf = pd.DataFrame(county_od_tuples,columns=['state_orig','county_orig','state_dest','county_dest','tons'])"
   ]
  },
  {
   "cell_type": "code",
   "execution_count": 28,
   "id": "cf5fb4fd-6d28-4ee5-8e89-bdc9d0a69a95",
   "metadata": {},
   "outputs": [
    {
     "data": {
      "text/html": [
       "<div>\n",
       "<style scoped>\n",
       "    .dataframe tbody tr th:only-of-type {\n",
       "        vertical-align: middle;\n",
       "    }\n",
       "\n",
       "    .dataframe tbody tr th {\n",
       "        vertical-align: top;\n",
       "    }\n",
       "\n",
       "    .dataframe thead th {\n",
       "        text-align: right;\n",
       "    }\n",
       "</style>\n",
       "<table border=\"1\" class=\"dataframe\">\n",
       "  <thead>\n",
       "    <tr style=\"text-align: right;\">\n",
       "      <th></th>\n",
       "      <th>tons</th>\n",
       "    </tr>\n",
       "  </thead>\n",
       "  <tbody>\n",
       "    <tr>\n",
       "      <th>count</th>\n",
       "      <td>9.835245e+06</td>\n",
       "    </tr>\n",
       "    <tr>\n",
       "      <th>mean</th>\n",
       "      <td>1.287026e+00</td>\n",
       "    </tr>\n",
       "    <tr>\n",
       "      <th>std</th>\n",
       "      <td>7.544484e+01</td>\n",
       "    </tr>\n",
       "    <tr>\n",
       "      <th>min</th>\n",
       "      <td>0.000000e+00</td>\n",
       "    </tr>\n",
       "    <tr>\n",
       "      <th>25%</th>\n",
       "      <td>1.947237e-03</td>\n",
       "    </tr>\n",
       "    <tr>\n",
       "      <th>50%</th>\n",
       "      <td>1.113167e-02</td>\n",
       "    </tr>\n",
       "    <tr>\n",
       "      <th>75%</th>\n",
       "      <td>6.795850e-02</td>\n",
       "    </tr>\n",
       "    <tr>\n",
       "      <th>max</th>\n",
       "      <td>8.937358e+04</td>\n",
       "    </tr>\n",
       "  </tbody>\n",
       "</table>\n",
       "</div>"
      ],
      "text/plain": [
       "               tons\n",
       "count  9.835245e+06\n",
       "mean   1.287026e+00\n",
       "std    7.544484e+01\n",
       "min    0.000000e+00\n",
       "25%    1.947237e-03\n",
       "50%    1.113167e-02\n",
       "75%    6.795850e-02\n",
       "max    8.937358e+04"
      ]
     },
     "execution_count": 28,
     "metadata": {},
     "output_type": "execute_result"
    }
   ],
   "source": [
    "county_od_pdf.describe()"
   ]
  },
  {
   "cell_type": "code",
   "execution_count": 19,
   "id": "64087929-8eee-4100-80f0-c9b1f8022640",
   "metadata": {},
   "outputs": [
    {
     "data": {
      "text/plain": [
       "5.305011000119845"
      ]
     },
     "execution_count": 19,
     "metadata": {},
     "output_type": "execute_result"
    }
   ],
   "source": [
    "county_od_pdf['tons'].quantile(.98)"
   ]
  },
  {
   "cell_type": "code",
   "execution_count": 20,
   "id": "3737da43-0199-4e75-8857-0d0972bc82ed",
   "metadata": {},
   "outputs": [],
   "source": [
    "non_zero_county_od_pdf = county_od_pdf.loc[county_od_pdf['tons']>0].sort_values('tons')"
   ]
  },
  {
   "cell_type": "code",
   "execution_count": 21,
   "id": "865ae98a-9530-43ae-828d-5a0b9c0b515b",
   "metadata": {},
   "outputs": [],
   "source": [
    "non_zero_county_od_pdf['cum_tons'] = non_zero_county_od_pdf['tons'].cumsum()"
   ]
  },
  {
   "cell_type": "code",
   "execution_count": 22,
   "id": "f28d8fa0-549c-4797-9fd9-486caa27f86b",
   "metadata": {},
   "outputs": [
    {
     "data": {
      "text/plain": [
       "<Axes: >"
      ]
     },
     "execution_count": 22,
     "metadata": {},
     "output_type": "execute_result"
    },
    {
     "data": {
      "image/png": "[encoded data removed]",
      "text/plain": [
       "<Figure size 640x480 with 1 Axes>"
      ]
     },
     "metadata": {},
     "output_type": "display_data"
    }
   ],
   "source": [
    "non_zero_county_od_pdf['cum_tons'].quantile(q=np.linspace(0,1,50)).plot()"
   ]
  },
  {
   "cell_type": "code",
   "execution_count": 27,
   "id": "eb9c78c8-6896-4bc5-a1c0-1b092ce450ed",
   "metadata": {},
   "outputs": [],
   "source": [
    "# save as a parquet file to reduce file size\n",
    "target_path = CACHE_PATH / 'data/transformed/county_od.parquet'\n",
    "Path(os.path.dirname(target_path)).mkdir(parents=True,exist_ok=True)\n",
    "county_od_pdf.to_parquet(target_path)"
   ]
  }
 ],
 "metadata": {
  "kernelspec": {
   "display_name": "Python 3 (ipykernel)",
   "language": "python",
   "name": "python3"
  },
  "language_info": {
   "codemirror_mode": {
    "name": "ipython",
    "version": 3
   },
   "file_extension": ".py",
   "mimetype": "text/x-python",
   "name": "python",
   "nbconvert_exporter": "python",
   "pygments_lexer": "ipython3",
   "version": "3.11.7"
  }
 },
 "nbformat": 4,
 "nbformat_minor": 5
}
