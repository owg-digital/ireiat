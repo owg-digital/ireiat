{
 "cells": [
  {
   "cell_type": "code",
   "execution_count": 22,
   "id": "96d94dbe-1089-47df-9adc-82082d427c4f",
   "metadata": {},
   "outputs": [],
   "source": [
    "import pickle\n",
    "import pandas as pd\n",
    "pd.set_option('display.max_columns',None)\n",
    "import itertools\n",
    "from functools import partial\n",
    "from collections import defaultdict\n",
    "import numpy as np\n",
    "import geopandas as gpd\n",
    "from typing import Set, Tuple, List, Dict, Optional\n",
    "import igraph\n",
    "import random\n",
    "import logging\n",
    "from pathlib import Path\n",
    "import time\n",
    "import networkx as nx\n",
    "from zipfile import ZipFile\n",
    "import os"
   ]
  },
  {
   "cell_type": "code",
   "execution_count": null,
   "id": "f19989f9-25b3-4a55-acb7-f2ffa4a26c95",
   "metadata": {},
   "outputs": [],
   "source": [
    "x"
   ]
  },
  {
   "cell_type": "code",
   "execution_count": 2,
   "id": "5bec4f42-b38e-448a-8bda-8d2c1c35e9e7",
   "metadata": {},
   "outputs": [],
   "source": [
    "import dyntapy"
   ]
  },
  {
   "cell_type": "code",
   "execution_count": 6,
   "id": "26df1556-e647-49c9-a350-1d846373d525",
   "metadata": {},
   "outputs": [],
   "source": [
    "g = dyntapy.supply_data.get_toy_network('cascetta')"
   ]
  },
  {
   "cell_type": "code",
   "execution_count": 15,
   "id": "c1540a79-885c-4ea4-936b-83db01323b55",
   "metadata": {},
   "outputs": [
    {
     "data": {
      "text/plain": [
       "NodeDataView({1: {'x_coord': 2, 'y_coord': 1.4142135623730951, 'ctrl_type': 'none'}, 2: {'x_coord': 3.414213562373095, 'y_coord': 2.8284271247461903, 'ctrl_type': 'none'}, 3: {'x_coord': 3.414213562373095, 'y_coord': 0, 'ctrl_type': 'none'}, 4: {'x_coord': 4.82842712474619, 'y_coord': 1.4142135623730951, 'ctrl_type': 'none'}})"
      ]
     },
     "execution_count": 15,
     "metadata": {},
     "output_type": "execute_result"
    }
   ],
   "source": [
    "g.nodes(data=True)"
   ]
  },
  {
   "cell_type": "code",
   "execution_count": 16,
   "id": "27705baf-bc05-4b49-8c63-45706a54baa6",
   "metadata": {},
   "outputs": [
    {
     "data": {
      "text/plain": [
       "OutEdgeDataView([(1, 2, {'length': 2.0, 'capacity': 2000, 'free_speed': 80, 'lanes': 1}), (1, 3, {'length': 2.0, 'capacity': 2000, 'free_speed': 80, 'lanes': 1}), (2, 3, {'length': 2.8284271247461903, 'capacity': 500, 'free_speed': 120, 'lanes': 1}), (2, 4, {'length': 2.0, 'capacity': 2000, 'free_speed': 80, 'lanes': 1}), (2, 1, {'length': 2.0, 'capacity': 2000, 'free_speed': 80, 'lanes': 1}), (3, 4, {'length': 2.0, 'capacity': 500, 'free_speed': 120, 'lanes': 1}), (3, 2, {'length': 2.8284271247461903, 'capacity': 500, 'free_speed': 120, 'lanes': 1}), (3, 1, {'length': 2.0, 'capacity': 2000, 'free_speed': 80, 'lanes': 1}), (4, 3, {'length': 2.0, 'capacity': 500, 'free_speed': 120, 'lanes': 1}), (4, 2, {'length': 2.0, 'capacity': 2000, 'free_speed': 80, 'lanes': 1})])"
      ]
     },
     "execution_count": 16,
     "metadata": {},
     "output_type": "execute_result"
    }
   ],
   "source": [
    "g.edges(data=True)"
   ]
  },
  {
   "cell_type": "markdown",
   "id": "1911c352-2869-4fa7-ac3e-028e39e3f618",
   "metadata": {},
   "source": [
    "### Create a highway network"
   ]
  },
  {
   "cell_type": "code",
   "execution_count": 2,
   "id": "aff6a9f9-bef2-4674-b599-24260e28fb8a",
   "metadata": {},
   "outputs": [],
   "source": [
    "target_path = '../data/raw/fa5_highway_links.zip'\n",
    "faf5_links_gdf = gpd.read_file(target_path)"
   ]
  },
  {
   "cell_type": "code",
   "execution_count": 12,
   "id": "2ae341bd-f922-4b93-af60-f7cab8378eb5",
   "metadata": {},
   "outputs": [],
   "source": [
    "faf5_links_gdf = faf5_links_gdf.to_crs(\"EPSG:4326\")"
   ]
  },
  {
   "cell_type": "code",
   "execution_count": 31,
   "id": "e5c6ff9f-bb60-4c60-aada-f302a69bd60f",
   "metadata": {},
   "outputs": [],
   "source": [
    "# faf5_links_gdf.loc[faf5_links_gdf['state'].isin(['NY','NJ']),['geometry']].explore()"
   ]
  },
  {
   "cell_type": "code",
   "execution_count": 13,
   "id": "74590747-1436-4b93-b2c9-aeeda0078028",
   "metadata": {},
   "outputs": [
    {
     "name": "stdout",
     "output_type": "stream",
     "text": [
      "CPU times: total: 13.6 s\n",
      "Wall time: 13.6 s\n"
     ]
    }
   ],
   "source": [
    "%%time\n",
    "# 6th decimal place is 0.11m in lat/long. IF you go to greater granularity you still get the same number of nodes\n",
    "# https://gis.stackexchange.com/questions/8650/measuring-accuracy-of-latitude-and-longitude\n",
    "round_to_digits = partial(round,ndigits=6)\n",
    "def map_start_end_lat_long(row):\n",
    "    \"\"\" Each LINESTRING object consists of lat/longs - and the bounds get the extreme endpoints\"\"\"\n",
    "    long_start, lat_start = map(round_to_digits,  row.geometry.coords[0])\n",
    "    long_end, lat_end = map(round_to_digits,  row.geometry.coords[-1])\n",
    "    # return (row.objectid, row.length, (lat_start, long_start), (lat_end, long_end))\n",
    "    if row.dir==1: # A-> B only\n",
    "        return [(row.objectid, row.length, row.ctfips, (lat_start, long_start), (lat_end, long_end))]\n",
    "    elif row.dir==-1: # B->A only\n",
    "        return [(row.objectid, row.length, row.ctfips, (lat_end, long_end), (lat_start, long_start))]\n",
    "    else:\n",
    "        return [(row.objectid, row.length, row.ctfips, (lat_start, long_start), (lat_end, long_end)),\n",
    "                (row.objectid, row.length, row.ctfips, (lat_end, long_end), (lat_start, long_start))]\n",
    "\n",
    "\n",
    "# we iterate through the set of links in parallel, extracting formatted endpoints\n",
    "edge_data = list(itertools.chain.from_iterable([map_start_end_lat_long(row) for row in faf5_links_gdf.itertuples()]))\n",
    "# edge_data = [map_start_end_lat_long(row) for row in faf5_links_gdf.itertuples()]"
   ]
  },
  {
   "cell_type": "code",
   "execution_count": 14,
   "id": "3158f57f-567b-4918-8535-e76c4e615bfa",
   "metadata": {},
   "outputs": [],
   "source": [
    "# create a list of county to node dicts\n",
    "county_to_node_dict = defaultdict(list)\n",
    "for obj, length, ctfips, lat_long_start, lat_long_end in edge_data:\n",
    "    if ctfips:\n",
    "        state, county = ctfips[:2], ctfips[2:]\n",
    "        county_to_node_dict[(state,county)].append(lat_long_start)\n",
    "        county_to_node_dict[(state,county)].append(lat_long_end)"
   ]
  },
  {
   "cell_type": "code",
   "execution_count": 16,
   "id": "6d6567ab-c9bc-4e65-8ac6-8d12d180393e",
   "metadata": {},
   "outputs": [],
   "source": [
    "# from the formatted endpoints, we create unique nodes, indexed from 0\n",
    "node_set: Set[Tuple[float, float]] = {(lat,long) for record in edge_data for lat,long in record[3:]}\n",
    "node_dict: Dict[Tuple[float, float], int] = {node_lat_long: idx for idx, node_lat_long in enumerate(node_set)}\n",
    "inv_node_dict: Dict[int, Tuple[float, float]] = {v: k for k,v in node_dict.items()}\n",
    "\n",
    "# we then map back all the edges\n",
    "n_vertices = len(node_set)\n",
    "edge_object_ids = [obj_id for obj_id, _, _, _, _ in edge_data]\n",
    "edges = [[node_dict[start_node], node_dict[end_node]] for _, _, _, start_node, end_node in edge_data]\n",
    "edge_distances = [distance for _, distance, _, _, _ in edge_data]\n",
    "\n",
    "# and we create the highway graph and output it\n",
    "highway_graph = igraph.Graph(n=n_vertices, \n",
    "                             edges=edges, \n",
    "                             edge_attrs={'weight':edge_distances}\n",
    "                            )\n",
    "highway_graph.write_gml(\"../data/transformed/highway.gml\")"
   ]
  },
  {
   "cell_type": "code",
   "execution_count": 17,
   "id": "f64f1c1d-e2c5-49f0-b385-1e7d1e0b0a62",
   "metadata": {},
   "outputs": [],
   "source": [
    "with open('../data/transformed/county_to_node_dict.pickle','wb') as fp:\n",
    "    pickle.dump(county_to_node_dict, fp)"
   ]
  },
  {
   "cell_type": "code",
   "execution_count": 18,
   "id": "98b488e8-4047-4ef7-acc7-9f9d919ad597",
   "metadata": {},
   "outputs": [],
   "source": [
    "with open('../data/transformed/node_dict.pickle','wb') as fp:\n",
    "    pickle.dump(node_dict, fp)"
   ]
  },
  {
   "cell_type": "markdown",
   "id": "42811907-ae83-4fa7-8718-41f14a952388",
   "metadata": {},
   "source": [
    "### Load the county OD data and select a random node to associate all county data"
   ]
  },
  {
   "cell_type": "code",
   "execution_count": 19,
   "id": "a26d5f6f-f5ed-4724-8bf4-208ec41dd010",
   "metadata": {},
   "outputs": [],
   "source": [
    "logger = logging.getLogger()"
   ]
  },
  {
   "cell_type": "code",
   "execution_count": 49,
   "id": "6fd51cad-c6bd-4b3a-bcd6-60c9fa1dcd94",
   "metadata": {},
   "outputs": [],
   "source": [
    "county_od = pd.read_parquet('../data/transformed/county_od.parquet')"
   ]
  },
  {
   "cell_type": "code",
   "execution_count": 21,
   "id": "a79abd7f-025b-4103-8b7d-24a030d495e3",
   "metadata": {},
   "outputs": [],
   "source": [
    "logger.info(\"Reading highway graph\")\n",
    "highway_graph = igraph.read(\"../data/transformed/highway.gml\")\n",
    "with open('../data/transformed/county_to_node_dict.pickle', 'rb') as fp:\n",
    "    county_to_graph_node_dict = pickle.load(fp)\n",
    "with open('../data/transformed/node_dict.pickle', 'rb') as fp:\n",
    "    graph_node_dict = pickle.load(fp)"
   ]
  },
  {
   "cell_type": "code",
   "execution_count": 90,
   "id": "6d1313c7-dd0d-4f9f-a512-131d158f6f59",
   "metadata": {},
   "outputs": [],
   "source": [
    "county_od_sample = county_od.head(200)"
   ]
  },
  {
   "cell_type": "code",
   "execution_count": 91,
   "id": "5cde4435-2e39-4fd7-b227-7da94c3f4cfc",
   "metadata": {},
   "outputs": [
    {
     "name": "stdout",
     "output_type": "stream",
     "text": [
      "CPU times: total: 7.09 s\n",
      "Wall time: 7.11 s\n"
     ]
    }
   ],
   "source": [
    "%%time\n",
    "\n",
    "def get_nodes(row) -> Tuple[Optional[float],Optional[float]]:\n",
    "    candidate_origin_nodes = county_to_node_dict[(row.state_orig,row.county_orig)]\n",
    "    candidate_dest_nodes = county_to_node_dict[(row.state_dest,row.county_dest)]\n",
    "    if not (candidate_origin_nodes and candidate_dest_nodes):\n",
    "        return (-1, -1)\n",
    "    src_node_id = node_dict[random.choice(candidate_origin_nodes)]\n",
    "    dest_node_id = node_dict[random.choice(candidate_dest_nodes)]\n",
    "    return (src_node_id, dest_node_id)\n",
    "    \n",
    "# counter = 0\n",
    "\n",
    "def shortest_path_from_county_od_row(row):\n",
    "    src_node_id, dest_node_id = get_nodes(row)\n",
    "    if src_node_id > 0 and dest_node_id > 0:\n",
    "        path_edges=highway_graph.get_shortest_path(src_node_id,\n",
    "                                   to=dest_node_id,\n",
    "                                   weights=highway_graph.es['weight'],\n",
    "                                   output=\"epath\"\n",
    "                                   )\n",
    "        return {'county_od_index': row.Index, 'result': np.array(path_edges)}\n",
    "    return {'county_od_index': row.Index, 'result': np.array([])}\n",
    "    \n",
    "start = time.perf_counter()\n",
    "\n",
    "\n",
    "result = [shortest_path_from_county_od_row(row) for row in county_od_sample.itertuples()]\n",
    "\n",
    "\n",
    "    # counter += 1\n",
    "    # if counter > 500:\n",
    "    #     break\n",
    "stop = time.perf_counter()\n",
    "logger.info(f\"Ran in {stop - start:.1f} seconds\")"
   ]
  },
  {
   "cell_type": "code",
   "execution_count": 92,
   "id": "b53513c1-0cbc-483c-9832-82e117a5205c",
   "metadata": {},
   "outputs": [],
   "source": [
    "pd.DataFrame(result).to_parquet('../data/transformed/naive_result.parquet')"
   ]
  },
  {
   "cell_type": "code",
   "execution_count": 93,
   "id": "f9e13a05-2195-4691-96d3-b8d70b8e1549",
   "metadata": {},
   "outputs": [],
   "source": [
    "with open('../data/transformed/naive_result.pickle','wb') as fp:\n",
    "    pickle.dump(result, fp)"
   ]
  },
  {
   "cell_type": "markdown",
   "id": "ed865a93-ef78-4bac-84d9-d9fa114afee2",
   "metadata": {},
   "source": [
    "1. Methods for stuff\n",
    "\n",
    "* all or nothing assignment [naive \"lowest\" impedance path for each O-D pair. does not take into account congestion]\n",
    "* sequential congestion assignment [order-dependent! not straighforwardly parallelizable. not obvious what the congestion function is...]\n",
    "* probablistic assignment on top k \"low impedance\" candidate paths [picking candidates is hard]\n",
    "* really cool convex programming problem [intractable]\n",
    "    - for all flow paths between O-D, have some power (quadratic?) cost function with constraints"
   ]
  }
 ],
 "metadata": {
  "kernelspec": {
   "display_name": "Python 3 (ipykernel)",
   "language": "python",
   "name": "python3"
  },
  "language_info": {
   "codemirror_mode": {
    "name": "ipython",
    "version": 3
   },
   "file_extension": ".py",
   "mimetype": "text/x-python",
   "name": "python",
   "nbconvert_exporter": "python",
   "pygments_lexer": "ipython3",
   "version": "3.11.7"
  }
 },
 "nbformat": 4,
 "nbformat_minor": 5
}
