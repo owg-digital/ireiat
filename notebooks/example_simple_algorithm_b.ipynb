{
 "cells": [
  {
   "cell_type": "code",
   "execution_count": 49,
   "id": "96d94dbe-1089-47df-9adc-82082d427c4f",
   "metadata": {},
   "outputs": [],
   "source": [
    "import pickle\n",
    "import pandas as pd\n",
    "pd.set_option('display.max_columns',None)\n",
    "import itertools\n",
    "from functools import partial\n",
    "from collections import defaultdict\n",
    "\n",
    "import numpy as np\n",
    "from dyntapy import get_toy_network\n",
    "from dyntapy.visualization import show_network, show_demand\n",
    "from dyntapy.supply_data import relabel_graph\n",
    "from dyntapy.demand_data import od_graph_from_matrix, add_centroids\n",
    "from dyntapy.results import get_od_flows\n",
    "from dyntapy.assignments import StaticAssignment\n",
    "\n",
    "import geopandas as gpd\n",
    "from typing import Set, Tuple, List, Dict, Optional\n",
    "import igraph\n",
    "import random\n",
    "import logging\n",
    "from pathlib import Path\n",
    "from pickle import load\n",
    "import time\n",
    "import networkx as nx\n",
    "from zipfile import ZipFile\n",
    "import os\n",
    "\n",
    "# requires local installation of ireiat package using \n",
    "from ireiat.util.cacheable import CACHE_PATH"
   ]
  },
  {
   "cell_type": "markdown",
   "id": "d6fc00f1-2221-4237-8708-7df9e7392121",
   "metadata": {},
   "source": [
    "## Set up a toy problem from scratch"
   ]
  },
  {
   "cell_type": "code",
   "execution_count": 103,
   "id": "da46c0b8-2164-4156-bf85-685e37941a1d",
   "metadata": {},
   "outputs": [],
   "source": [
    "# make a graph\n",
    "g = nx.DiGraph()\n",
    "\n",
    "# (node_id, x, y)\n",
    "nodes = [(1,2,np.sqrt(2)),\n",
    "         (2,3.414213562373095,2.8284271247461903),\n",
    "         (3,3.414213562373095,0),\n",
    "         (4,4.82842712474619,np.sqrt(2))]\n",
    "for n,x,y in nodes:\n",
    "    g.add_node(n,x_coord=x,y_coord=y)\n",
    "\n",
    "# (u,v, length, capacity, free_speed)\n",
    "edges  = [(1,2,2,2000,80),\n",
    "          (2,4,2,2000,80),\n",
    "          (1,3,2,2000,80),\n",
    "          (3,4,2,500,120)]\n",
    "\n",
    "for u,v,length,capacity,free_speed in edges:\n",
    "    g.add_edge(u,v,length=length,capacity=capacity,free_speed=free_speed,lanes=1)\n",
    "    g.add_edge(v,u,length=length,capacity=capacity,free_speed=free_speed,lanes=1)\n",
    "\n",
    "# make centroids\n",
    "centroid_nodes = [(5,1,1),\n",
    "                   (6,7,1)]\n",
    "delta = .1\n",
    "turn_nodes = [(7,1,1+delta),\n",
    "              (8,7,1+delta)]\n",
    "\n",
    "for n,x,y in centroid_nodes:\n",
    "    g.add_node(n,x_coord=x,y_coord=y,centroid=True)\n",
    "for n,x,y in turn_nodes:\n",
    "    g.add_node(n,x_coord=x,y_coord=y)\n",
    "\n",
    "# (u,v, length, capacity, free_speed)\n",
    "CONNECTOR_CAPACITY = 100000\n",
    "CONNECTOR_FREE_SPEED = 1000\n",
    "CONNECTOR_LENGTH = .001\n",
    "s = [CONNECTOR_LENGTH,CONNECTOR_CAPACITY,CONNECTOR_FREE_SPEED]\n",
    "connector_edges = [(5,7,*s),\n",
    "                   (7,1,*s),\n",
    "                   (6,8,*s),\n",
    "                   (8,4,*s)]\n",
    "\n",
    "# straigh from centroid to graph\n",
    "# connector_edges = [(5,1,*s),\n",
    "#                    (6,4,*s)]\n",
    "\n",
    "for u,v,length,capacity,free_speed in connector_edges:\n",
    "    g.add_edge(u,v,length=length,capacity=capacity,free_speed=free_speed,connector=True,lanes=1)\n",
    "    g.add_edge(v,u,length=length,capacity=capacity,free_speed=free_speed,connector=True,lanes=1)\n",
    "\n",
    "labeled_g = relabel_graph(g)\n",
    "show_network(labeled_g,euclidean=True)"
   ]
  },
  {
   "cell_type": "code",
   "execution_count": 99,
   "id": "4ab3b86a-a703-4f86-ae7d-fe0d254f20ec",
   "metadata": {},
   "outputs": [],
   "source": [
    "# build the OD graph\n",
    "od_graph = nx.DiGraph()\n",
    "for idx, (n,x,y) in enumerate(centroid_nodes):\n",
    "    od_graph.add_node(idx,x_coord=x,y_coord=y)\n",
    "od_graph.add_edge(0,1,flow=3000)"
   ]
  },
  {
   "cell_type": "code",
   "execution_count": 100,
   "id": "1fe6faac-39b8-487d-bbed-074dc09824a5",
   "metadata": {},
   "outputs": [
    {
     "name": "stdout",
     "output_type": "stream",
     "text": [
      "init passed successfully\n",
      "CPU times: total: 0 ns\n",
      "Wall time: 2.03 ms\n"
     ]
    }
   ],
   "source": [
    "%%time\n",
    "sa = StaticAssignment(labeled_g, od_graph)"
   ]
  },
  {
   "cell_type": "code",
   "execution_count": 101,
   "id": "0f2323e6-fc5c-4328-bcd7-9cb3ef64f57c",
   "metadata": {},
   "outputs": [
    {
     "name": "stdout",
     "output_type": "stream",
     "text": [
      "solution found, Dial B in iteration 1\n"
     ]
    }
   ],
   "source": [
    "result = sa.run(method='dial_b')"
   ]
  },
  {
   "cell_type": "code",
   "execution_count": 102,
   "id": "c80bd058-2a40-408f-8d24-5afaf772dae1",
   "metadata": {},
   "outputs": [
    {
     "data": {
      "text/plain": [
       "StaticResult(link_costs=array([1.00000012e-06, 9.99999997e-07, 3.02287889e-02, 2.51094650e-02,\n",
       "       9.99999997e-07, 2.50000004e-02, 3.02287889e-02, 2.50000004e-02,\n",
       "       3.53486378e-02, 2.50000004e-02, 1.66666675e-02, 1.00000012e-06,\n",
       "       9.99999997e-07, 1.00000012e-06, 1.00000012e-06, 9.99999997e-07]), flows=array([3000.        ,    0.        , 2173.31384199,  826.68615801,\n",
       "          0.        ,    0.        , 2173.31384199,    0.        ,\n",
       "        826.68615801,    0.        ,    0.        , 3000.        ,\n",
       "          0.        , 3000.        , 3000.        ,    0.        ]), origins=array([0], dtype=uint32), destinations=array([1], dtype=uint32), origin_flows=None, destination_flows=array([[3000.        ,    0.        , 2173.31384199,  826.68615801,\n",
       "           0.        ,    0.        , 2173.31384199,    0.        ,\n",
       "         826.68615801,    0.        ,    0.        , 3000.        ,\n",
       "           0.        , 3000.        , 3000.        ,    0.        ]]), skim=array([[0.06046158]]), gap_definition='epsilon=0.0001 converged destination - bushes divided by total origins, becomes 1 in equilibrium', gap=array([0., 1.]), od_flows=None)"
      ]
     },
     "execution_count": 102,
     "metadata": {},
     "output_type": "execute_result"
    }
   ],
   "source": [
    "result"
   ]
  },
  {
   "cell_type": "markdown",
   "id": "10d4fb08-e281-4c6c-ad25-c18c73453e74",
   "metadata": {},
   "source": [
    "### First let's solve a toy problem"
   ]
  },
  {
   "cell_type": "code",
   "execution_count": 63,
   "id": "356c7f73-dad0-46f8-9853-c7042aa65982",
   "metadata": {},
   "outputs": [],
   "source": [
    "# load a silly network\n",
    "g = get_toy_network('cascetta')\n",
    "labeled_g = relabel_graph(g)\n",
    "show_network(labeled_g, euclidean=True)"
   ]
  },
  {
   "cell_type": "code",
   "execution_count": 58,
   "id": "cf45ad57-86e8-4c2b-9560-25a728b34b62",
   "metadata": {},
   "outputs": [
    {
     "data": {
      "text/plain": [
       "NodeDataView({1: {'x_coord': 2, 'y_coord': 1.4142135623730951, 'ctrl_type': 'none', 'node_id': 0}, 2: {'x_coord': 3.414213562373095, 'y_coord': 2.8284271247461903, 'ctrl_type': 'none', 'node_id': 1}, 3: {'x_coord': 3.414213562373095, 'y_coord': 0, 'ctrl_type': 'none', 'node_id': 2}, 4: {'x_coord': 4.82842712474619, 'y_coord': 1.4142135623730951, 'ctrl_type': 'none', 'node_id': 3}})"
      ]
     },
     "execution_count": 58,
     "metadata": {},
     "output_type": "execute_result"
    }
   ],
   "source": [
    "g.nodes.data()"
   ]
  },
  {
   "cell_type": "code",
   "execution_count": 68,
   "id": "1f13657e-c51f-43b7-9a4b-81c9327374c1",
   "metadata": {},
   "outputs": [
    {
     "name": "stderr",
     "output_type": "stream",
     "text": [
      "C:\\Users\\nicholas.padon\\AppData\\Local\\Programs\\Python\\Python311\\Lib\\site-packages\\dyntapy\\demand_data.py:829: UserWarning: The `euclidean_dist_vec` function has been renamed `euclidean`. Calling `euclidean_dist_vec` will raise an error in a future release.\n",
      "  dists = euclidean_dist_vec(\n",
      "C:\\Users\\nicholas.padon\\AppData\\Local\\Programs\\Python\\Python311\\Lib\\site-packages\\dyntapy\\demand_data.py:829: UserWarning: The `euclidean_dist_vec` function has been renamed `euclidean`. Calling `euclidean_dist_vec` will raise an error in a future release.\n",
      "  dists = euclidean_dist_vec(\n"
     ]
    }
   ],
   "source": [
    "# we've picked some random centroids that are close to nodes 1 and 4 in the original graph\n",
    "centroid_x = np.array([1, 7])\n",
    "centroid_y = np.array([1, 1])\n",
    "\n",
    "# add these centroids as \"centroid\" nodes (against which O-D flows will be specified)\n",
    "# also automatically adds connectors (with capacities, etc.) from the centroids to the nearest nodes on the node-link graph\n",
    "fg = add_centroids(g, centroid_x, centroid_y, euclidean=True, method=\"turn\") # on the unlabeled graph\n",
    "fg = relabel_graph(fg)  # adding link and node ids, connectors and centroids\n",
    "show_network(fg, euclidean=True)"
   ]
  },
  {
   "cell_type": "code",
   "execution_count": 42,
   "id": "bd4f5145-8caa-4d7c-ab20-d230c61a1e63",
   "metadata": {},
   "outputs": [],
   "source": [
    "# and for the demand (we want 3000 demand going from centroid 0->1 (which corresponds to node 1->4 on the node-link graph)\n",
    "od_matrix = np.zeros(len(centroid_x)*len(centroid_y)).reshape((len(centroid_x), len(centroid_y)))\n",
    "od_matrix[0, 1] = 3000\n",
    "od_graph = od_graph_from_matrix(od_matrix, centroid_x, centroid_y)\n",
    "# nx.draw(od_graph,with_labels=True)"
   ]
  },
  {
   "cell_type": "code",
   "execution_count": 43,
   "id": "6e4bac3b-d889-4610-9bd9-2ed79f3cdfa7",
   "metadata": {},
   "outputs": [
    {
     "data": {
      "text/plain": [
       "NodeDataView({0: {'x_coord': 1, 'y_coord': 1}, 1: {'x_coord': 7, 'y_coord': 1}})"
      ]
     },
     "execution_count": 43,
     "metadata": {},
     "output_type": "execute_result"
    }
   ],
   "source": [
    "od_graph.nodes.data()"
   ]
  },
  {
   "cell_type": "code",
   "execution_count": 44,
   "id": "10cd48e7-cc55-4f17-8912-8c5282fe165e",
   "metadata": {},
   "outputs": [
    {
     "data": {
      "text/plain": [
       "OutEdgeDataView([(0, 1, {'flow': 3000.0})])"
      ]
     },
     "execution_count": 44,
     "metadata": {},
     "output_type": "execute_result"
    }
   ],
   "source": [
    "od_graph.edges.data()"
   ]
  },
  {
   "cell_type": "code",
   "execution_count": 45,
   "id": "8b6ef308-ed1e-4850-b360-200a6abad0d2",
   "metadata": {},
   "outputs": [
    {
     "name": "stdout",
     "output_type": "stream",
     "text": [
      "init passed successfully\n",
      "CPU times: total: 0 ns\n",
      "Wall time: 3.66 ms\n"
     ]
    }
   ],
   "source": [
    "%%time\n",
    "sa = StaticAssignment(fg, od_graph)"
   ]
  },
  {
   "cell_type": "code",
   "execution_count": 46,
   "id": "f74c0409-6070-4860-9895-62108696fe92",
   "metadata": {},
   "outputs": [
    {
     "name": "stdout",
     "output_type": "stream",
     "text": [
      "solution found, Dial B in iteration 1\n",
      "CPU times: total: 0 ns\n",
      "Wall time: 649 µs\n"
     ]
    }
   ],
   "source": [
    "%%time\n",
    "result = sa.run(method='dial_b') # uses numba, so first run needs compilation time"
   ]
  },
  {
   "cell_type": "code",
   "execution_count": 47,
   "id": "4e5a2a9b-7ddd-43ae-bd1a-2e06ce58d525",
   "metadata": {},
   "outputs": [
    {
     "data": {
      "text/plain": [
       "StaticResult(link_costs=array([5.41853649e-06, 1.10536212e-05, 2.50000004e-02, 4.39843757e-02,\n",
       "       5.41196096e-06, 2.35702265e-02, 2.59248024e-02, 2.50000004e-02,\n",
       "       2.72704162e-01, 2.46779622e-01, 2.50000004e-02, 1.66666675e-02,\n",
       "       2.50000004e-02, 1.10670513e-05]), flows=array([3000.        ,    0.        ,    0.        , 3000.        ,\n",
       "          0.        ,    0.        , 1409.40032808,    0.        ,\n",
       "       1590.59967192, 1409.40032808,    0.        ,    0.        ,\n",
       "          0.        , 3000.        ]), origins=array([0], dtype=uint32), destinations=array([1], dtype=uint32), origin_flows=None, destination_flows=array([[3000.        ,    0.        ,    0.        , 3000.        ,\n",
       "           0.        ,    0.        , 1409.40032808,    0.        ,\n",
       "        1590.59967192, 1409.40032808,    0.        ,    0.        ,\n",
       "           0.        , 3000.        ]]), skim=array([[0.05094129]]), gap_definition='epsilon=0.0001 converged destination - bushes divided by total origins, becomes 1 in equilibrium', gap=array([0., 1.]), od_flows=None)"
      ]
     },
     "execution_count": 47,
     "metadata": {},
     "output_type": "execute_result"
    }
   ],
   "source": [
    "result"
   ]
  },
  {
   "cell_type": "code",
   "execution_count": 40,
   "id": "17f04366-d6cd-4187-9d15-1e3450bc1238",
   "metadata": {},
   "outputs": [
    {
     "data": {
      "text/plain": [
       "[(3000.0,\n",
       "  (0,\n",
       "   6,\n",
       "   {'connector': True,\n",
       "    'length': 0.1,\n",
       "    'free_speed': 200.0,\n",
       "    'lanes': 10,\n",
       "    'capacity': 10000.0,\n",
       "    'link_type': 1,\n",
       "    'link_id': 0,\n",
       "    'from_node_id': 0,\n",
       "    'to_node_id': 6})),\n",
       " (2173.3139814415235,\n",
       "  (2,\n",
       "   3,\n",
       "   {'length': 2.0,\n",
       "    'capacity': 2000,\n",
       "    'free_speed': 80,\n",
       "    'lanes': 1,\n",
       "    'link_id': 2,\n",
       "    'from_node_id': 2,\n",
       "    'to_node_id': 3})),\n",
       " (826.6860185584768,\n",
       "  (2,\n",
       "   4,\n",
       "   {'length': 2.0,\n",
       "    'capacity': 2000,\n",
       "    'free_speed': 80,\n",
       "    'lanes': 1,\n",
       "    'link_id': 3,\n",
       "    'from_node_id': 2,\n",
       "    'to_node_id': 4})),\n",
       " (2173.3139814415235,\n",
       "  (3,\n",
       "   5,\n",
       "   {'length': 2.0,\n",
       "    'capacity': 2000,\n",
       "    'free_speed': 80,\n",
       "    'lanes': 1,\n",
       "    'link_id': 6,\n",
       "    'from_node_id': 3,\n",
       "    'to_node_id': 5})),\n",
       " (826.6860185584768,\n",
       "  (4,\n",
       "   5,\n",
       "   {'length': 2.0,\n",
       "    'capacity': 500,\n",
       "    'free_speed': 120,\n",
       "    'lanes': 1,\n",
       "    'link_id': 8,\n",
       "    'from_node_id': 4,\n",
       "    'to_node_id': 5})),\n",
       " (3000.0000000000005,\n",
       "  (5,\n",
       "   7,\n",
       "   {'connector': True,\n",
       "    'length': 0.0022107242315114544,\n",
       "    'free_speed': 200.0,\n",
       "    'lanes': 10,\n",
       "    'capacity': 10000.0,\n",
       "    'link_type': -1,\n",
       "    'link_id': 13,\n",
       "    'from_node_id': 5,\n",
       "    'to_node_id': 7})),\n",
       " (3000.0,\n",
       "  (6,\n",
       "   2,\n",
       "   {'connector': True,\n",
       "    'length': 0.001082392200292394,\n",
       "    'free_speed': 200.0,\n",
       "    'lanes': 10,\n",
       "    'capacity': 10000.0,\n",
       "    'link_type': 1,\n",
       "    'link_id': 15,\n",
       "    'from_node_id': 6,\n",
       "    'to_node_id': 2})),\n",
       " (3000.0,\n",
       "  (7,\n",
       "   1,\n",
       "   {'connector': True,\n",
       "    'length': 0.1,\n",
       "    'free_speed': 200.0,\n",
       "    'lanes': 10,\n",
       "    'capacity': 10000.0,\n",
       "    'link_type': -1,\n",
       "    'link_id': 16,\n",
       "    'from_node_id': 7,\n",
       "    'to_node_id': 1}))]"
      ]
     },
     "execution_count": 40,
     "metadata": {},
     "output_type": "execute_result"
    }
   ],
   "source": [
    "[(f, some_edge) for f, some_edge in zip(result.flows, fg.edges(data=True)) if \n",
    " #    some_edge[2].get('connector',False)==False and \n",
    " f > 0]"
   ]
  }
 ],
 "metadata": {
  "kernelspec": {
   "display_name": "Python 3 (ipykernel)",
   "language": "python",
   "name": "python3"
  },
  "language_info": {
   "codemirror_mode": {
    "name": "ipython",
    "version": 3
   },
   "file_extension": ".py",
   "mimetype": "text/x-python",
   "name": "python",
   "nbconvert_exporter": "python",
   "pygments_lexer": "ipython3",
   "version": "3.11.7"
  }
 },
 "nbformat": 4,
 "nbformat_minor": 5
}
