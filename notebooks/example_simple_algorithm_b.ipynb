{
 "cells": [
  {
   "cell_type": "code",
   "execution_count": 1,
   "id": "96d94dbe-1089-47df-9adc-82082d427c4f",
   "metadata": {},
   "outputs": [],
   "source": [
    "import pickle\n",
    "import pandas as pd\n",
    "pd.set_option('display.max_columns',None)\n",
    "import itertools\n",
    "from functools import partial\n",
    "from collections import defaultdict\n",
    "\n",
    "import numpy as np\n",
    "from dyntapy import get_toy_network\n",
    "from dyntapy.visualization import show_network, show_demand\n",
    "from dyntapy.supply_data import relabel_graph\n",
    "from dyntapy.demand_data import od_graph_from_matrix, add_centroids\n",
    "from dyntapy.results import get_od_flows\n",
    "from dyntapy.assignments import StaticAssignment\n",
    "\n",
    "import geopandas as gpd\n",
    "from typing import Set, Tuple, List, Dict, Optional\n",
    "import igraph\n",
    "import random\n",
    "import logging\n",
    "from pathlib import Path\n",
    "from pickle import load\n",
    "import time\n",
    "import networkx as nx\n",
    "from zipfile import ZipFile\n",
    "import os\n",
    "\n",
    "# requires local installation of ireiat package using \n",
    "from ireiat.util.cacheable import CACHE_PATH"
   ]
  },
  {
   "cell_type": "markdown",
   "id": "10d4fb08-e281-4c6c-ad25-c18c73453e74",
   "metadata": {},
   "source": [
    "### First let's solve a toy problem"
   ]
  },
  {
   "cell_type": "code",
   "execution_count": 2,
   "id": "356c7f73-dad0-46f8-9853-c7042aa65982",
   "metadata": {},
   "outputs": [
    {
     "name": "stderr",
     "output_type": "stream",
     "text": [
      "C:\\Users\\nicholas.padon\\AppData\\Local\\Programs\\Python\\Python311\\Lib\\site-packages\\dyntapy\\supply_data.py:824: UserWarning: The `euclidean_dist_vec` function has been renamed `euclidean`. Calling `euclidean_dist_vec` will raise an error in a future release.\n",
      "  data[\"length\"] = euclidean_dist_vec(y0, x0, y1, x1)\n"
     ]
    }
   ],
   "source": [
    "# load a silly network\n",
    "g = get_toy_network('cascetta')\n",
    "labeled_g = relabel_graph(g)\n",
    "# show_network(labeled_g, euclidean=True)"
   ]
  },
  {
   "cell_type": "code",
   "execution_count": 9,
   "id": "1f13657e-c51f-43b7-9a4b-81c9327374c1",
   "metadata": {},
   "outputs": [
    {
     "name": "stderr",
     "output_type": "stream",
     "text": [
      "C:\\Users\\nicholas.padon\\AppData\\Local\\Programs\\Python\\Python311\\Lib\\site-packages\\dyntapy\\demand_data.py:829: UserWarning: The `euclidean_dist_vec` function has been renamed `euclidean`. Calling `euclidean_dist_vec` will raise an error in a future release.\n",
      "  dists = euclidean_dist_vec(\n",
      "C:\\Users\\nicholas.padon\\AppData\\Local\\Programs\\Python\\Python311\\Lib\\site-packages\\dyntapy\\demand_data.py:829: UserWarning: The `euclidean_dist_vec` function has been renamed `euclidean`. Calling `euclidean_dist_vec` will raise an error in a future release.\n",
      "  dists = euclidean_dist_vec(\n"
     ]
    }
   ],
   "source": [
    "# we've picked some random centroids that are close to nodes 1 and 4 in the original graph\n",
    "centroid_x = np.array([1, 7])\n",
    "centroid_y = np.array([1, 1])\n",
    "\n",
    "# add these centroids as \"centroid\" nodes (against which O-D flows will be specified)\n",
    "# also automatically adds connectors (with capacities, etc.) from the centroids to the nearest nodes on the node-link graph\n",
    "fg = add_centroids(g, centroid_x, centroid_y, euclidean=True, method=\"link\") # on the unlabeled graph\n",
    "fg = relabel_graph(fg)  # adding link and node ids, connectors and centroids\n",
    "show_network(fg, euclidean=True)"
   ]
  },
  {
   "cell_type": "code",
   "execution_count": 39,
   "id": "bd4f5145-8caa-4d7c-ab20-d230c61a1e63",
   "metadata": {},
   "outputs": [
    {
     "data": {
      "image/png": "[encoded data removed]",
      "text/plain": [
       "<Figure size 640x480 with 1 Axes>"
      ]
     },
     "metadata": {},
     "output_type": "display_data"
    }
   ],
   "source": [
    "# and for the demand (we want 3000 demand going from centroid 0->1 (which corresponds to node 1->4 on the node-link graph)\n",
    "od_matrix = np.zeros(len(centroid_x)*len(centroid_y)).reshape((len(centroid_x), len(centroid_y)))\n",
    "od_matrix[0, 1] = 3000\n",
    "od_graph = od_graph_from_matrix(od_matrix, centroid_x, centroid_y)\n",
    "nx.draw(od_graph,with_labels=True)"
   ]
  },
  {
   "cell_type": "code",
   "execution_count": 44,
   "id": "6e4bac3b-d889-4610-9bd9-2ed79f3cdfa7",
   "metadata": {},
   "outputs": [
    {
     "data": {
      "text/plain": [
       "NodeDataView({0: {'x_coord': 1, 'y_coord': 1}, 1: {'x_coord': 7, 'y_coord': 1}})"
      ]
     },
     "execution_count": 44,
     "metadata": {},
     "output_type": "execute_result"
    }
   ],
   "source": [
    "od_graph.nodes.data()"
   ]
  },
  {
   "cell_type": "code",
   "execution_count": 43,
   "id": "10cd48e7-cc55-4f17-8912-8c5282fe165e",
   "metadata": {},
   "outputs": [
    {
     "data": {
      "text/plain": [
       "OutEdgeDataView([(0, 1, {'flow': 3000.0})])"
      ]
     },
     "execution_count": 43,
     "metadata": {},
     "output_type": "execute_result"
    }
   ],
   "source": [
    "od_graph.edges.data()"
   ]
  },
  {
   "cell_type": "code",
   "execution_count": 40,
   "id": "8b6ef308-ed1e-4850-b360-200a6abad0d2",
   "metadata": {},
   "outputs": [
    {
     "name": "stdout",
     "output_type": "stream",
     "text": [
      "init passed successfully\n"
     ]
    }
   ],
   "source": [
    "sa = StaticAssignment(fg, od_graph)"
   ]
  },
  {
   "cell_type": "code",
   "execution_count": 41,
   "id": "f74c0409-6070-4860-9895-62108696fe92",
   "metadata": {},
   "outputs": [
    {
     "name": "stdout",
     "output_type": "stream",
     "text": [
      "solution found, Dial B in iteration 1\n"
     ]
    }
   ],
   "source": [
    "result = sa.run(method='dial_b') # uses numba, so first run needs compilation time"
   ]
  },
  {
   "cell_type": "code",
   "execution_count": 42,
   "id": "4e5a2a9b-7ddd-43ae-bd1a-2e06ce58d525",
   "metadata": {},
   "outputs": [
    {
     "data": {
      "text/plain": [
       "StaticResult(link_costs=array([5.00607524e-04, 5.00000024e-04, 3.02287902e-02, 2.51094650e-02,\n",
       "       5.41196096e-06, 2.35702265e-02, 3.02287902e-02, 2.50000004e-02,\n",
       "       3.53486252e-02, 2.35702265e-02, 2.50000004e-02, 1.66666675e-02,\n",
       "       2.50000004e-02, 1.10670513e-05, 5.00000024e-04, 5.41853649e-06,\n",
       "       5.00607524e-04, 1.10536212e-05]), flows=array([3000.        ,    0.        , 2173.31398144,  826.68601856,\n",
       "          0.        ,    0.        , 2173.31398144,    0.        ,\n",
       "        826.68601856,    0.        ,    0.        ,    0.        ,\n",
       "          0.        , 3000.        ,    0.        , 3000.        ,\n",
       "       3000.        ,    0.        ]), origins=array([0], dtype=uint32), destinations=array([1], dtype=uint32), origin_flows=None, destination_flows=array([[3000.        ,    0.        , 2173.31398144,  826.68601856,\n",
       "           0.        ,    0.        , 2173.31398144,    0.        ,\n",
       "         826.68601856,    0.        ,    0.        ,    0.        ,\n",
       "           0.        , 3000.        ,    0.        , 3000.        ,\n",
       "        3000.        ,    0.        ]]), skim=array([[0.06147528]]), gap_definition='epsilon=0.0001 converged destination - bushes divided by total origins, becomes 1 in equilibrium', gap=array([0., 1.]), od_flows=None)"
      ]
     },
     "execution_count": 42,
     "metadata": {},
     "output_type": "execute_result"
    }
   ],
   "source": [
    "result"
   ]
  },
  {
   "cell_type": "code",
   "execution_count": 29,
   "id": "17f04366-d6cd-4187-9d15-1e3450bc1238",
   "metadata": {},
   "outputs": [
    {
     "data": {
      "text/plain": [
       "[(2173.3139814415235,\n",
       "  (2,\n",
       "   3,\n",
       "   {'length': 2.0,\n",
       "    'capacity': 2000,\n",
       "    'free_speed': 80,\n",
       "    'lanes': 2,\n",
       "    'link_id': 2,\n",
       "    'from_node_id': 2,\n",
       "    'to_node_id': 3})),\n",
       " (826.6860185584768,\n",
       "  (2,\n",
       "   4,\n",
       "   {'length': 2.0,\n",
       "    'capacity': 2000,\n",
       "    'free_speed': 80,\n",
       "    'lanes': 1,\n",
       "    'link_id': 3,\n",
       "    'from_node_id': 2,\n",
       "    'to_node_id': 4})),\n",
       " (2173.3139814415235,\n",
       "  (3,\n",
       "   5,\n",
       "   {'length': 2.0,\n",
       "    'capacity': 2000,\n",
       "    'free_speed': 80,\n",
       "    'lanes': 2,\n",
       "    'link_id': 6,\n",
       "    'from_node_id': 3,\n",
       "    'to_node_id': 5})),\n",
       " (826.6860185584768,\n",
       "  (4,\n",
       "   5,\n",
       "   {'length': 2.0,\n",
       "    'capacity': 500,\n",
       "    'free_speed': 120,\n",
       "    'lanes': 1,\n",
       "    'link_id': 8,\n",
       "    'from_node_id': 4,\n",
       "    'to_node_id': 5}))]"
      ]
     },
     "execution_count": 29,
     "metadata": {},
     "output_type": "execute_result"
    }
   ],
   "source": [
    "[(f, some_edge) for f, some_edge in zip(result.flows, fg.edges(data=True)) if some_edge[2].get('connector',False)==False and f > 0]"
   ]
  }
 ],
 "metadata": {
  "kernelspec": {
   "display_name": "Python 3 (ipykernel)",
   "language": "python",
   "name": "python3"
  },
  "language_info": {
   "codemirror_mode": {
    "name": "ipython",
    "version": 3
   },
   "file_extension": ".py",
   "mimetype": "text/x-python",
   "name": "python",
   "nbconvert_exporter": "python",
   "pygments_lexer": "ipython3",
   "version": "3.11.7"
  }
 },
 "nbformat": 4,
 "nbformat_minor": 5
}
