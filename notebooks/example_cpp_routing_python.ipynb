{
 "cells": [
  {
   "cell_type": "markdown",
   "metadata": {},
   "source": [
    "# Example of using rpy2 to call the `cppRouting` functions in the R library\n",
    "\n",
    "We have worked out the nuances needed to call various cppRouting -- including the `assign_traffic` function, within Python using the rpy2 package."
   ]
  },
  {
   "cell_type": "code",
   "execution_count": null,
   "metadata": {},
   "outputs": [],
   "source": [
    "import os\n",
    "os.environ['R_HOME'] = r\"C:\\Program Files\\R\\R-4.3.3\"\n",
    "\n",
    "from pathlib import Path\n",
    "\n",
    "import pandas as pd\n",
    "import geopandas as gpd\n",
    "import numpy as np\n",
    "import pyproj\n",
    "\n",
    "from rpy2.robjects.packages import importr\n",
    "from rpy2.robjects import pandas2ri\n",
    "from rpy2 import robjects\n",
    "from rpy2.robjects.conversion import localconverter\n",
    "\n",
    "# Convert pandas.DataFrames to R dataframes automatically.\n",
    "pandas2ri.activate()\n",
    "\n",
    "cpp_routing = importr(\"cppRouting\")\n",
    "r_cpp_parallel = importr(\"RcppParallel\")\n",
    "\n",
    "data_directory = Path(r\"C:\\Users\\Marc.Meketon\\OneDrive - MMC\\Documents\\OliverWyman\\DOE_IntermodalRouting\\cppRouting\\data_readme\")\n",
    "roads = pd.read_csv(data_directory / 'roads.csv', dtype={'from': str, 'to': str, 'weight': float})\n",
    "com = gpd.read_file(data_directory / \"com_simplified_geom.shp\")\n",
    "ndcom = pd.read_csv(data_directory / \"node_commune.csv\", dtype={\"com\": str, \"id_noeud\": str, \"POPULATION\": float})\n",
    "med = pd.read_csv(data_directory / \"doctor.csv\", dtype={'CODGEO':str, 'NB_D201': float, 'id_noeud': str, 'POPULATION': float})\n",
    "maternity = pd.read_csv(data_directory / \"maternity.csv\", dtype={\"CODGEO\": str, \"NB_D107\": float})\n",
    "coord = pd.read_csv(data_directory / 'coordinates.csv', dtype={'ID': str, 'X': float, 'Y': float})"
   ]
  },
  {
   "cell_type": "markdown",
   "metadata": {},
   "source": [
    "### Head of road network data\n",
    "\n",
    "The weight is travel time in minutes.  The example does not say so explitly, but seems implicit when looking how they use the A* and NBA algorithms.  They had a constant of 110/0.06 for 110 kph (maximum speed) multiplied by 1000 to get meters per hour, then divided by 60 to get meters per minute."
   ]
  },
  {
   "cell_type": "code",
   "execution_count": null,
   "metadata": {},
   "outputs": [],
   "source": [
    "roads.head()"
   ]
  },
  {
   "cell_type": "markdown",
   "metadata": {},
   "source": [
    "### Head of coordinates data"
   ]
  },
  {
   "cell_type": "code",
   "execution_count": null,
   "metadata": {},
   "outputs": [],
   "source": [
    "coord.head()"
   ]
  },
  {
   "cell_type": "markdown",
   "metadata": {},
   "source": [
    "### Instantiate the graph"
   ]
  },
  {
   "cell_type": "code",
   "execution_count": null,
   "metadata": {},
   "outputs": [],
   "source": [
    "#Instantiate a graph with coordinates\n",
    "graph  = cpp_routing.makegraph(roads, directed = True, coords = coord)"
   ]
  },
  {
   "cell_type": "markdown",
   "metadata": {},
   "source": [
    "Attributes of the graph"
   ]
  },
  {
   "cell_type": "code",
   "execution_count": null,
   "metadata": {},
   "outputs": [],
   "source": [
    "print(f\"Members of graph: {graph.names}\") \n",
    "print(f\"Members of graph$data: {graph.rx2('data').names}\")     # in R, it is graph$data\n",
    "print(f\"First 5 distances: {graph.rx2('data').rx2('dist')[0:5]}\")\n",
    "print(f\"Number of vertices: {graph.rx2('nbnode')}\")            # in R, it is graph$nbnode\n",
    "print(f\"Vertices ids: {graph.rx2('dict').rx2('ref')}\")         # in R, it is graph$dict$ref\n",
    "\n",
    "num_vertices = graph.rx2('nbnode')[0]\n",
    "print(f\"Number of vertices: {num_vertices}\")\n",
    "\n",
    "vertice_ids = graph.rx2('dict').rx2('ref')\n",
    "print(f\"Vertices ids: {vertice_ids}\")"
   ]
  },
  {
   "cell_type": "markdown",
   "metadata": {},
   "source": [
    "### Compare different path algorithms in terms of performance\n",
    "\n",
    "Generate 2000 random origin and destination"
   ]
  },
  {
   "cell_type": "code",
   "execution_count": null,
   "metadata": {},
   "outputs": [],
   "source": [
    "rng = np.random.default_rng()\n",
    "origin = rng.choice(vertice_ids, 2000)\n",
    "destination = rng.choice(vertice_ids, 2000)"
   ]
  },
  {
   "cell_type": "code",
   "execution_count": null,
   "metadata": {},
   "outputs": [],
   "source": [
    "import time\n",
    "import gc\n",
    "\n",
    "def time_path_generation():\n",
    "    gc.disable()\n",
    "\n",
    "    t0 = time.perf_counter()\n",
    "    pair_dijkstra = cpp_routing.get_distance_pair(graph, origin, destination, algorithm=\"Dijkstra\")\n",
    "    dijkstra_time = time.perf_counter() - t0\n",
    "\n",
    "    t0 = time.perf_counter()\n",
    "    pair_bidijkstra = cpp_routing.get_distance_pair(graph, origin, destination, algorithm=\"bi\")\n",
    "    bidijkstra_time = time.perf_counter() - t0\n",
    "\n",
    "    t0 = time.perf_counter()\n",
    "    pair_astar = cpp_routing.get_distance_pair(graph, origin, destination, algorithm=\"A*\", constant=110.0/0.06)\n",
    "    astar_time = time.perf_counter() - t0\n",
    "\n",
    "    t0 = time.perf_counter()\n",
    "    pair_nba = cpp_routing.get_distance_pair(graph, origin, destination, algorithm=\"NBA\", constant=110.0/0.06)\n",
    "    nba_time = time.perf_counter() - t0\n",
    "\n",
    "    gc.enable()\n",
    "\n",
    "    print(f'Dijkstra time: {dijkstra_time}')\n",
    "    print(f'Bidirection Dijkstra time: {bidijkstra_time}')\n",
    "    print(f'A* time: {astar_time}')\n",
    "    print(f'NBA time: {nba_time}')"
   ]
  },
  {
   "cell_type": "code",
   "execution_count": null,
   "metadata": {},
   "outputs": [],
   "source": [
    "original_num_threads = r_cpp_parallel.defaultNumThreads()[0]\n",
    "print(f'Default num of threads used: {original_num_threads}')\n",
    "\n",
    "r_cpp_parallel.setThreadOptions(numThreads=1)\n",
    "print('Number of parallel threads set to 1')\n",
    "time_path_generation()\n",
    "print()\n",
    "\n",
    "r_cpp_parallel.setThreadOptions(numThreads=4)\n",
    "print('Number of parallel threads set to 4')\n",
    "time_path_generation()\n",
    "print()\n",
    "\n",
    "r_cpp_parallel.setThreadOptions(numThreads=original_num_threads)\n",
    "print(f'Number of parallel threads set to {original_num_threads}')\n",
    "time_path_generation()"
   ]
  },
  {
   "cell_type": "markdown",
   "metadata": {},
   "source": [
    "## Compute isochrones\n",
    "\n",
    "An isochrone is a set of nodes reachable from a node within a fixed limit.\n",
    "Let’s compute isochrones around Dijon city\n",
    "\n",
    "In the example, they plot the isochrones.  Not done here, but see https://walker-data.com/posts/python-isochrones/ for an idea of how to do it in geopandas.\n",
    "\n",
    "Another site:  https://geoffboeing.com/2016/11/osmnx-python-street-networks/"
   ]
  },
  {
   "cell_type": "markdown",
   "metadata": {},
   "source": [
    "Note, I'm not sure how the computations are done.  In particular, the graph edges 'weights' (called 'dist' in the graph object) are discussed to be in minutes (not km).\n",
    "\n",
    "The coordinates appear to be in the CRS 2154 (based on the R code found in the \"compute isochrones\" section of the example).  We can transform them to lat/longs using pyproj"
   ]
  },
  {
   "cell_type": "code",
   "execution_count": null,
   "metadata": {},
   "outputs": [],
   "source": [
    "coordinate_transformer = pyproj.Transformer.from_crs(\"EPSG:2154\", \"EPSG:4326\")\n",
    "def get_x_y_from_vertice_id(vertice_id: int, coord_df: pd.DataFrame) -> tuple[float, float]:\n",
    "    coordinate_transformer = pyproj.Transformer.from_crs(\"EPSG:2154\", \"EPSG:4326\")\n",
    "    x_y = coord_df[coord_df.ID == str(vertice_id)][[\"X\", \"Y\"]].to_numpy()\n",
    "    return coordinate_transformer.transform(*x_y[0])"
   ]
  },
  {
   "cell_type": "code",
   "execution_count": null,
   "metadata": {},
   "outputs": [],
   "source": [
    "#  This appears to be the correct route between these two points:  When converted to lat/longs (below) and the route is calculated in Google Maps,\n",
    "#    the intermediate points are in the path\n",
    "\n",
    "path = cpp_routing.get_path_pair(graph, '205793', '88' )[0]\n",
    "path"
   ]
  },
  {
   "cell_type": "markdown",
   "metadata": {},
   "source": [
    "**The time between Dijon and point 88 is a bit baffling**:  the cell below suggests a travel time of 30 minutes.  Google says it is 48.7 km and 37 minutes (with no traffic)."
   ]
  },
  {
   "cell_type": "code",
   "execution_count": null,
   "metadata": {},
   "outputs": [],
   "source": [
    "[(vertex_id, round(cpp_routing.get_distance_pair(graph, '205793', str(vertex_id))[0],2), get_x_y_from_vertice_id(vertex_id, coord) )\n",
    " for vertex_id in path]"
   ]
  },
  {
   "cell_type": "markdown",
   "metadata": {},
   "source": [
    "The lat/long of 205793 does appear to be in the center of Dijon, France."
   ]
  },
  {
   "cell_type": "code",
   "execution_count": null,
   "metadata": {},
   "outputs": [],
   "source": [
    "iso  =  cpp_routing.get_isochrone(graph, \"205793\", lim = robjects.IntVector([15, 25, 45, 60, 90, 120]))"
   ]
  },
  {
   "cell_type": "code",
   "execution_count": null,
   "metadata": {},
   "outputs": [],
   "source": [
    "print(f'iso.names: {iso.names[0]}')\n",
    "print(f\"iso.rx2('205793').names: {iso.rx2(str(iso.names[0])).names}\")  # Note the change to a string\n",
    "print(f\"location that is 90 minutes out: {iso[0][4][0]} with X,Y coordinates: {coord[coord.ID==iso[0][4][0]]}\")"
   ]
  },
  {
   "cell_type": "code",
   "execution_count": null,
   "metadata": {},
   "outputs": [],
   "source": [
    "iso[0][4]"
   ]
  },
  {
   "cell_type": "code",
   "execution_count": null,
   "metadata": {},
   "outputs": [],
   "source": [
    "iso[0][4][0]"
   ]
  },
  {
   "cell_type": "code",
   "execution_count": null,
   "metadata": {},
   "outputs": [],
   "source": [
    "all(iso[0][0] == iso.rx2('205793').rx2('15'))  # all the vertices that are reachable within 15 minutes"
   ]
  },
  {
   "cell_type": "code",
   "execution_count": null,
   "metadata": {},
   "outputs": [],
   "source": [
    "len(iso[0][0])"
   ]
  },
  {
   "cell_type": "markdown",
   "metadata": {},
   "source": [
    "## Compute possible detours within a fixed additional cost"
   ]
  },
  {
   "cell_type": "code",
   "execution_count": null,
   "metadata": {},
   "outputs": [],
   "source": [
    "#Compute shortest path\n",
    "trajet = cpp_routing.get_path_pair(graph,\"205793\",\"212490\")[0]\n",
    "print(trajet)\n",
    "\n",
    "#Compute shortest path\n",
    "distance = cpp_routing.get_distance_pair(graph,\"205793\",\"212490\")[0]\n",
    "print(distance)\n",
    "\n",
    "#Compute detour time of 25 and 45 minutes\n",
    "det25 =cpp_routing.get_detour(graph,\"205793\",\"212490\",extra=25)[0]\n",
    "det45 = cpp_routing.get_detour(graph,\"205793\",\"212490\",extra=45)[0]\n",
    "print(len(det25), det25[0:10])\n",
    "print(len(det45), det45[0:10])"
   ]
  },
  {
   "cell_type": "markdown",
   "metadata": {},
   "source": [
    "## Compute Contraction Hierarchy"
   ]
  },
  {
   "cell_type": "code",
   "execution_count": null,
   "metadata": {},
   "outputs": [],
   "source": [
    "graph3 = cpp_routing.cpp_contract(graph, silent=True)"
   ]
  },
  {
   "cell_type": "code",
   "execution_count": null,
   "metadata": {},
   "outputs": [],
   "source": [
    "\n",
    "#Calculate distances on the contracted graph\n",
    "t0 = time.perf_counter()\n",
    "pair_ch = cpp_routing.get_distance_pair(graph3, origin, destination)\n",
    "ch_time = time.perf_counter() - t0\n",
    "print(f'Dijkstra using contraction hierarchy time: {ch_time}')\n",
    "\n",
    "t0 = time.perf_counter()\n",
    "pair_bidijkstra = cpp_routing.get_distance_pair(graph, origin, destination, algorithm=\"bi\")\n",
    "bidijkstra_time_time = time.perf_counter() - t0\n",
    "print(f'BiDijkstra time: {bidijkstra_time_time}')"
   ]
  },
  {
   "cell_type": "code",
   "execution_count": null,
   "metadata": {},
   "outputs": [],
   "source": [
    "pair_ch = np.array(pair_ch)\n",
    "pair_bidijkstra = np.array(pair_bidijkstra)"
   ]
  },
  {
   "cell_type": "markdown",
   "metadata": {},
   "source": [
    "When comparing the answers between the contraction hierarchy, leave out the situations in which there are no paths"
   ]
  },
  {
   "cell_type": "code",
   "execution_count": null,
   "metadata": {},
   "outputs": [],
   "source": [
    "distances_when_paths_exist_ch = pair_ch[~np.isnan(pair_ch)]\n",
    "distances_when_paths_exist_bidijkstra = pair_ch[~np.isnan(pair_bidijkstra)]"
   ]
  },
  {
   "cell_type": "code",
   "execution_count": null,
   "metadata": {},
   "outputs": [],
   "source": [
    "np.sum(np.abs(np.array(distances_when_paths_exist_ch) - np.array(distances_when_paths_exist_bidijkstra)))"
   ]
  },
  {
   "cell_type": "code",
   "execution_count": null,
   "metadata": {},
   "outputs": [],
   "source": [
    "len(distances_when_paths_exist_ch), len(distances_when_paths_exist_bidijkstra)"
   ]
  },
  {
   "cell_type": "markdown",
   "metadata": {},
   "source": [
    "## Two parallel link example of user equilibrium"
   ]
  },
  {
   "cell_type": "markdown",
   "metadata": {},
   "source": [
    "In the cppRouting documentation (https://github.com/vlarmet/cppRouting), it refers to an example in https://tfresource.org/topics/User_Equilibrium.html.  Below repeats the example.\n",
    "\n",
    "Here we have two nodes, 1 and 2, and two parallel directed links going from node 1 to node 2.  We want to move 3000 units.  The first link has capacity of 2200 units, and can travel 60 mph.  The second link has capacity 1700 and travels at 45 mph.  The $\\alpha$ and $\\beta$ parameters are the same on both links and are $\\alpha=0.15$ and $\\beta=4.0$\n",
    "\n",
    "If $x$ is the flow on link 1, then $3000-x$ is the flow on link 2.  We want to find the $x$ such that\n",
    "\n",
    "$$\\left[ \\frac{60}{60} \\right] \\left( 1 + \\alpha \\left( \\frac{x}{2200}\\right)^ \\beta \\right) = \\left[ \\frac{60}{45} \\right] * \\left(1 + \\alpha \\left( \\frac{3000-x}{1700}\\right)^ \\beta \\right)$$\n",
    "\n",
    "```python\n",
    "from scipy.optimize import fsolve\n",
    "\n",
    "f = lambda x: (1.0 + 0.15*((x/2200.0)**4.0)) - (60.0/45.0)*(1.0 + 0.15*(((3000.0-x)/1700.0)**4.0))\n",
    "fsolve(f, 0)\n",
    "```\n",
    "\n",
    "returns\n",
    "```array([2686.54933136])```"
   ]
  },
  {
   "cell_type": "code",
   "execution_count": null,
   "metadata": {},
   "outputs": [],
   "source": [
    "two_link_df = pd.DataFrame({'From': [1, 1], \n",
    "                            'To': [2, 2], \n",
    "                            'Free_Flow_Time': [60.0/60.0, 60.0/45.0],\n",
    "                            'Capacity': [2200.0, 1700.0],\n",
    "                            'alpha': [0.15, 0.15],\n",
    "                            'beta': [4.0, 4.0]})\n",
    "two_link_df"
   ]
  },
  {
   "cell_type": "markdown",
   "metadata": {},
   "source": [
    "Let's use Algorithm B from R. Dial, as implemented in `cppRouting`"
   ]
  },
  {
   "cell_type": "code",
   "execution_count": null,
   "metadata": {},
   "outputs": [],
   "source": [
    "two_link_graph = cpp_routing.makegraph(two_link_df[['From', 'To', 'Free_Flow_Time']], \n",
    "                                       directed = True,\n",
    "                                       capacity = two_link_df['Capacity'],\n",
    "                                       alpha = two_link_df['alpha'],\n",
    "                                       beta = two_link_df['beta'])"
   ]
  },
  {
   "cell_type": "code",
   "execution_count": null,
   "metadata": {},
   "outputs": [],
   "source": [
    "# note:  we cannot use the 'from' argument because it is a Python keyword\n",
    "#        we could either do one of the two lines below which rely on positional arguments\n",
    "\n",
    "# flows = cpp_routing.assign_traffic(two_link_graph, [1], [2], demand=[3000], algorithm=\"dial\")\n",
    "# flows = cpp_routing.assign_traffic(two_link_graph, [1], to=[2], demand=[3000], algorithm=\"dial\")\n",
    "\n",
    "# or we can use argument-unpacking (see: https://stackoverflow.com/a/41902009/1955013)\n",
    "flows = cpp_routing.assign_traffic(two_link_graph, demand=[3000], algorithm=\"dial\", **{'from': [1], 'to': [2]})"
   ]
  },
  {
   "cell_type": "code",
   "execution_count": null,
   "metadata": {},
   "outputs": [],
   "source": [
    "print(flows.names)\n",
    "print(flows.rx2('gap'))\n",
    "print(flows.rx2('iteration')[0])\n",
    "print(flows.rx2('data').names)\n",
    "print(flows.rx2('data'))\n",
    "r_data_df = flows.rx2('data')\n",
    "with localconverter(robjects.default_converter + pandas2ri.converter):\n",
    "  pd_data_df = robjects.conversion.rpy2py(r_data_df)\n",
    "pd_data_df"
   ]
  },
  {
   "cell_type": "markdown",
   "metadata": {},
   "source": [
    "# Load in the Rail Network and see what simplify and contraction do"
   ]
  },
  {
   "cell_type": "code",
   "execution_count": null,
   "metadata": {},
   "outputs": [],
   "source": [
    "narn_directory = Path(r'C:\\Users\\Marc.Meketon\\OneDrive - MMC\\Documents\\OliverWyman\\CN_IANR\\inputs')\n",
    "lines_gdf = gpd.read_file(narn_directory / 'North_American_Rail_Network_Lines.zip')"
   ]
  },
  {
   "cell_type": "code",
   "execution_count": null,
   "metadata": {},
   "outputs": [],
   "source": [
    "lines_gdf.head(3)"
   ]
  },
  {
   "cell_type": "code",
   "execution_count": null,
   "metadata": {},
   "outputs": [],
   "source": [
    "narn_lines_skinny_df = lines_gdf[[\"FRFRANODE\", \"TOFRANODE\", \"MILES\"]]\n",
    "narn_lines_skinny_df.rename(columns={\"FRFRANODE\": \"from\", \"TOFRANODE\": \"to\"})\n",
    "narn_graph = cpp_routing.makegraph(narn_lines_skinny_df, directed=True)"
   ]
  },
  {
   "cell_type": "code",
   "execution_count": null,
   "metadata": {},
   "outputs": [],
   "source": [
    "print(narn_graph.names)\n",
    "print(narn_graph.rx2('data').names)\n",
    "print(narn_graph.rx2('nbnode'))\n",
    "print(narn_graph.rx2('data').rx2('from')[0:3])\n",
    "print(narn_graph.rx2('data').rx2('to')[0:3])\n",
    "print(narn_graph.rx2('data').rx2('dist')[0:3])\n",
    "print(len(narn_graph.rx2('data').rx2('dist')))"
   ]
  },
  {
   "cell_type": "code",
   "execution_count": null,
   "metadata": {},
   "outputs": [],
   "source": [
    "narn_graph_ch = cpp_routing.cpp_contract(narn_graph, silent=True)"
   ]
  },
  {
   "cell_type": "code",
   "execution_count": null,
   "metadata": {},
   "outputs": [],
   "source": [
    "print(narn_graph_ch.names)\n",
    "print(narn_graph_ch.rx2('data').names)\n",
    "print(narn_graph_ch.rx2('nbnode'))\n",
    "print(narn_graph_ch.rx2('data').rx2('from')[0:3])\n",
    "print(narn_graph_ch.rx2('data').rx2('to')[0:3])\n",
    "print(narn_graph_ch.rx2('data').rx2('dist')[0:3])\n",
    "print(len(narn_graph_ch.rx2('data').rx2('dist')))"
   ]
  },
  {
   "cell_type": "code",
   "execution_count": null,
   "metadata": {},
   "outputs": [],
   "source": [
    "narn_graph_simp = cpp_routing.cpp_simplify(narn_graph, rm_loop=False, iterate=True)"
   ]
  },
  {
   "cell_type": "code",
   "execution_count": null,
   "metadata": {},
   "outputs": [],
   "source": [
    "print(narn_graph_simp.names)\n",
    "print(narn_graph_simp.rx2('data').names)\n",
    "print(narn_graph_simp.rx2('nbnode'))\n",
    "print(narn_graph_simp.rx2('data').rx2('from')[0:3])\n",
    "print(narn_graph_simp.rx2('data').rx2('to')[0:3])\n",
    "print(narn_graph_simp.rx2('data').rx2('dist')[0:3])\n",
    "print(len(narn_graph_simp.rx2('data').rx2('dist')))"
   ]
  },
  {
   "cell_type": "code",
   "execution_count": null,
   "metadata": {},
   "outputs": [],
   "source": [
    "rng = np.random.default_rng()\n",
    "vertice_ids_narn = narn_graph.rx2('dict').rx2('ref')\n",
    "origin_narn = rng.choice(vertice_ids_narn, 2000)\n",
    "destination_narn = rng.choice(vertice_ids_narn, 2000)\n",
    "unique_narn_vertices = list(set(set(origin_narn) | set(destination_narn)))\n",
    "len(unique_narn_vertices)"
   ]
  },
  {
   "cell_type": "code",
   "execution_count": null,
   "metadata": {},
   "outputs": [],
   "source": [
    "narn_graph_simp = cpp_routing.cpp_simplify(narn_graph, rm_loop=False, iterate=True, keep=robjects.StrVector(unique_narn_vertices))"
   ]
  },
  {
   "cell_type": "code",
   "execution_count": null,
   "metadata": {},
   "outputs": [],
   "source": [
    "t0 = time.perf_counter()\n",
    "narn_pair = cpp_routing.get_distance_pair(narn_graph, origin_narn, destination_narn, algorithm = \"bi\")\n",
    "narn_time = time.perf_counter() - t0\n",
    "print(f'NARN time for 2000 OD pairs:  {narn_time}')\n",
    "\n",
    "t0 = time.perf_counter()\n",
    "narn_pair_ch = cpp_routing.get_distance_pair(narn_graph_ch, origin_narn, destination_narn, algorithm=\"phast\")\n",
    "narn_time_ch = time.perf_counter() - t0\n",
    "print(f'NARN CH time for 2000 OD pairs:  {narn_time_ch}')\n",
    "\n",
    "t0 = time.perf_counter()\n",
    "narn_pair_simp = cpp_routing.get_distance_pair(narn_graph_simp, origin_narn, destination_narn, algorithm = \"bi\")\n",
    "narn_time_simp = time.perf_counter() - t0\n",
    "print(f'NARN SIMP time for 2000 OD pairs:  {narn_time_simp}')"
   ]
  },
  {
   "cell_type": "code",
   "execution_count": null,
   "metadata": {},
   "outputs": [],
   "source": [
    "# waterway map (https://www.npms.phmsa.dot.gov/CNWData.aspx).  Commercially navigable\n",
    "ww_gdf = gpd.read_file(r'C:\\Users\\Marc.Meketon\\Downloads\\CNW_V6_2024.zip')\n",
    "ww_gdf.explore()"
   ]
  },
  {
   "cell_type": "code",
   "execution_count": null,
   "metadata": {},
   "outputs": [],
   "source": [
    "# waterway map (https://geospatial-usace.opendata.arcgis.com/datasets/604cdc08fe7d43cb90a0584a0b198875_0/explore).  Mile marker\n",
    "# NOTE:  the 'download shape file' did not work.  I downloaded the geoJSON and had QGIS export it a shapefile\n",
    "mm_gdf = gpd.read_file(r'C:\\Users\\Marc.Meketon\\Downloads\\river_mile_markers.zip')\n",
    "mm_gdf.explore()"
   ]
  },
  {
   "cell_type": "code",
   "execution_count": null,
   "metadata": {},
   "outputs": [],
   "source": [
    "# waterway map (https://geodata.bts.gov/datasets/a8c39fdf822842f6836cd61986e9b5a5_0/explore).  Marine highway\n",
    "\n",
    "mh_gdf = gpd.read_file(r'C:\\Users\\Marc.Meketon\\Downloads\\marine_highways.zip')\n",
    "mh_gdf.explore()"
   ]
  }
 ],
 "metadata": {
  "kernelspec": {
   "display_name": "venv311",
   "language": "python",
   "name": "python3"
  },
  "language_info": {
   "codemirror_mode": {
    "name": "ipython",
    "version": 3
   },
   "file_extension": ".py",
   "mimetype": "text/x-python",
   "name": "python",
   "nbconvert_exporter": "python",
   "pygments_lexer": "ipython3",
   "version": "3.11.5"
  }
 },
 "nbformat": 4,
 "nbformat_minor": 2
}
