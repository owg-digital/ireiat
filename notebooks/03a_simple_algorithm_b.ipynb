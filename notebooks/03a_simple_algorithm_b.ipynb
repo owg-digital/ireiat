{
 "cells": [
  {
   "cell_type": "code",
   "execution_count": 13,
   "id": "96d94dbe-1089-47df-9adc-82082d427c4f",
   "metadata": {},
   "outputs": [],
   "source": [
    "import pickle\n",
    "import pandas as pd\n",
    "pd.set_option('display.max_columns',None)\n",
    "import itertools\n",
    "from functools import partial\n",
    "from collections import defaultdict\n",
    "\n",
    "import numpy as np\n",
    "from dyntapy import get_toy_network\n",
    "from dyntapy.visualization import show_network, show_demand\n",
    "from dyntapy.supply_data import relabel_graph\n",
    "from dyntapy.demand_data import od_graph_from_matrix, add_centroids\n",
    "from dyntapy.results import get_od_flows\n",
    "from dyntapy.assignments import StaticAssignment\n",
    "\n",
    "import geopandas as gpd\n",
    "from typing import Set, Tuple, List, Dict, Optional\n",
    "import igraph\n",
    "import random\n",
    "import logging\n",
    "from pathlib import Path\n",
    "from pickle import load\n",
    "import time\n",
    "import networkx as nx\n",
    "from zipfile import ZipFile\n",
    "import os\n",
    "\n",
    "# requires local installation of ireiat package using \n",
    "from ireiat.util.cacheable import CACHE_PATH"
   ]
  },
  {
   "cell_type": "markdown",
   "id": "79b81a90-5999-48bb-8e4f-452fc7f53a3e",
   "metadata": {},
   "source": [
    "# What this notebook does (or is meant to do) [WIP]\n",
    "\n",
    "We solve a traffic assignment problem using dyntapy for a subset of O-Ds. To do this, we:\n",
    "\n",
    "1. Load a highway network into networkx (WIP)\n",
    "2. Create a BallTree of the networkx nodes\n",
    "3. Figure out which node should be the \"origin\" and \"destination\" for each county (currently a WIP)\n",
    "4. For each \"origin\" and \"destination\" create a separate graph to load into dyntapy's StaticAssignment module\n",
    "5. Solve the traffic assignment problem using Algorithm B"
   ]
  },
  {
   "cell_type": "markdown",
   "id": "10d4fb08-e281-4c6c-ad25-c18c73453e74",
   "metadata": {},
   "source": [
    "### First let's solve a toy problem"
   ]
  },
  {
   "cell_type": "code",
   "execution_count": 9,
   "id": "356c7f73-dad0-46f8-9853-c7042aa65982",
   "metadata": {},
   "outputs": [],
   "source": [
    "# load a silly network\n",
    "g = get_toy_network('cascetta')\n",
    "labeled_g = relabel_graph(g)\n",
    "show_network(labeled_g, euclidean=True)"
   ]
  },
  {
   "cell_type": "code",
   "execution_count": 10,
   "id": "1f13657e-c51f-43b7-9a4b-81c9327374c1",
   "metadata": {},
   "outputs": [
    {
     "name": "stderr",
     "output_type": "stream",
     "text": [
      "C:\\Users\\nicholas.padon\\AppData\\Local\\Programs\\Python\\Python311\\Lib\\site-packages\\dyntapy\\demand_data.py:829: UserWarning: The `euclidean_dist_vec` function has been renamed `euclidean`. Calling `euclidean_dist_vec` will raise an error in a future release.\n",
      "  dists = euclidean_dist_vec(\n",
      "C:\\Users\\nicholas.padon\\AppData\\Local\\Programs\\Python\\Python311\\Lib\\site-packages\\dyntapy\\demand_data.py:829: UserWarning: The `euclidean_dist_vec` function has been renamed `euclidean`. Calling `euclidean_dist_vec` will raise an error in a future release.\n",
      "  dists = euclidean_dist_vec(\n"
     ]
    }
   ],
   "source": [
    "# we've picked some random centroids that are close to nodes 1 and 4 in the original graph\n",
    "centroid_x = np.array([1, 7])\n",
    "centroid_y = np.array([1, 1])\n",
    "\n",
    "# add these centroids as \"centroid\" nodes (against which O-D flows will be specified)\n",
    "# also automatically adds connectors (with capacities, etc.) from the centroids to the nearest nodes on the node-link graph\n",
    "fg = add_centroids(g, centroid_x, centroid_y, euclidean=True) # on the unlabeled graph\n",
    "fg = relabel_graph(fg)  # adding link and node ids, connectors and centroids\n",
    "show_network(fg, euclidean=True)"
   ]
  },
  {
   "cell_type": "code",
   "execution_count": 11,
   "id": "bd4f5145-8caa-4d7c-ab20-d230c61a1e63",
   "metadata": {},
   "outputs": [
    {
     "data": {
      "image/png": "[encoded data removed]",
      "text/plain": [
       "<Figure size 640x480 with 1 Axes>"
      ]
     },
     "metadata": {},
     "output_type": "display_data"
    }
   ],
   "source": [
    "# and for the demand (we want 3000 demand going from centroid 0->1 (which corresponds to node 1->4 on the node-link graph)\n",
    "od_matrix = np.zeros(len(centroid_x)*len(centroid_y)).reshape((len(centroid_x), len(centroid_y)))\n",
    "od_matrix[0, 1] = 3000\n",
    "od_graph = od_graph_from_matrix(od_matrix, centroid_x, centroid_y)\n",
    "nx.draw(od_graph,with_labels=True)"
   ]
  },
  {
   "cell_type": "code",
   "execution_count": 14,
   "id": "8b6ef308-ed1e-4850-b360-200a6abad0d2",
   "metadata": {},
   "outputs": [
    {
     "name": "stdout",
     "output_type": "stream",
     "text": [
      "init passed successfully\n"
     ]
    }
   ],
   "source": [
    "sa = StaticAssignment(fg, od_graph)"
   ]
  },
  {
   "cell_type": "code",
   "execution_count": 15,
   "id": "f74c0409-6070-4860-9895-62108696fe92",
   "metadata": {},
   "outputs": [
    {
     "name": "stdout",
     "output_type": "stream",
     "text": [
      "solution found, Dial B in iteration 1\n"
     ]
    }
   ],
   "source": [
    "result = sa.run(method='dial_b') # uses numba, so first run needs compilation time"
   ]
  },
  {
   "cell_type": "code",
   "execution_count": 25,
   "id": "17f04366-d6cd-4187-9d15-1e3450bc1238",
   "metadata": {},
   "outputs": [
    {
     "data": {
      "text/plain": [
       "[(2173.3139814415235,\n",
       "  (2,\n",
       "   3,\n",
       "   {'length': 2.0,\n",
       "    'capacity': 2000,\n",
       "    'free_speed': 80,\n",
       "    'lanes': 1,\n",
       "    'link_id': 2,\n",
       "    'from_node_id': 2,\n",
       "    'to_node_id': 3})),\n",
       " (826.6860185584768,\n",
       "  (2,\n",
       "   4,\n",
       "   {'length': 2.0,\n",
       "    'capacity': 2000,\n",
       "    'free_speed': 80,\n",
       "    'lanes': 1,\n",
       "    'link_id': 3,\n",
       "    'from_node_id': 2,\n",
       "    'to_node_id': 4})),\n",
       " (2173.3139814415235,\n",
       "  (3,\n",
       "   5,\n",
       "   {'length': 2.0,\n",
       "    'capacity': 2000,\n",
       "    'free_speed': 80,\n",
       "    'lanes': 1,\n",
       "    'link_id': 6,\n",
       "    'from_node_id': 3,\n",
       "    'to_node_id': 5})),\n",
       " (826.6860185584768,\n",
       "  (4,\n",
       "   5,\n",
       "   {'length': 2.0,\n",
       "    'capacity': 500,\n",
       "    'free_speed': 120,\n",
       "    'lanes': 1,\n",
       "    'link_id': 8,\n",
       "    'from_node_id': 4,\n",
       "    'to_node_id': 5}))]"
      ]
     },
     "execution_count": 25,
     "metadata": {},
     "output_type": "execute_result"
    }
   ],
   "source": [
    "[(f, some_edge) for f, some_edge in zip(result.flows, fg.edges(data=True)) if some_edge[2].get('connector',False)==False and f > 0]"
   ]
  },
  {
   "cell_type": "markdown",
   "id": "1911c352-2869-4fa7-ac3e-028e39e3f618",
   "metadata": {},
   "source": [
    "### Create a highway network"
   ]
  },
  {
   "cell_type": "code",
   "execution_count": 2,
   "id": "aff6a9f9-bef2-4674-b599-24260e28fb8a",
   "metadata": {},
   "outputs": [],
   "source": [
    "target_path = '../data/raw/fa5_highway_links.zip'\n",
    "faf5_links_gdf = gpd.read_file(target_path)"
   ]
  },
  {
   "cell_type": "code",
   "execution_count": 12,
   "id": "2ae341bd-f922-4b93-af60-f7cab8378eb5",
   "metadata": {},
   "outputs": [],
   "source": [
    "faf5_links_gdf = faf5_links_gdf.to_crs(\"EPSG:4326\")"
   ]
  },
  {
   "cell_type": "code",
   "execution_count": 31,
   "id": "e5c6ff9f-bb60-4c60-aada-f302a69bd60f",
   "metadata": {},
   "outputs": [],
   "source": [
    "# faf5_links_gdf.loc[faf5_links_gdf['state'].isin(['NY','NJ']),['geometry']].explore()"
   ]
  },
  {
   "cell_type": "code",
   "execution_count": 13,
   "id": "74590747-1436-4b93-b2c9-aeeda0078028",
   "metadata": {},
   "outputs": [
    {
     "name": "stdout",
     "output_type": "stream",
     "text": [
      "CPU times: total: 13.6 s\n",
      "Wall time: 13.6 s\n"
     ]
    }
   ],
   "source": [
    "%%time\n",
    "# 6th decimal place is 0.11m in lat/long. IF you go to greater granularity you still get the same number of nodes\n",
    "# https://gis.stackexchange.com/questions/8650/measuring-accuracy-of-latitude-and-longitude\n",
    "round_to_digits = partial(round,ndigits=6)\n",
    "def map_start_end_lat_long(row):\n",
    "    \"\"\" Each LINESTRING object consists of lat/longs - and the bounds get the extreme endpoints\"\"\"\n",
    "    long_start, lat_start = map(round_to_digits,  row.geometry.coords[0])\n",
    "    long_end, lat_end = map(round_to_digits,  row.geometry.coords[-1])\n",
    "    # return (row.objectid, row.length, (lat_start, long_start), (lat_end, long_end))\n",
    "    if row.dir==1: # A-> B only\n",
    "        return [(row.objectid, row.length, row.ctfips, (lat_start, long_start), (lat_end, long_end))]\n",
    "    elif row.dir==-1: # B->A only\n",
    "        return [(row.objectid, row.length, row.ctfips, (lat_end, long_end), (lat_start, long_start))]\n",
    "    else:\n",
    "        return [(row.objectid, row.length, row.ctfips, (lat_start, long_start), (lat_end, long_end)),\n",
    "                (row.objectid, row.length, row.ctfips, (lat_end, long_end), (lat_start, long_start))]\n",
    "\n",
    "\n",
    "# we iterate through the set of links in parallel, extracting formatted endpoints\n",
    "edge_data = list(itertools.chain.from_iterable([map_start_end_lat_long(row) for row in faf5_links_gdf.itertuples()]))\n",
    "# edge_data = [map_start_end_lat_long(row) for row in faf5_links_gdf.itertuples()]"
   ]
  },
  {
   "cell_type": "code",
   "execution_count": 14,
   "id": "3158f57f-567b-4918-8535-e76c4e615bfa",
   "metadata": {},
   "outputs": [],
   "source": [
    "# create a list of county to node dicts\n",
    "county_to_node_dict = defaultdict(list)\n",
    "for obj, length, ctfips, lat_long_start, lat_long_end in edge_data:\n",
    "    if ctfips:\n",
    "        state, county = ctfips[:2], ctfips[2:]\n",
    "        county_to_node_dict[(state,county)].append(lat_long_start)\n",
    "        county_to_node_dict[(state,county)].append(lat_long_end)"
   ]
  },
  {
   "cell_type": "code",
   "execution_count": 16,
   "id": "6d6567ab-c9bc-4e65-8ac6-8d12d180393e",
   "metadata": {},
   "outputs": [],
   "source": [
    "# from the formatted endpoints, we create unique nodes, indexed from 0\n",
    "node_set: Set[Tuple[float, float]] = {(lat,long) for record in edge_data for lat,long in record[3:]}\n",
    "node_dict: Dict[Tuple[float, float], int] = {node_lat_long: idx for idx, node_lat_long in enumerate(node_set)}\n",
    "inv_node_dict: Dict[int, Tuple[float, float]] = {v: k for k,v in node_dict.items()}\n",
    "\n",
    "# we then map back all the edges\n",
    "n_vertices = len(node_set)\n",
    "edge_object_ids = [obj_id for obj_id, _, _, _, _ in edge_data]\n",
    "edges = [[node_dict[start_node], node_dict[end_node]] for _, _, _, start_node, end_node in edge_data]\n",
    "edge_distances = [distance for _, distance, _, _, _ in edge_data]\n",
    "\n",
    "# and we create the highway graph and output it\n",
    "highway_graph = igraph.Graph(n=n_vertices, \n",
    "                             edges=edges, \n",
    "                             edge_attrs={'weight':edge_distances}\n",
    "                            )\n",
    "highway_graph.write_gml(\"../data/transformed/highway.gml\")"
   ]
  },
  {
   "cell_type": "code",
   "execution_count": 17,
   "id": "f64f1c1d-e2c5-49f0-b385-1e7d1e0b0a62",
   "metadata": {},
   "outputs": [],
   "source": [
    "with open('../data/transformed/county_to_node_dict.pickle','wb') as fp:\n",
    "    pickle.dump(county_to_node_dict, fp)"
   ]
  },
  {
   "cell_type": "code",
   "execution_count": 18,
   "id": "98b488e8-4047-4ef7-acc7-9f9d919ad597",
   "metadata": {},
   "outputs": [],
   "source": [
    "with open('../data/transformed/node_dict.pickle','wb') as fp:\n",
    "    pickle.dump(node_dict, fp)"
   ]
  },
  {
   "cell_type": "markdown",
   "id": "42811907-ae83-4fa7-8718-41f14a952388",
   "metadata": {},
   "source": [
    "### Load the county OD data and select a random node to associate all county data"
   ]
  },
  {
   "cell_type": "code",
   "execution_count": 19,
   "id": "a26d5f6f-f5ed-4724-8bf4-208ec41dd010",
   "metadata": {},
   "outputs": [],
   "source": [
    "logger = logging.getLogger()"
   ]
  },
  {
   "cell_type": "code",
   "execution_count": 49,
   "id": "6fd51cad-c6bd-4b3a-bcd6-60c9fa1dcd94",
   "metadata": {},
   "outputs": [],
   "source": [
    "county_od = pd.read_parquet('../data/transformed/county_od.parquet')"
   ]
  },
  {
   "cell_type": "code",
   "execution_count": 21,
   "id": "a79abd7f-025b-4103-8b7d-24a030d495e3",
   "metadata": {},
   "outputs": [],
   "source": [
    "logger.info(\"Reading highway graph\")\n",
    "highway_graph = igraph.read(\"../data/transformed/highway.gml\")\n",
    "with open('../data/transformed/county_to_node_dict.pickle', 'rb') as fp:\n",
    "    county_to_graph_node_dict = pickle.load(fp)\n",
    "with open('../data/transformed/node_dict.pickle', 'rb') as fp:\n",
    "    graph_node_dict = pickle.load(fp)"
   ]
  },
  {
   "cell_type": "code",
   "execution_count": 90,
   "id": "6d1313c7-dd0d-4f9f-a512-131d158f6f59",
   "metadata": {},
   "outputs": [],
   "source": [
    "county_od_sample = county_od.head(200)"
   ]
  },
  {
   "cell_type": "code",
   "execution_count": 91,
   "id": "5cde4435-2e39-4fd7-b227-7da94c3f4cfc",
   "metadata": {},
   "outputs": [
    {
     "name": "stdout",
     "output_type": "stream",
     "text": [
      "CPU times: total: 7.09 s\n",
      "Wall time: 7.11 s\n"
     ]
    }
   ],
   "source": [
    "%%time\n",
    "\n",
    "def get_nodes(row) -> Tuple[Optional[float],Optional[float]]:\n",
    "    candidate_origin_nodes = county_to_node_dict[(row.state_orig,row.county_orig)]\n",
    "    candidate_dest_nodes = county_to_node_dict[(row.state_dest,row.county_dest)]\n",
    "    if not (candidate_origin_nodes and candidate_dest_nodes):\n",
    "        return (-1, -1)\n",
    "    src_node_id = node_dict[random.choice(candidate_origin_nodes)]\n",
    "    dest_node_id = node_dict[random.choice(candidate_dest_nodes)]\n",
    "    return (src_node_id, dest_node_id)\n",
    "    \n",
    "# counter = 0\n",
    "\n",
    "def shortest_path_from_county_od_row(row):\n",
    "    src_node_id, dest_node_id = get_nodes(row)\n",
    "    if src_node_id > 0 and dest_node_id > 0:\n",
    "        path_edges=highway_graph.get_shortest_path(src_node_id,\n",
    "                                   to=dest_node_id,\n",
    "                                   weights=highway_graph.es['weight'],\n",
    "                                   output=\"epath\"\n",
    "                                   )\n",
    "        return {'county_od_index': row.Index, 'result': np.array(path_edges)}\n",
    "    return {'county_od_index': row.Index, 'result': np.array([])}\n",
    "    \n",
    "start = time.perf_counter()\n",
    "\n",
    "\n",
    "result = [shortest_path_from_county_od_row(row) for row in county_od_sample.itertuples()]\n",
    "\n",
    "\n",
    "    # counter += 1\n",
    "    # if counter > 500:\n",
    "    #     break\n",
    "stop = time.perf_counter()\n",
    "logger.info(f\"Ran in {stop - start:.1f} seconds\")"
   ]
  },
  {
   "cell_type": "code",
   "execution_count": 92,
   "id": "b53513c1-0cbc-483c-9832-82e117a5205c",
   "metadata": {},
   "outputs": [],
   "source": [
    "pd.DataFrame(result).to_parquet('../data/transformed/naive_result.parquet')"
   ]
  },
  {
   "cell_type": "code",
   "execution_count": 93,
   "id": "f9e13a05-2195-4691-96d3-b8d70b8e1549",
   "metadata": {},
   "outputs": [],
   "source": [
    "with open('../data/transformed/naive_result.pickle','wb') as fp:\n",
    "    pickle.dump(result, fp)"
   ]
  },
  {
   "cell_type": "markdown",
   "id": "ed865a93-ef78-4bac-84d9-d9fa114afee2",
   "metadata": {},
   "source": [
    "1. Methods for stuff\n",
    "\n",
    "* all or nothing assignment [naive \"lowest\" impedance path for each O-D pair. does not take into account congestion]\n",
    "* sequential congestion assignment [order-dependent! not straighforwardly parallelizable. not obvious what the congestion function is...]\n",
    "* probablistic assignment on top k \"low impedance\" candidate paths [picking candidates is hard]\n",
    "* really cool convex programming problem [intractable]\n",
    "    - for all flow paths between O-D, have some power (quadratic?) cost function with constraints"
   ]
  }
 ],
 "metadata": {
  "kernelspec": {
   "display_name": "Python 3 (ipykernel)",
   "language": "python",
   "name": "python3"
  },
  "language_info": {
   "codemirror_mode": {
    "name": "ipython",
    "version": 3
   },
   "file_extension": ".py",
   "mimetype": "text/x-python",
   "name": "python",
   "nbconvert_exporter": "python",
   "pygments_lexer": "ipython3",
   "version": "3.11.7"
  }
 },
 "nbformat": 4,
 "nbformat_minor": 5
}
