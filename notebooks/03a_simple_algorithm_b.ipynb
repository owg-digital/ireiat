{
 "cells": [
  {
   "cell_type": "code",
   "execution_count": 1,
   "id": "96d94dbe-1089-47df-9adc-82082d427c4f",
   "metadata": {},
   "outputs": [],
   "source": [
    "import pickle\n",
    "import pandas as pd\n",
    "pd.set_option('display.max_columns',None)\n",
    "import itertools\n",
    "from functools import partial\n",
    "from collections import defaultdict\n",
    "import numpy as np\n",
    "import geopandas as gpd\n",
    "from typing import Set, Tuple, List, Dict, Optional\n",
    "import igraph\n",
    "import random\n",
    "import logging\n",
    "from pathlib import Path\n",
    "from pickle import load\n",
    "import time\n",
    "import networkx as nx\n",
    "from zipfile import ZipFile\n",
    "import os\n",
    "import dyntapy\n",
    "# requires local installation of ireiat package using \n",
    "from ireiat.util.cacheable import CACHE_PATH"
   ]
  },
  {
   "cell_type": "markdown",
   "id": "79b81a90-5999-48bb-8e4f-452fc7f53a3e",
   "metadata": {},
   "source": [
    "# What this notebook does (or is meant to do) [WIP]\n",
    "\n",
    "We solve a traffic assignment problem using dyntapy for a subset of O-Ds. To do this, we:\n",
    "\n",
    "1. Load a highway network into networkx (WIP)\n",
    "2. Create a BallTree of the networkx nodes\n",
    "3. Figure out which node should be the \"origin\" and \"destination\" for each county (currently a WIP)\n",
    "4. For each \"origin\" and \"destination\" create a separate graph to load into dyntapy's StaticAssignment module\n",
    "5. Solve the traffic assignment problem using Algorithm B"
   ]
  },
  {
   "cell_type": "markdown",
   "id": "45a4aa5c-0784-4f77-b4c9-ee04b71f528d",
   "metadata": {},
   "source": [
    "### First let's solve a toy problem to make sure we understand how the algorithm works"
   ]
  },
  {
   "cell_type": "code",
   "execution_count": 2,
   "id": "26df1556-e647-49c9-a350-1d846373d525",
   "metadata": {},
   "outputs": [
    {
     "name": "stderr",
     "output_type": "stream",
     "text": [
      "C:\\Users\\nicholas.padon\\AppData\\Local\\Programs\\Python\\Python311\\Lib\\site-packages\\dyntapy\\supply_data.py:824: UserWarning: The `euclidean_dist_vec` function has been renamed `euclidean`. Calling `euclidean_dist_vec` will raise an error in a future release.\n",
      "  data[\"length\"] = euclidean_dist_vec(y0, x0, y1, x1)\n"
     ]
    }
   ],
   "source": [
    "g = dyntapy.supply_data.get_toy_network('cascetta')\n",
    "g.remove_edges_from([(4,2),(4,3),(2,1),(3,1),(2,3),(3,2)])\n",
    "# add required node attributes https://dyntapy.readthedocs.io/en/latest/dyntapy.html#module-dyntapy.assignments\n",
    "nx.set_node_attributes(g,{i:i-1 for i in range(len(g.nodes)+1)},name=\"node_id\")\n",
    "\n",
    "# add required edge attributes\n",
    "nx.set_edge_attributes(g,{(u,v):u-1 for u,v in g.edges},name=\"from_node_id\")\n",
    "nx.set_edge_attributes(g,{(u,v):v-1 for u,v in g.edges},name=\"to_node_id\")\n",
    "nx.set_edge_attributes(g,{(u,v):idx for idx,(u,v) in enumerate(g.edges)},name=\"link_id\")"
   ]
  },
  {
   "cell_type": "code",
   "execution_count": 3,
   "id": "85e939fd-6593-4428-abf8-dce64c1097db",
   "metadata": {},
   "outputs": [
    {
     "data": {
      "image/png": "[encoded data removed]",
      "text/plain": [
       "<Figure size 640x480 with 1 Axes>"
      ]
     },
     "metadata": {},
     "output_type": "display_data"
    }
   ],
   "source": [
    "nx.draw(g,with_labels=True)"
   ]
  },
  {
   "cell_type": "code",
   "execution_count": 4,
   "id": "d9d8a317-7603-4897-8617-41d78ec5b731",
   "metadata": {},
   "outputs": [],
   "source": [
    "od_graph = nx.DiGraph()\n",
    "od_graph.add_nodes_from(g.nodes)\n",
    "od_graph.add_edges_from([(1,4,{'flow':3000.0})])"
   ]
  },
  {
   "cell_type": "code",
   "execution_count": 5,
   "id": "f74c0409-6070-4860-9895-62108696fe92",
   "metadata": {},
   "outputs": [
    {
     "name": "stdout",
     "output_type": "stream",
     "text": [
      "init passed successfully\n"
     ]
    }
   ],
   "source": [
    "sa = dyntapy.assignments.StaticAssignment(g, od_graph)"
   ]
  },
  {
   "cell_type": "code",
   "execution_count": 6,
   "id": "7152fed3-fa57-4e88-9855-436fba982c8e",
   "metadata": {},
   "outputs": [],
   "source": [
    "dyntapy.settings.debugging = True"
   ]
  },
  {
   "cell_type": "code",
   "execution_count": 7,
   "id": "d6b5bcfd-9d31-4381-be2e-74521892f328",
   "metadata": {},
   "outputs": [
    {
     "ename": "AssertionError",
     "evalue": "",
     "output_type": "error",
     "traceback": [
      "\u001b[1;31m---------------------------------------------------------------------------\u001b[0m",
      "\u001b[1;31mAssertionError\u001b[0m                            Traceback (most recent call last)",
      "Cell \u001b[1;32mIn[7], line 1\u001b[0m\n\u001b[1;32m----> 1\u001b[0m result \u001b[38;5;241m=\u001b[39m \u001b[43msa\u001b[49m\u001b[38;5;241;43m.\u001b[39;49m\u001b[43mrun\u001b[49m\u001b[43m(\u001b[49m\u001b[43mmethod\u001b[49m\u001b[38;5;241;43m=\u001b[39;49m\u001b[38;5;124;43m'\u001b[39;49m\u001b[38;5;124;43mdial_b\u001b[39;49m\u001b[38;5;124;43m'\u001b[39;49m\u001b[43m)\u001b[49m\n",
      "File \u001b[1;32m~\\AppData\\Local\\Programs\\Python\\Python311\\Lib\\site-packages\\dyntapy\\assignments.py:297\u001b[0m, in \u001b[0;36mStaticAssignment.run\u001b[1;34m(self, method, store_iterations, **kwargs)\u001b[0m\n\u001b[0;32m    295\u001b[0m tolls \u001b[38;5;241m=\u001b[39m kwargs\u001b[38;5;241m.\u001b[39mget(\u001b[38;5;124m\"\u001b[39m\u001b[38;5;124mtolls\u001b[39m\u001b[38;5;124m\"\u001b[39m, np\u001b[38;5;241m.\u001b[39mzeros(\u001b[38;5;28mself\u001b[39m\u001b[38;5;241m.\u001b[39minternal_network\u001b[38;5;241m.\u001b[39mtot_links))\n\u001b[0;32m    296\u001b[0m \u001b[38;5;28;01mif\u001b[39;00m method \u001b[38;5;241m==\u001b[39m \u001b[38;5;124m\"\u001b[39m\u001b[38;5;124mdial_b\u001b[39m\u001b[38;5;124m\"\u001b[39m:\n\u001b[1;32m--> 297\u001b[0m     costs, destination_flows, gap_definition, gap \u001b[38;5;241m=\u001b[39m \u001b[43mdial_b\u001b[49m\u001b[43m(\u001b[49m\n\u001b[0;32m    298\u001b[0m \u001b[43m        \u001b[49m\u001b[38;5;28;43mself\u001b[39;49m\u001b[38;5;241;43m.\u001b[39;49m\u001b[43minternal_network\u001b[49m\u001b[43m,\u001b[49m\u001b[43m \u001b[49m\u001b[38;5;28;43mself\u001b[39;49m\u001b[38;5;241;43m.\u001b[39;49m\u001b[43minternal_demand\u001b[49m\u001b[43m,\u001b[49m\u001b[43m \u001b[49m\u001b[43mstore_iterations\u001b[49m\u001b[43m,\u001b[49m\u001b[43m \u001b[49m\u001b[43mtolls\u001b[49m\n\u001b[0;32m    299\u001b[0m \u001b[43m    \u001b[49m\u001b[43m)\u001b[49m\n\u001b[0;32m    300\u001b[0m     flows \u001b[38;5;241m=\u001b[39m np\u001b[38;5;241m.\u001b[39msum(destination_flows, axis\u001b[38;5;241m=\u001b[39m\u001b[38;5;241m0\u001b[39m)\n\u001b[0;32m    301\u001b[0m     result \u001b[38;5;241m=\u001b[39m StaticResult(\n\u001b[0;32m    302\u001b[0m         costs,\n\u001b[0;32m    303\u001b[0m         flows,\n\u001b[1;32m   (...)\u001b[0m\n\u001b[0;32m    309\u001b[0m         destination_flows\u001b[38;5;241m=\u001b[39mdestination_flows,\n\u001b[0;32m    310\u001b[0m     )\n",
      "File \u001b[1;32m~\\AppData\\Local\\Programs\\Python\\Python311\\Lib\\site-packages\\dyntapy\\sta\\equilibrate_bush.py:775\u001b[0m, in \u001b[0;36m_update_trees\u001b[1;34m()\u001b[0m\n\u001b[0;32m    771\u001b[0m \u001b[38;5;250m\u001b[39m\u001b[38;5;124;03m\"\"\"\u001b[39;00m\n\u001b[0;32m    772\u001b[0m \u001b[38;5;124;03mk\u001b[39;00m\n\u001b[0;32m    773\u001b[0m \u001b[38;5;124;03m\"\"\"\u001b[39;00m\n\u001b[0;32m    774\u001b[0m \u001b[38;5;28;01massert\u001b[39;00m k \u001b[38;5;241m>\u001b[39m\u001b[38;5;241m=\u001b[39m \u001b[38;5;241m0\u001b[39m\n\u001b[1;32m--> 775\u001b[0m \u001b[38;5;28;01massert\u001b[39;00m k \u001b[38;5;241m<\u001b[39m\u001b[38;5;241m=\u001b[39m \u001b[38;5;28mlen\u001b[39m(topological_order) \u001b[38;5;241m-\u001b[39m \u001b[38;5;241m1\u001b[39m\n\u001b[0;32m    776\u001b[0m \u001b[38;5;28;01massert\u001b[39;00m n \u001b[38;5;241m>\u001b[39m \u001b[38;5;241m0\u001b[39m\n\u001b[0;32m    777\u001b[0m \u001b[38;5;28;01massert\u001b[39;00m n \u001b[38;5;241m<\u001b[39m\u001b[38;5;241m=\u001b[39m \u001b[38;5;28mlen\u001b[39m(topological_order)\n",
      "\u001b[1;31mAssertionError\u001b[0m: "
     ]
    }
   ],
   "source": [
    "result = sa.run(method='dial_b')"
   ]
  },
  {
   "cell_type": "code",
   "execution_count": 139,
   "id": "d744d8bb-0366-45fa-b23f-f2debcdd2a5f",
   "metadata": {},
   "outputs": [
    {
     "data": {
      "text/plain": [
       "StaticResult(link_costs=array([0.03022013, 0.02510994, 0.02357023, 0.03022013, 0.025     ,\n",
       "       0.03543013, 0.02357023, 0.025     , 0.01666667, 0.025     ]), flows=array([2172.4137931,  827.5862069,    0.       , 2172.4137931,\n",
       "          0.       ,  827.5862069,    0.       ,    0.       ,\n",
       "          0.       ,    0.       ]), origins=array([0], dtype=uint32), destinations=array([3], dtype=uint32), origin_flows=None, destination_flows=None, skim=array([[0.06044027]]), gap_definition='relative gap', gap=[1.0, 65.01303100585938, 1.8423614501953125, 0.1414552927017212, 0.10501217842102051, 0.5111067295074463, 0.1414552927017212, 0.016701936721801758, 0.10501217842102051, 0.1414552927017212, 0.045409560203552246, 0.011275410652160645, 0.1414552927017212, 0.06369340419769287, 0.016701936721801758, 0.035742759704589844, 0.07622170448303223, 0.032801270484924316, 0.0034052133560180664, 0.05010545253753662, 0.045409560203552246, 0.016701936721801758, 0.011275410652160645, 0.055484890937805176, 0.027880072593688965, 0.006950855255126953, 0.025336146354675293, 0.037337660789489746, 0.016701936721801758, 0.00045549869537353516], od_flows=None)"
      ]
     },
     "execution_count": 139,
     "metadata": {},
     "output_type": "execute_result"
    }
   ],
   "source": [
    "result"
   ]
  },
  {
   "cell_type": "markdown",
   "id": "1911c352-2869-4fa7-ac3e-028e39e3f618",
   "metadata": {},
   "source": [
    "### Create a highway network"
   ]
  },
  {
   "cell_type": "code",
   "execution_count": 2,
   "id": "aff6a9f9-bef2-4674-b599-24260e28fb8a",
   "metadata": {},
   "outputs": [],
   "source": [
    "target_path = '../data/raw/fa5_highway_links.zip'\n",
    "faf5_links_gdf = gpd.read_file(target_path)"
   ]
  },
  {
   "cell_type": "code",
   "execution_count": 12,
   "id": "2ae341bd-f922-4b93-af60-f7cab8378eb5",
   "metadata": {},
   "outputs": [],
   "source": [
    "faf5_links_gdf = faf5_links_gdf.to_crs(\"EPSG:4326\")"
   ]
  },
  {
   "cell_type": "code",
   "execution_count": 31,
   "id": "e5c6ff9f-bb60-4c60-aada-f302a69bd60f",
   "metadata": {},
   "outputs": [],
   "source": [
    "# faf5_links_gdf.loc[faf5_links_gdf['state'].isin(['NY','NJ']),['geometry']].explore()"
   ]
  },
  {
   "cell_type": "code",
   "execution_count": 13,
   "id": "74590747-1436-4b93-b2c9-aeeda0078028",
   "metadata": {},
   "outputs": [
    {
     "name": "stdout",
     "output_type": "stream",
     "text": [
      "CPU times: total: 13.6 s\n",
      "Wall time: 13.6 s\n"
     ]
    }
   ],
   "source": [
    "%%time\n",
    "# 6th decimal place is 0.11m in lat/long. IF you go to greater granularity you still get the same number of nodes\n",
    "# https://gis.stackexchange.com/questions/8650/measuring-accuracy-of-latitude-and-longitude\n",
    "round_to_digits = partial(round,ndigits=6)\n",
    "def map_start_end_lat_long(row):\n",
    "    \"\"\" Each LINESTRING object consists of lat/longs - and the bounds get the extreme endpoints\"\"\"\n",
    "    long_start, lat_start = map(round_to_digits,  row.geometry.coords[0])\n",
    "    long_end, lat_end = map(round_to_digits,  row.geometry.coords[-1])\n",
    "    # return (row.objectid, row.length, (lat_start, long_start), (lat_end, long_end))\n",
    "    if row.dir==1: # A-> B only\n",
    "        return [(row.objectid, row.length, row.ctfips, (lat_start, long_start), (lat_end, long_end))]\n",
    "    elif row.dir==-1: # B->A only\n",
    "        return [(row.objectid, row.length, row.ctfips, (lat_end, long_end), (lat_start, long_start))]\n",
    "    else:\n",
    "        return [(row.objectid, row.length, row.ctfips, (lat_start, long_start), (lat_end, long_end)),\n",
    "                (row.objectid, row.length, row.ctfips, (lat_end, long_end), (lat_start, long_start))]\n",
    "\n",
    "\n",
    "# we iterate through the set of links in parallel, extracting formatted endpoints\n",
    "edge_data = list(itertools.chain.from_iterable([map_start_end_lat_long(row) for row in faf5_links_gdf.itertuples()]))\n",
    "# edge_data = [map_start_end_lat_long(row) for row in faf5_links_gdf.itertuples()]"
   ]
  },
  {
   "cell_type": "code",
   "execution_count": 14,
   "id": "3158f57f-567b-4918-8535-e76c4e615bfa",
   "metadata": {},
   "outputs": [],
   "source": [
    "# create a list of county to node dicts\n",
    "county_to_node_dict = defaultdict(list)\n",
    "for obj, length, ctfips, lat_long_start, lat_long_end in edge_data:\n",
    "    if ctfips:\n",
    "        state, county = ctfips[:2], ctfips[2:]\n",
    "        county_to_node_dict[(state,county)].append(lat_long_start)\n",
    "        county_to_node_dict[(state,county)].append(lat_long_end)"
   ]
  },
  {
   "cell_type": "code",
   "execution_count": 16,
   "id": "6d6567ab-c9bc-4e65-8ac6-8d12d180393e",
   "metadata": {},
   "outputs": [],
   "source": [
    "# from the formatted endpoints, we create unique nodes, indexed from 0\n",
    "node_set: Set[Tuple[float, float]] = {(lat,long) for record in edge_data for lat,long in record[3:]}\n",
    "node_dict: Dict[Tuple[float, float], int] = {node_lat_long: idx for idx, node_lat_long in enumerate(node_set)}\n",
    "inv_node_dict: Dict[int, Tuple[float, float]] = {v: k for k,v in node_dict.items()}\n",
    "\n",
    "# we then map back all the edges\n",
    "n_vertices = len(node_set)\n",
    "edge_object_ids = [obj_id for obj_id, _, _, _, _ in edge_data]\n",
    "edges = [[node_dict[start_node], node_dict[end_node]] for _, _, _, start_node, end_node in edge_data]\n",
    "edge_distances = [distance for _, distance, _, _, _ in edge_data]\n",
    "\n",
    "# and we create the highway graph and output it\n",
    "highway_graph = igraph.Graph(n=n_vertices, \n",
    "                             edges=edges, \n",
    "                             edge_attrs={'weight':edge_distances}\n",
    "                            )\n",
    "highway_graph.write_gml(\"../data/transformed/highway.gml\")"
   ]
  },
  {
   "cell_type": "code",
   "execution_count": 17,
   "id": "f64f1c1d-e2c5-49f0-b385-1e7d1e0b0a62",
   "metadata": {},
   "outputs": [],
   "source": [
    "with open('../data/transformed/county_to_node_dict.pickle','wb') as fp:\n",
    "    pickle.dump(county_to_node_dict, fp)"
   ]
  },
  {
   "cell_type": "code",
   "execution_count": 18,
   "id": "98b488e8-4047-4ef7-acc7-9f9d919ad597",
   "metadata": {},
   "outputs": [],
   "source": [
    "with open('../data/transformed/node_dict.pickle','wb') as fp:\n",
    "    pickle.dump(node_dict, fp)"
   ]
  },
  {
   "cell_type": "markdown",
   "id": "42811907-ae83-4fa7-8718-41f14a952388",
   "metadata": {},
   "source": [
    "### Load the county OD data and select a random node to associate all county data"
   ]
  },
  {
   "cell_type": "code",
   "execution_count": 19,
   "id": "a26d5f6f-f5ed-4724-8bf4-208ec41dd010",
   "metadata": {},
   "outputs": [],
   "source": [
    "logger = logging.getLogger()"
   ]
  },
  {
   "cell_type": "code",
   "execution_count": 49,
   "id": "6fd51cad-c6bd-4b3a-bcd6-60c9fa1dcd94",
   "metadata": {},
   "outputs": [],
   "source": [
    "county_od = pd.read_parquet('../data/transformed/county_od.parquet')"
   ]
  },
  {
   "cell_type": "code",
   "execution_count": 21,
   "id": "a79abd7f-025b-4103-8b7d-24a030d495e3",
   "metadata": {},
   "outputs": [],
   "source": [
    "logger.info(\"Reading highway graph\")\n",
    "highway_graph = igraph.read(\"../data/transformed/highway.gml\")\n",
    "with open('../data/transformed/county_to_node_dict.pickle', 'rb') as fp:\n",
    "    county_to_graph_node_dict = pickle.load(fp)\n",
    "with open('../data/transformed/node_dict.pickle', 'rb') as fp:\n",
    "    graph_node_dict = pickle.load(fp)"
   ]
  },
  {
   "cell_type": "code",
   "execution_count": 90,
   "id": "6d1313c7-dd0d-4f9f-a512-131d158f6f59",
   "metadata": {},
   "outputs": [],
   "source": [
    "county_od_sample = county_od.head(200)"
   ]
  },
  {
   "cell_type": "code",
   "execution_count": 91,
   "id": "5cde4435-2e39-4fd7-b227-7da94c3f4cfc",
   "metadata": {},
   "outputs": [
    {
     "name": "stdout",
     "output_type": "stream",
     "text": [
      "CPU times: total: 7.09 s\n",
      "Wall time: 7.11 s\n"
     ]
    }
   ],
   "source": [
    "%%time\n",
    "\n",
    "def get_nodes(row) -> Tuple[Optional[float],Optional[float]]:\n",
    "    candidate_origin_nodes = county_to_node_dict[(row.state_orig,row.county_orig)]\n",
    "    candidate_dest_nodes = county_to_node_dict[(row.state_dest,row.county_dest)]\n",
    "    if not (candidate_origin_nodes and candidate_dest_nodes):\n",
    "        return (-1, -1)\n",
    "    src_node_id = node_dict[random.choice(candidate_origin_nodes)]\n",
    "    dest_node_id = node_dict[random.choice(candidate_dest_nodes)]\n",
    "    return (src_node_id, dest_node_id)\n",
    "    \n",
    "# counter = 0\n",
    "\n",
    "def shortest_path_from_county_od_row(row):\n",
    "    src_node_id, dest_node_id = get_nodes(row)\n",
    "    if src_node_id > 0 and dest_node_id > 0:\n",
    "        path_edges=highway_graph.get_shortest_path(src_node_id,\n",
    "                                   to=dest_node_id,\n",
    "                                   weights=highway_graph.es['weight'],\n",
    "                                   output=\"epath\"\n",
    "                                   )\n",
    "        return {'county_od_index': row.Index, 'result': np.array(path_edges)}\n",
    "    return {'county_od_index': row.Index, 'result': np.array([])}\n",
    "    \n",
    "start = time.perf_counter()\n",
    "\n",
    "\n",
    "result = [shortest_path_from_county_od_row(row) for row in county_od_sample.itertuples()]\n",
    "\n",
    "\n",
    "    # counter += 1\n",
    "    # if counter > 500:\n",
    "    #     break\n",
    "stop = time.perf_counter()\n",
    "logger.info(f\"Ran in {stop - start:.1f} seconds\")"
   ]
  },
  {
   "cell_type": "code",
   "execution_count": 92,
   "id": "b53513c1-0cbc-483c-9832-82e117a5205c",
   "metadata": {},
   "outputs": [],
   "source": [
    "pd.DataFrame(result).to_parquet('../data/transformed/naive_result.parquet')"
   ]
  },
  {
   "cell_type": "code",
   "execution_count": 93,
   "id": "f9e13a05-2195-4691-96d3-b8d70b8e1549",
   "metadata": {},
   "outputs": [],
   "source": [
    "with open('../data/transformed/naive_result.pickle','wb') as fp:\n",
    "    pickle.dump(result, fp)"
   ]
  },
  {
   "cell_type": "markdown",
   "id": "ed865a93-ef78-4bac-84d9-d9fa114afee2",
   "metadata": {},
   "source": [
    "1. Methods for stuff\n",
    "\n",
    "* all or nothing assignment [naive \"lowest\" impedance path for each O-D pair. does not take into account congestion]\n",
    "* sequential congestion assignment [order-dependent! not straighforwardly parallelizable. not obvious what the congestion function is...]\n",
    "* probablistic assignment on top k \"low impedance\" candidate paths [picking candidates is hard]\n",
    "* really cool convex programming problem [intractable]\n",
    "    - for all flow paths between O-D, have some power (quadratic?) cost function with constraints"
   ]
  }
 ],
 "metadata": {
  "kernelspec": {
   "display_name": "Python 3 (ipykernel)",
   "language": "python",
   "name": "python3"
  },
  "language_info": {
   "codemirror_mode": {
    "name": "ipython",
    "version": 3
   },
   "file_extension": ".py",
   "mimetype": "text/x-python",
   "name": "python",
   "nbconvert_exporter": "python",
   "pygments_lexer": "ipython3",
   "version": "3.11.7"
  }
 },
 "nbformat": 4,
 "nbformat_minor": 5
}
