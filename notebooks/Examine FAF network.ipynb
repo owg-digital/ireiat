{
 "cells": [
  {
   "cell_type": "code",
   "execution_count": 1,
   "metadata": {},
   "outputs": [],
   "source": [
    "import pandas as pd\n",
    "import geopandas as gpd\n",
    "import numpy as np\n",
    "import networkx as nx\n",
    "\n",
    "pd.options.display.max_columns = None\n",
    "pd_max_colwidth_original = pd.options.display.max_colwidth\n",
    "# pd.options.display.max_colwidth = None\n",
    "gpd.options.io_engine = \"pyogrio\""
   ]
  },
  {
   "cell_type": "code",
   "execution_count": 2,
   "metadata": {},
   "outputs": [
    {
     "name": "stdout",
     "output_type": "stream",
     "text": [
      "Number of nodes prior to drop duplicates: 974788\n",
      "Number of nodes after to drop duplicates: 348442\n"
     ]
    }
   ],
   "source": [
    "directory_location = r'../../Truck_Areas/'\n",
    "faf_nodes_df = gpd.read_file(r'zip://' + directory_location + 'FAF5_Model_Highway_Network.zip!Networks/Geodatabase Format/FAF5Network.gdb/a0000000a.gdbtable')\n",
    "print(f'Number of nodes prior to drop duplicates: {len(faf_nodes_df)}')\n",
    "faf_nodes_df.drop_duplicates(inplace=True)\n",
    "faf_nodes_df.drop(faf_nodes_df[faf_nodes_df.State.isin([\"HI\", \"AK\"])].index, inplace=True)\n",
    "faf_nodes_df.reset_index(drop=True, inplace=True)\n",
    "print(f'Number of nodes after to drop duplicates: {len(faf_nodes_df)}')\n",
    "faf_links_df = gpd.read_file(r'zip://' + directory_location + 'FAF5_Model_Highway_Network.zip!Networks/Geodatabase Format/FAF5Network.gdb/a00000009.gdbtable')\n",
    "faf_links_df.drop(faf_links_df[faf_links_df.STATE.isin([\"HI\", \"AK\"])].index, inplace=True)\n",
    "faf_links_df.reset_index(drop=True, inplace=True)"
   ]
  },
  {
   "cell_type": "code",
   "execution_count": 3,
   "metadata": {},
   "outputs": [
    {
     "data": {
      "text/html": [
       "<div>\n",
       "<style scoped>\n",
       "    .dataframe tbody tr th:only-of-type {\n",
       "        vertical-align: middle;\n",
       "    }\n",
       "\n",
       "    .dataframe tbody tr th {\n",
       "        vertical-align: top;\n",
       "    }\n",
       "\n",
       "    .dataframe thead th {\n",
       "        text-align: right;\n",
       "    }\n",
       "</style>\n",
       "<table border=\"1\" class=\"dataframe\">\n",
       "  <thead>\n",
       "    <tr style=\"text-align: right;\">\n",
       "      <th></th>\n",
       "      <th>ID</th>\n",
       "      <th>DATA</th>\n",
       "      <th>Entry_or_Exit</th>\n",
       "      <th>Exit_Number</th>\n",
       "      <th>Interchange</th>\n",
       "      <th>Centroid</th>\n",
       "      <th>CentroidID</th>\n",
       "      <th>Facility_Type</th>\n",
       "      <th>Facility_Name</th>\n",
       "      <th>County</th>\n",
       "      <th>State</th>\n",
       "      <th>StateID</th>\n",
       "      <th>StateName</th>\n",
       "      <th>FAFID</th>\n",
       "      <th>StateNameBak</th>\n",
       "      <th>geometry</th>\n",
       "    </tr>\n",
       "  </thead>\n",
       "  <tbody>\n",
       "    <tr>\n",
       "      <th>348440</th>\n",
       "      <td>1949490</td>\n",
       "      <td>46492932</td>\n",
       "      <td>None</td>\n",
       "      <td>None</td>\n",
       "      <td>None</td>\n",
       "      <td>NaN</td>\n",
       "      <td>NaN</td>\n",
       "      <td>None</td>\n",
       "      <td>None</td>\n",
       "      <td>None</td>\n",
       "      <td>None</td>\n",
       "      <td>NaN</td>\n",
       "      <td>None</td>\n",
       "      <td>NaN</td>\n",
       "      <td>None</td>\n",
       "      <td>POINT (-68.76264 44.80220)</td>\n",
       "    </tr>\n",
       "    <tr>\n",
       "      <th>348441</th>\n",
       "      <td>1949491</td>\n",
       "      <td>46492239</td>\n",
       "      <td>None</td>\n",
       "      <td>None</td>\n",
       "      <td>None</td>\n",
       "      <td>NaN</td>\n",
       "      <td>NaN</td>\n",
       "      <td>None</td>\n",
       "      <td>None</td>\n",
       "      <td>None</td>\n",
       "      <td>None</td>\n",
       "      <td>NaN</td>\n",
       "      <td>None</td>\n",
       "      <td>NaN</td>\n",
       "      <td>None</td>\n",
       "      <td>POINT (-68.76740 44.80308)</td>\n",
       "    </tr>\n",
       "  </tbody>\n",
       "</table>\n",
       "</div>"
      ],
      "text/plain": [
       "             ID      DATA Entry_or_Exit Exit_Number Interchange  Centroid   \n",
       "348440  1949490  46492932          None        None        None       NaN  \\\n",
       "348441  1949491  46492239          None        None        None       NaN   \n",
       "\n",
       "        CentroidID Facility_Type Facility_Name County State  StateID   \n",
       "348440         NaN          None          None   None  None      NaN  \\\n",
       "348441         NaN          None          None   None  None      NaN   \n",
       "\n",
       "       StateName  FAFID StateNameBak                    geometry  \n",
       "348440      None    NaN         None  POINT (-68.76264 44.80220)  \n",
       "348441      None    NaN         None  POINT (-68.76740 44.80308)  "
      ]
     },
     "execution_count": 3,
     "metadata": {},
     "output_type": "execute_result"
    }
   ],
   "source": [
    "faf_nodes_df.tail(2)"
   ]
  },
  {
   "cell_type": "code",
   "execution_count": 4,
   "metadata": {},
   "outputs": [
    {
     "data": {
      "text/html": [
       "<div>\n",
       "<style scoped>\n",
       "    .dataframe tbody tr th:only-of-type {\n",
       "        vertical-align: middle;\n",
       "    }\n",
       "\n",
       "    .dataframe tbody tr th {\n",
       "        vertical-align: top;\n",
       "    }\n",
       "\n",
       "    .dataframe thead th {\n",
       "        text-align: right;\n",
       "    }\n",
       "</style>\n",
       "<table border=\"1\" class=\"dataframe\">\n",
       "  <thead>\n",
       "    <tr style=\"text-align: right;\">\n",
       "      <th></th>\n",
       "      <th>ID</th>\n",
       "      <th>LENGTH</th>\n",
       "      <th>DIR</th>\n",
       "      <th>DATA</th>\n",
       "      <th>VERSION</th>\n",
       "      <th>Class</th>\n",
       "      <th>Class_Description</th>\n",
       "      <th>Road_Name</th>\n",
       "      <th>Sign_Rte</th>\n",
       "      <th>Rte_Type</th>\n",
       "      <th>Rte_Number</th>\n",
       "      <th>Rte_Qualifier</th>\n",
       "      <th>Country</th>\n",
       "      <th>STATE</th>\n",
       "      <th>STFIPS</th>\n",
       "      <th>County_Name</th>\n",
       "      <th>CTFIPS</th>\n",
       "      <th>Urban_Code</th>\n",
       "      <th>FAFZONE</th>\n",
       "      <th>Status</th>\n",
       "      <th>F_Class</th>\n",
       "      <th>Facility_Type</th>\n",
       "      <th>NHS</th>\n",
       "      <th>STRAHNET</th>\n",
       "      <th>NHFN</th>\n",
       "      <th>Truck</th>\n",
       "      <th>AB_Lanes</th>\n",
       "      <th>BA_Lanes</th>\n",
       "      <th>Speed_Limit</th>\n",
       "      <th>Toll_Type</th>\n",
       "      <th>Toll_Name</th>\n",
       "      <th>Toll_Link</th>\n",
       "      <th>Toll_Link_Name</th>\n",
       "      <th>HPMS_USA_RouteID</th>\n",
       "      <th>HPMS_Begin_Point</th>\n",
       "      <th>HPMS_End_Point</th>\n",
       "      <th>BorderState1</th>\n",
       "      <th>BorderState2</th>\n",
       "      <th>BorderFAF1</th>\n",
       "      <th>BorderFAF2</th>\n",
       "      <th>TRUCKTOLL</th>\n",
       "      <th>BorderLink</th>\n",
       "      <th>AddedBorderTime</th>\n",
       "      <th>AdjustSpeed</th>\n",
       "      <th>AdjustReason</th>\n",
       "      <th>AB_FinalSpeed</th>\n",
       "      <th>BA_FinalSpeed</th>\n",
       "      <th>AB_CombinedSpeed</th>\n",
       "      <th>BA_CombinedSpeed</th>\n",
       "      <th>AB_FreeFlowTime</th>\n",
       "      <th>BA_FreeFlowTime</th>\n",
       "      <th>SHAPE_Length</th>\n",
       "      <th>geometry</th>\n",
       "    </tr>\n",
       "  </thead>\n",
       "  <tbody>\n",
       "    <tr>\n",
       "      <th>484444</th>\n",
       "      <td>1949503</td>\n",
       "      <td>0.168653</td>\n",
       "      <td>0</td>\n",
       "      <td>669923</td>\n",
       "      <td>V2021.05</td>\n",
       "      <td>14.0</td>\n",
       "      <td>Arterial or Major Collector</td>\n",
       "      <td>BROADWAY</td>\n",
       "      <td>ME 15</td>\n",
       "      <td>S</td>\n",
       "      <td>15</td>\n",
       "      <td>None</td>\n",
       "      <td>USA</td>\n",
       "      <td>ME</td>\n",
       "      <td>23</td>\n",
       "      <td>PENOBSCOT</td>\n",
       "      <td>23019</td>\n",
       "      <td>04951</td>\n",
       "      <td>230.0</td>\n",
       "      <td>1.0</td>\n",
       "      <td>3.0</td>\n",
       "      <td>2.0</td>\n",
       "      <td>10.0</td>\n",
       "      <td>NaN</td>\n",
       "      <td>NaN</td>\n",
       "      <td>None</td>\n",
       "      <td>2.0</td>\n",
       "      <td>2.0</td>\n",
       "      <td>25.0</td>\n",
       "      <td>NaN</td>\n",
       "      <td>None</td>\n",
       "      <td>NaN</td>\n",
       "      <td>None</td>\n",
       "      <td>None</td>\n",
       "      <td>NaN</td>\n",
       "      <td>NaN</td>\n",
       "      <td>None</td>\n",
       "      <td>None</td>\n",
       "      <td>NaN</td>\n",
       "      <td>NaN</td>\n",
       "      <td>NaN</td>\n",
       "      <td>NaN</td>\n",
       "      <td>NaN</td>\n",
       "      <td>NaN</td>\n",
       "      <td>None</td>\n",
       "      <td>25.0</td>\n",
       "      <td>25.0</td>\n",
       "      <td>25.0</td>\n",
       "      <td>25.0</td>\n",
       "      <td>0.404766</td>\n",
       "      <td>0.404766</td>\n",
       "      <td>0.002789</td>\n",
       "      <td>MULTILINESTRING ((-68.77395 44.81775, -68.7743...</td>\n",
       "    </tr>\n",
       "    <tr>\n",
       "      <th>484445</th>\n",
       "      <td>1949504</td>\n",
       "      <td>0.207630</td>\n",
       "      <td>1</td>\n",
       "      <td>775835</td>\n",
       "      <td>V2021.05</td>\n",
       "      <td>22.0</td>\n",
       "      <td>Ramp</td>\n",
       "      <td>RAMP</td>\n",
       "      <td>None</td>\n",
       "      <td>None</td>\n",
       "      <td>None</td>\n",
       "      <td>None</td>\n",
       "      <td>USA</td>\n",
       "      <td>ME</td>\n",
       "      <td>23</td>\n",
       "      <td>PENOBSCOT</td>\n",
       "      <td>23019</td>\n",
       "      <td>04951</td>\n",
       "      <td>230.0</td>\n",
       "      <td>1.0</td>\n",
       "      <td>1.0</td>\n",
       "      <td>4.0</td>\n",
       "      <td>12.0</td>\n",
       "      <td>NaN</td>\n",
       "      <td>NaN</td>\n",
       "      <td>None</td>\n",
       "      <td>1.0</td>\n",
       "      <td>NaN</td>\n",
       "      <td>35.0</td>\n",
       "      <td>NaN</td>\n",
       "      <td>None</td>\n",
       "      <td>NaN</td>\n",
       "      <td>None</td>\n",
       "      <td>None</td>\n",
       "      <td>NaN</td>\n",
       "      <td>NaN</td>\n",
       "      <td>None</td>\n",
       "      <td>None</td>\n",
       "      <td>NaN</td>\n",
       "      <td>NaN</td>\n",
       "      <td>NaN</td>\n",
       "      <td>NaN</td>\n",
       "      <td>NaN</td>\n",
       "      <td>NaN</td>\n",
       "      <td>None</td>\n",
       "      <td>29.5</td>\n",
       "      <td>29.5</td>\n",
       "      <td>29.5</td>\n",
       "      <td>29.5</td>\n",
       "      <td>0.422299</td>\n",
       "      <td>0.422299</td>\n",
       "      <td>0.003698</td>\n",
       "      <td>MULTILINESTRING ((-68.77395 44.81775, -68.7737...</td>\n",
       "    </tr>\n",
       "  </tbody>\n",
       "</table>\n",
       "</div>"
      ],
      "text/plain": [
       "             ID    LENGTH  DIR    DATA   VERSION  Class   \n",
       "484444  1949503  0.168653    0  669923  V2021.05   14.0  \\\n",
       "484445  1949504  0.207630    1  775835  V2021.05   22.0   \n",
       "\n",
       "                  Class_Description Road_Name Sign_Rte Rte_Type Rte_Number   \n",
       "484444  Arterial or Major Collector  BROADWAY    ME 15        S         15  \\\n",
       "484445                         Ramp      RAMP     None     None       None   \n",
       "\n",
       "       Rte_Qualifier Country STATE STFIPS County_Name CTFIPS Urban_Code   \n",
       "484444          None     USA    ME     23   PENOBSCOT  23019      04951  \\\n",
       "484445          None     USA    ME     23   PENOBSCOT  23019      04951   \n",
       "\n",
       "        FAFZONE  Status  F_Class  Facility_Type   NHS  STRAHNET  NHFN Truck   \n",
       "484444    230.0     1.0      3.0            2.0  10.0       NaN   NaN  None  \\\n",
       "484445    230.0     1.0      1.0            4.0  12.0       NaN   NaN  None   \n",
       "\n",
       "        AB_Lanes  BA_Lanes  Speed_Limit  Toll_Type Toll_Name  Toll_Link   \n",
       "484444       2.0       2.0         25.0        NaN      None        NaN  \\\n",
       "484445       1.0       NaN         35.0        NaN      None        NaN   \n",
       "\n",
       "       Toll_Link_Name HPMS_USA_RouteID  HPMS_Begin_Point  HPMS_End_Point   \n",
       "484444           None             None               NaN             NaN  \\\n",
       "484445           None             None               NaN             NaN   \n",
       "\n",
       "       BorderState1 BorderState2  BorderFAF1  BorderFAF2  TRUCKTOLL   \n",
       "484444         None         None         NaN         NaN        NaN  \\\n",
       "484445         None         None         NaN         NaN        NaN   \n",
       "\n",
       "        BorderLink  AddedBorderTime  AdjustSpeed AdjustReason  AB_FinalSpeed   \n",
       "484444         NaN              NaN          NaN         None           25.0  \\\n",
       "484445         NaN              NaN          NaN         None           29.5   \n",
       "\n",
       "        BA_FinalSpeed  AB_CombinedSpeed  BA_CombinedSpeed  AB_FreeFlowTime   \n",
       "484444           25.0              25.0              25.0         0.404766  \\\n",
       "484445           29.5              29.5              29.5         0.422299   \n",
       "\n",
       "        BA_FreeFlowTime  SHAPE_Length   \n",
       "484444         0.404766      0.002789  \\\n",
       "484445         0.422299      0.003698   \n",
       "\n",
       "                                                 geometry  \n",
       "484444  MULTILINESTRING ((-68.77395 44.81775, -68.7743...  \n",
       "484445  MULTILINESTRING ((-68.77395 44.81775, -68.7737...  "
      ]
     },
     "execution_count": 4,
     "metadata": {},
     "output_type": "execute_result"
    }
   ],
   "source": [
    "faf_links_df.tail(2)"
   ]
  },
  {
   "cell_type": "code",
   "execution_count": 5,
   "metadata": {},
   "outputs": [
    {
     "name": "stdout",
     "output_type": "stream",
     "text": [
      "faf_links_df.csr: EPSG:4269\n",
      "faf_nodes_df.csr: EPSG:4269\n",
      "faf_links_df.shape: (484446, 53)\n",
      "faf_nodes_df.shape: (348442, 16)\n",
      "len(faf_links_df): 484446\n",
      "len(faf_nodes_df): 348442\n",
      "len(faf_links_df.columns): 53\n",
      "len(faf_nodes_df.columns): 16\n"
     ]
    }
   ],
   "source": [
    "print(f'faf_links_df.csr: {faf_links_df.crs}')\n",
    "print(f'faf_nodes_df.csr: {faf_nodes_df.crs}')\n",
    "print(f'faf_links_df.shape: {faf_links_df.shape}')\n",
    "print(f'faf_nodes_df.shape: {faf_nodes_df.shape}')\n",
    "print(f'len(faf_links_df): {len(faf_links_df)}')\n",
    "print(f'len(faf_nodes_df): {len(faf_nodes_df)}')\n",
    "print(f'len(faf_links_df.columns): {len(faf_links_df.columns)}')\n",
    "print(f'len(faf_nodes_df.columns): {len(faf_nodes_df.columns)}')"
   ]
  },
  {
   "cell_type": "code",
   "execution_count": 6,
   "metadata": {},
   "outputs": [],
   "source": [
    "import shapely"
   ]
  },
  {
   "cell_type": "code",
   "execution_count": 7,
   "metadata": {},
   "outputs": [
    {
     "data": {
      "text/plain": [
       "(348442, 348442)"
      ]
     },
     "execution_count": 7,
     "metadata": {},
     "output_type": "execute_result"
    }
   ],
   "source": [
    "node_lat_long_to_idx = {(row.geometry.coords[0][1], row.geometry.coords[0][0]): row.Index for row in faf_nodes_df.itertuples(index=True)}\n",
    "len(node_lat_long_to_idx), len(faf_nodes_df)"
   ]
  },
  {
   "cell_type": "code",
   "execution_count": 8,
   "metadata": {},
   "outputs": [],
   "source": [
    "from_node_idx: list[int] = list()\n",
    "to_node_idx: list[int] = list()\n",
    "links_with_no_valid_nodes: list[tuple[int, str, str, str, int, int]] = list()\n",
    "for row in faf_links_df.itertuples(index=True):\n",
    "    if shapely.get_num_geometries(row.geometry) > 1:\n",
    "        print(row)\n",
    "    linestring = shapely.get_geometry(row.geometry, 0)\n",
    "    one_end_point = (linestring.coords[0][1], linestring.coords[0][0])\n",
    "    other_end_point = (linestring.coords[-1][1], linestring.coords[-1][0])\n",
    "    one_end_point_idx = node_lat_long_to_idx[one_end_point] if one_end_point in node_lat_long_to_idx else -1\n",
    "    other_end_point_idx = node_lat_long_to_idx[other_end_point] if other_end_point in node_lat_long_to_idx else -1\n",
    "    from_node_idx.append(one_end_point_idx)\n",
    "    to_node_idx.append(other_end_point_idx)\n",
    "       \n",
    "    if one_end_point_idx == -1 or other_end_point_idx == -1:\n",
    "        links_with_no_valid_nodes.append((row.ID, row.Country, row.STATE, row.Road_Name, one_end_point_idx, other_end_point_idx))\n",
    "    \n",
    "links_with_no_valid_nodes\n",
    "faf_links_df['FROM_NODE_IDX'] = from_node_idx\n",
    "faf_links_df['TO_NODE_IDX'] = to_node_idx"
   ]
  },
  {
   "cell_type": "code",
   "execution_count": 9,
   "metadata": {},
   "outputs": [
    {
     "data": {
      "text/plain": [
       "346168"
      ]
     },
     "execution_count": 9,
     "metadata": {},
     "output_type": "execute_result"
    }
   ],
   "source": [
    "len(set(from_node_idx) | set(to_node_idx))"
   ]
  },
  {
   "cell_type": "code",
   "execution_count": 10,
   "metadata": {},
   "outputs": [
    {
     "name": "stdout",
     "output_type": "stream",
     "text": [
      "edges 651,072\n"
     ]
    }
   ],
   "source": [
    "nx_highway_graph = nx.DiGraph()\n",
    "\n",
    "edge_idx_counter = 0\n",
    "for row in faf_links_df.itertuples():\n",
    "\n",
    "    origin_node_idx = row.FROM_NODE_IDX\n",
    "    destination_node_idx = row.TO_NODE_IDX\n",
    "    if origin_node_idx == -1 or destination_node_idx == -1:\n",
    "        continue\n",
    "\n",
    "    origin_node = faf_nodes_df.loc[origin_node_idx]\n",
    "    destination_node = faf_nodes_df.loc[destination_node_idx]\n",
    "\n",
    "    # add the nodes with the right attributese to be used by dyntapy\n",
    "    nx_highway_graph.add_node(\n",
    "        origin_node_idx, x_coord=origin_node.geometry.coords[0][0], y_coord=origin_node.geometry.coords[0][1])\n",
    "    nx_highway_graph.add_node(\n",
    "        destination_node_idx, x_coord=destination_node.geometry.coords[0][0], y_coord=destination_node.geometry.coords[0][1])\n",
    "\n",
    "    # add the edges with the right attributes to be used by dyntapy\n",
    "    # ‘from_node_id’, ‘to_node_id’, ‘link_id’, ‘lanes’, ‘capacity’, ‘length’, ‘free_speed’\n",
    "    length_miles = row.LENGTH\n",
    "    ab_lanes = 0 if (np.isnan(row.AB_Lanes) or row.AB_Lanes <\n",
    "                     1) else row.AB_Lanes  # many links have NaN or 0 lanes\n",
    "    ba_lanes = 0 if (np.isnan(row.BA_Lanes) or row.BA_Lanes < 1) else row.BA_Lanes\n",
    "    ab_edge = {\n",
    "        'u_of_edge': origin_node_idx,\n",
    "        'v_of_edge': destination_node_idx,\n",
    "        'from_node_id': origin_node_idx,\n",
    "        'to_node_id': destination_node_idx,\n",
    "        'lanes': ab_lanes,\n",
    "        'length': length_miles,\n",
    "        'free_speed': row.AB_FinalSpeed,  # still not sure of this\n",
    "        'capacity': ab_lanes*22000\n",
    "    }\n",
    "    ba_edge = {\n",
    "        'u_of_edge': destination_node_idx,\n",
    "        'v_of_edge': origin_node_idx,\n",
    "        'from_node_id': destination_node_idx,\n",
    "        'to_node_id': origin_node_idx,\n",
    "        'lanes': ba_lanes,\n",
    "        'length': length_miles,\n",
    "        'free_speed': row.BA_FinalSpeed,  # still not sure of this\n",
    "        'capacity': ba_lanes*22000\n",
    "    }\n",
    "\n",
    "    if row.DIR == 1:  # A-> B only\n",
    "        ab_edge[\"link_id\"] = edge_idx_counter\n",
    "        nx_highway_graph.add_edge(**ab_edge)\n",
    "        edge_idx_counter += 1\n",
    "\n",
    "    elif row.DIR == -1:  # B->A only\n",
    "        ba_edge[\"link_id\"] = edge_idx_counter\n",
    "        nx_highway_graph.add_edge(**ba_edge)\n",
    "        edge_idx_counter += 1\n",
    "\n",
    "    else:\n",
    "        # add A->B\n",
    "        ab_edge[\"link_id\"] = edge_idx_counter\n",
    "        nx_highway_graph.add_edge(**ab_edge)\n",
    "        edge_idx_counter += 1\n",
    "\n",
    "        # add B->A\n",
    "        ba_edge[\"link_id\"] = edge_idx_counter\n",
    "        nx_highway_graph.add_edge(**ba_edge)\n",
    "        edge_idx_counter += 1\n",
    "\n",
    "print(f\"edges {edge_idx_counter:,}\")"
   ]
  },
  {
   "cell_type": "code",
   "execution_count": null,
   "metadata": {},
   "outputs": [],
   "source": [
    "print(f\"Is graph strongly connected: {nx.is_strongly_connected(nx_highway_graph)}\")\n",
    "print(f\"Number of strongly connected components {len([x for x in nx.strongly_connected_components(nx_highway_graph)]):,}\")\n",
    "print(f\"Number of weekly connected components {len([x for x in nx.weakly_connected_components(nx_highway_graph)]):,}\")"
   ]
  },
  {
   "cell_type": "code",
   "execution_count": null,
   "metadata": {},
   "outputs": [],
   "source": [
    "s_components = [x for x in nx.strongly_connected_components(nx_highway_graph)]\n",
    "[ for x in s_components if len(x) > 1]"
   ]
  },
  {
   "cell_type": "code",
   "execution_count": null,
   "metadata": {},
   "outputs": [],
   "source": [
    "s_components[10000]"
   ]
  },
  {
   "cell_type": "code",
   "execution_count": null,
   "metadata": {},
   "outputs": [],
   "source": [
    "lon, lat = faf_nodes_df.loc[120178].geometry.coords[0]\n",
    "lat, lon"
   ]
  },
  {
   "cell_type": "code",
   "execution_count": null,
   "metadata": {},
   "outputs": [],
   "source": [
    "fake_graph = nx.DiGraph([(0, 1), (1, 2), (2, 3)])\n",
    "nx.is_strongly_connected(fake_graph)"
   ]
  },
  {
   "cell_type": "code",
   "execution_count": null,
   "metadata": {},
   "outputs": [],
   "source": [
    "faf_nodes_df.loc[[892231,892233]]"
   ]
  },
  {
   "cell_type": "code",
   "execution_count": null,
   "metadata": {},
   "outputs": [],
   "source": [
    "x = faf_links_df.loc[faf_links_df.ID.isin([1784578, 1784579, 1391622])]\n",
    "x"
   ]
  },
  {
   "cell_type": "code",
   "execution_count": null,
   "metadata": {},
   "outputs": [],
   "source": [
    "faf_links_df.DIR.value_counts()"
   ]
  },
  {
   "cell_type": "code",
   "execution_count": null,
   "metadata": {},
   "outputs": [],
   "source": [
    "faf_nodes_df.loc[faf_links_df.loc[443800].FROM_NODE_IDX]"
   ]
  },
  {
   "cell_type": "code",
   "execution_count": null,
   "metadata": {},
   "outputs": [],
   "source": [
    "faf_nodes_df.loc[faf_links_df.loc[443800].TO_NODE_IDX]"
   ]
  },
  {
   "cell_type": "code",
   "execution_count": null,
   "metadata": {},
   "outputs": [],
   "source": [
    "faf_links_df[(faf_links_df.DIR == -1) & (faf_links_df.STATE == \"PA\")]"
   ]
  },
  {
   "cell_type": "code",
   "execution_count": null,
   "metadata": {},
   "outputs": [],
   "source": [
    "x.explore()"
   ]
  },
  {
   "cell_type": "code",
   "execution_count": null,
   "metadata": {},
   "outputs": [],
   "source": [
    "faf_nodes_df.loc[[889753,889751]]"
   ]
  },
  {
   "cell_type": "code",
   "execution_count": null,
   "metadata": {},
   "outputs": [],
   "source": [
    "faf_links_df.loc[[444875,444881]]"
   ]
  }
 ],
 "metadata": {
  "kernelspec": {
   "display_name": "venv311",
   "language": "python",
   "name": "python3"
  },
  "language_info": {
   "codemirror_mode": {
    "name": "ipython",
    "version": 3
   },
   "file_extension": ".py",
   "mimetype": "text/x-python",
   "name": "python",
   "nbconvert_exporter": "python",
   "pygments_lexer": "ipython3",
   "version": "3.11.5"
  }
 },
 "nbformat": 4,
 "nbformat_minor": 2
}
