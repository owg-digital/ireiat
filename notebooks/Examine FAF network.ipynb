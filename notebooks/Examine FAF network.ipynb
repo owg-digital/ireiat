{
 "cells": [
  {
   "cell_type": "code",
   "execution_count": 36,
   "metadata": {},
   "outputs": [],
   "source": [
    "import pandas as pd\n",
    "import geopandas as gpd\n",
    "import numpy as np\n",
    "import networkx as nx\n",
    "import shapely\n",
    "from sklearn.neighbors import BallTree\n",
    "from pathlib import Path\n",
    "\n",
    "pd.options.display.max_columns = None\n",
    "pd_max_colwidth_original = pd.options.display.max_colwidth\n",
    "# pd.options.display.max_colwidth = None\n",
    "gpd.options.io_engine = \"pyogrio\""
   ]
  },
  {
   "cell_type": "code",
   "execution_count": 2,
   "metadata": {},
   "outputs": [
    {
     "name": "stdout",
     "output_type": "stream",
     "text": [
      "Number of nodes prior to dropping duplicates: 974788\n",
      "Number of nodes after dropping duplicates: 348495\n"
     ]
    }
   ],
   "source": [
    "directory_location = r'../../Truck_Areas/'\n",
    "faf_nodes_df = gpd.read_file(r'zip://' + directory_location + 'FAF5_Model_Highway_Network.zip!Networks/Geodatabase Format/FAF5Network.gdb/a0000000a.gdbtable')\n",
    "print(f'Number of nodes prior to dropping duplicates: {len(faf_nodes_df)}')\n",
    "faf_nodes_df.drop_duplicates(inplace=True)\n",
    "print(f'Number of nodes after dropping duplicates: {len(faf_nodes_df)}')"
   ]
  },
  {
   "cell_type": "code",
   "execution_count": 3,
   "metadata": {},
   "outputs": [
    {
     "name": "stdout",
     "output_type": "stream",
     "text": [
      "Number of nodes after dropping HI and AK: 348442\n"
     ]
    }
   ],
   "source": [
    "faf_nodes_df.drop(faf_nodes_df[faf_nodes_df.State.isin([\"HI\", \"AK\"])].index, inplace=True)\n",
    "faf_nodes_df.reset_index(drop=True, inplace=True)\n",
    "print(f'Number of nodes after dropping HI and AK: {len(faf_nodes_df)}')"
   ]
  },
  {
   "cell_type": "code",
   "execution_count": 4,
   "metadata": {},
   "outputs": [],
   "source": [
    "faf_links_df = gpd.read_file(r'zip://' + directory_location + 'FAF5_Model_Highway_Network.zip!Networks/Geodatabase Format/FAF5Network.gdb/a00000009.gdbtable')\n",
    "faf_links_df.drop(faf_links_df[faf_links_df.STATE.isin([\"HI\", \"AK\"])].index, inplace=True)"
   ]
  },
  {
   "cell_type": "code",
   "execution_count": 5,
   "metadata": {},
   "outputs": [
    {
     "name": "stdout",
     "output_type": "stream",
     "text": [
      "faf_links_df.csr: EPSG:4269\n",
      "faf_nodes_df.csr: EPSG:4269\n",
      "faf_links_df.shape: (484446, 53)\n",
      "faf_nodes_df.shape: (348442, 16)\n",
      "len(faf_links_df): 484446\n",
      "len(faf_nodes_df): 348442\n",
      "len(faf_links_df.columns): 53\n",
      "len(faf_nodes_df.columns): 16\n"
     ]
    }
   ],
   "source": [
    "print(f'faf_links_df.csr: {faf_links_df.crs}')\n",
    "print(f'faf_nodes_df.csr: {faf_nodes_df.crs}')\n",
    "print(f'faf_links_df.shape: {faf_links_df.shape}')\n",
    "print(f'faf_nodes_df.shape: {faf_nodes_df.shape}')\n",
    "print(f'len(faf_links_df): {len(faf_links_df)}')\n",
    "print(f'len(faf_nodes_df): {len(faf_nodes_df)}')\n",
    "print(f'len(faf_links_df.columns): {len(faf_links_df.columns)}')\n",
    "print(f'len(faf_nodes_df.columns): {len(faf_nodes_df.columns)}')"
   ]
  },
  {
   "cell_type": "code",
   "execution_count": 6,
   "metadata": {},
   "outputs": [],
   "source": [
    "def build_node_to_link_structures() -> tuple[list[int], list[int], dict[tuple[float, float], int]]:\n",
    "    faf_links_df.reset_index(drop=True, inplace=True)\n",
    "    faf_nodes_df.reset_index(drop=True, inplace=True)\n",
    "    _node_lat_long_to_idx = {(row.geometry.coords[0][1], row.geometry.coords[0][0]): row.Index for row in faf_nodes_df.itertuples(index=True)}\n",
    "    _from_node_idx: list[int] = list()\n",
    "    _to_node_idx: list[int] = list()\n",
    "    links_with_no_valid_nodes: list[tuple[int, str, str, str, int, int]] = list()\n",
    "    for row in faf_links_df.itertuples(index=True):\n",
    "        if shapely.get_num_geometries(row.geometry) > 1:\n",
    "            print(row)\n",
    "        linestring = shapely.get_geometry(row.geometry, 0)\n",
    "        one_end_point = (linestring.coords[0][1], linestring.coords[0][0])\n",
    "        other_end_point = (linestring.coords[-1][1], linestring.coords[-1][0])\n",
    "        one_end_point_idx = _node_lat_long_to_idx[one_end_point] if one_end_point in _node_lat_long_to_idx else -1\n",
    "        other_end_point_idx = _node_lat_long_to_idx[other_end_point] if other_end_point in _node_lat_long_to_idx else -1\n",
    "        _from_node_idx.append(one_end_point_idx)\n",
    "        _to_node_idx.append(other_end_point_idx)\n",
    "        \n",
    "        if one_end_point_idx == -1 or other_end_point_idx == -1:\n",
    "            links_with_no_valid_nodes.append((row.ID, row.Country, row.STATE, row.Road_Name, one_end_point_idx, other_end_point_idx))\n",
    "        \n",
    "    faf_links_df['FROM_NODE_IDX'] = _from_node_idx\n",
    "    faf_links_df['TO_NODE_IDX'] = _to_node_idx\n",
    "    print(f'Links with no valid nodes: {links_with_no_valid_nodes}')\n",
    "    return _from_node_idx, _to_node_idx, _node_lat_long_to_idx\n"
   ]
  },
  {
   "cell_type": "code",
   "execution_count": 7,
   "metadata": {},
   "outputs": [
    {
     "name": "stdout",
     "output_type": "stream",
     "text": [
      "Links with no valid nodes: [(286, 'CAN', 'BC', 'HWY 2', -1, 91), (6927, 'CAN', 'YT', 'HWY 1', -1, 1358), (6968, 'CAN', 'BC', 'HWY 3', 1391, -1)]\n",
      "num different from nodes, num different to nodes, number of combined from/to nodes\n"
     ]
    },
    {
     "data": {
      "text/plain": [
       "(334985, 334493, 346168)"
      ]
     },
     "execution_count": 7,
     "metadata": {},
     "output_type": "execute_result"
    }
   ],
   "source": [
    "from_node_idx, to_node_idx, node_lat_long_to_idx = build_node_to_link_structures()\n",
    "\n",
    "print(\"num different from nodes, num different to nodes, number of combined from/to nodes\")\n",
    "node_idx_used_by_links = set(from_node_idx) | set(to_node_idx)\n",
    "len(set(from_node_idx)), len(set(to_node_idx)), len(node_idx_used_by_links)"
   ]
  },
  {
   "cell_type": "code",
   "execution_count": 8,
   "metadata": {},
   "outputs": [
    {
     "data": {
      "text/plain": [
       "2275"
      ]
     },
     "execution_count": 8,
     "metadata": {},
     "output_type": "execute_result"
    }
   ],
   "source": [
    "node_idx_not_used_by_links = set(node_lat_long_to_idx.values()) - node_idx_used_by_links\n",
    "len(node_idx_not_used_by_links)"
   ]
  },
  {
   "cell_type": "code",
   "execution_count": 9,
   "metadata": {},
   "outputs": [],
   "source": [
    "# Display all the nodes not used by links - they should all be in Alaska or Hawaii\n",
    "# faf_nodes_df.iloc[list(node_idx_not_used_by_links)].explore()"
   ]
  },
  {
   "cell_type": "code",
   "execution_count": 10,
   "metadata": {},
   "outputs": [
    {
     "name": "stdout",
     "output_type": "stream",
     "text": [
      "Links with no valid nodes: [(286, 'CAN', 'BC', 'HWY 2', -1, 14), (6927, 'CAN', 'YT', 'HWY 1', -1, 54), (6968, 'CAN', 'BC', 'HWY 3', 57, -1)]\n",
      "Final node count: 346167\n"
     ]
    }
   ],
   "source": [
    "# Drop the nodes not used by the links.  These are HI and AK nodes\n",
    "faf_nodes_df.drop(list(node_idx_not_used_by_links), inplace=True)\n",
    "from_node_idx, to_node_idx, node_lat_long_to_idx = build_node_to_link_structures()\n",
    "print(f'Final node count: {len(faf_nodes_df)}')"
   ]
  },
  {
   "cell_type": "markdown",
   "metadata": {},
   "source": [
    "US counties shapefile:  https://www.census.gov/cgi-bin/geo/shapefiles/index.php?year=2022&layergroup=Counties+%28and+equivalent%29 (click on the download button) or find it: https://www2.census.gov/geo/tiger/TIGER2017/COUNTY/"
   ]
  },
  {
   "cell_type": "code",
   "execution_count": 47,
   "metadata": {},
   "outputs": [],
   "source": [
    "counties_df = gpd.read_file(directory_location + \"tl_2017_us_county.zip\")  # US counties shapefile\n",
    "counties_df = counties_df.astype({'INTPTLAT': float, 'INTPTLON': float})"
   ]
  },
  {
   "cell_type": "code",
   "execution_count": 48,
   "metadata": {},
   "outputs": [
    {
     "data": {
      "text/html": [
       "<div>\n",
       "<style scoped>\n",
       "    .dataframe tbody tr th:only-of-type {\n",
       "        vertical-align: middle;\n",
       "    }\n",
       "\n",
       "    .dataframe tbody tr th {\n",
       "        vertical-align: top;\n",
       "    }\n",
       "\n",
       "    .dataframe thead th {\n",
       "        text-align: right;\n",
       "    }\n",
       "</style>\n",
       "<table border=\"1\" class=\"dataframe\">\n",
       "  <thead>\n",
       "    <tr style=\"text-align: right;\">\n",
       "      <th></th>\n",
       "      <th>STATEFP</th>\n",
       "      <th>COUNTYFP</th>\n",
       "      <th>COUNTYNS</th>\n",
       "      <th>GEOID</th>\n",
       "      <th>NAME</th>\n",
       "      <th>NAMELSAD</th>\n",
       "      <th>LSAD</th>\n",
       "      <th>CLASSFP</th>\n",
       "      <th>MTFCC</th>\n",
       "      <th>CSAFP</th>\n",
       "      <th>CBSAFP</th>\n",
       "      <th>METDIVFP</th>\n",
       "      <th>FUNCSTAT</th>\n",
       "      <th>ALAND</th>\n",
       "      <th>AWATER</th>\n",
       "      <th>INTPTLAT</th>\n",
       "      <th>INTPTLON</th>\n",
       "      <th>geometry</th>\n",
       "    </tr>\n",
       "  </thead>\n",
       "  <tbody>\n",
       "    <tr>\n",
       "      <th>0</th>\n",
       "      <td>31</td>\n",
       "      <td>039</td>\n",
       "      <td>00835841</td>\n",
       "      <td>31039</td>\n",
       "      <td>Cuming</td>\n",
       "      <td>Cuming County</td>\n",
       "      <td>06</td>\n",
       "      <td>H1</td>\n",
       "      <td>G4020</td>\n",
       "      <td>None</td>\n",
       "      <td>None</td>\n",
       "      <td>None</td>\n",
       "      <td>A</td>\n",
       "      <td>1477641638</td>\n",
       "      <td>10701538</td>\n",
       "      <td>41.915865</td>\n",
       "      <td>-96.788517</td>\n",
       "      <td>POLYGON ((-97.01952 42.00410, -97.01952 42.004...</td>\n",
       "    </tr>\n",
       "    <tr>\n",
       "      <th>1</th>\n",
       "      <td>53</td>\n",
       "      <td>069</td>\n",
       "      <td>01513275</td>\n",
       "      <td>53069</td>\n",
       "      <td>Wahkiakum</td>\n",
       "      <td>Wahkiakum County</td>\n",
       "      <td>06</td>\n",
       "      <td>H1</td>\n",
       "      <td>G4020</td>\n",
       "      <td>None</td>\n",
       "      <td>None</td>\n",
       "      <td>None</td>\n",
       "      <td>A</td>\n",
       "      <td>680956787</td>\n",
       "      <td>61588406</td>\n",
       "      <td>46.294638</td>\n",
       "      <td>-123.424458</td>\n",
       "      <td>POLYGON ((-123.43639 46.23820, -123.44759 46.2...</td>\n",
       "    </tr>\n",
       "  </tbody>\n",
       "</table>\n",
       "</div>"
      ],
      "text/plain": [
       "  STATEFP COUNTYFP  COUNTYNS  GEOID       NAME          NAMELSAD LSAD CLASSFP   \n",
       "0      31      039  00835841  31039     Cuming     Cuming County   06      H1  \\\n",
       "1      53      069  01513275  53069  Wahkiakum  Wahkiakum County   06      H1   \n",
       "\n",
       "   MTFCC CSAFP CBSAFP METDIVFP FUNCSTAT       ALAND    AWATER   INTPTLAT   \n",
       "0  G4020  None   None     None        A  1477641638  10701538  41.915865  \\\n",
       "1  G4020  None   None     None        A   680956787  61588406  46.294638   \n",
       "\n",
       "     INTPTLON                                           geometry  \n",
       "0  -96.788517  POLYGON ((-97.01952 42.00410, -97.01952 42.004...  \n",
       "1 -123.424458  POLYGON ((-123.43639 46.23820, -123.44759 46.2...  "
      ]
     },
     "execution_count": 48,
     "metadata": {},
     "output_type": "execute_result"
    }
   ],
   "source": [
    "counties_df.head(2)"
   ]
  },
  {
   "cell_type": "code",
   "execution_count": null,
   "metadata": {},
   "outputs": [],
   "source": [
    "# counties_df[(~counties_df.STATEFP.isin([\"02\", \"03\", \"07\", \"14\", \"15\", \"43\", \"52\"])) & (counties_df.STATEFP <= \"56\")].explore()"
   ]
  },
  {
   "cell_type": "code",
   "execution_count": null,
   "metadata": {},
   "outputs": [],
   "source": [
    "# counties_df[counties_df.GEOID == \"42091\"].explore()  # Montgomery County, PA"
   ]
  },
  {
   "cell_type": "code",
   "execution_count": 31,
   "metadata": {},
   "outputs": [
    {
     "name": "stdout",
     "output_type": "stream",
     "text": [
      "edges 651,072\n"
     ]
    }
   ],
   "source": [
    "nx_highway_graph = nx.DiGraph()\n",
    "\n",
    "edge_idx_counter = 0\n",
    "for row in faf_links_df.itertuples(index=True):\n",
    "\n",
    "    origin_node_idx = row.FROM_NODE_IDX\n",
    "    destination_node_idx = row.TO_NODE_IDX\n",
    "    if origin_node_idx == -1 or destination_node_idx == -1:\n",
    "        continue\n",
    "\n",
    "    origin_node = faf_nodes_df.loc[origin_node_idx]\n",
    "    destination_node = faf_nodes_df.loc[destination_node_idx]\n",
    "\n",
    "    # add the nodes with the right attributes to be used by dyntapy\n",
    "    if origin_node_idx not in nx_highway_graph.nodes:\n",
    "        nx_highway_graph.add_node(\n",
    "            origin_node_idx, x_coord=origin_node.geometry.coords[0][0], y_coord=origin_node.geometry.coords[0][1])\n",
    "    if destination_node_idx in nx_highway_graph.nodes:\n",
    "        nx_highway_graph.add_node(\n",
    "            destination_node_idx, x_coord=destination_node.geometry.coords[0][0], y_coord=destination_node.geometry.coords[0][1])\n",
    "\n",
    "    # add the edges with the right attributes to be used by dyntapy\n",
    "    # ‘from_node_id’, ‘to_node_id’, ‘link_id’, ‘lanes’, ‘capacity’, ‘length’, ‘free_speed’\n",
    "    length_miles = row.LENGTH\n",
    "    ab_lanes = 0 if (np.isnan(row.AB_Lanes) or row.AB_Lanes <\n",
    "                     1) else row.AB_Lanes  # many links have NaN or 0 lanes\n",
    "    ba_lanes = 0 if (np.isnan(row.BA_Lanes) or row.BA_Lanes < 1) else row.BA_Lanes\n",
    "    ab_edge = {\n",
    "        'u_of_edge': origin_node_idx,             # networx requires this attribute\n",
    "        'v_of_edge': destination_node_idx,        # networx requires this attribute\n",
    "        'from_node_id': origin_node_idx,\n",
    "        'to_node_id': destination_node_idx,\n",
    "        'link_id': row.Index,\n",
    "        'lanes': ab_lanes,\n",
    "        'length': length_miles,\n",
    "        'free_speed': row.AB_FinalSpeed,  # still not sure of this\n",
    "        'capacity': ab_lanes*22000\n",
    "    }\n",
    "    ba_edge = {\n",
    "        'u_of_edge': destination_node_idx,        # networx requires this attribute\n",
    "        'v_of_edge': origin_node_idx,             # networx requires this attribute\n",
    "        'from_node_id': destination_node_idx,\n",
    "        'to_node_id': origin_node_idx,\n",
    "        'lanes': ba_lanes,\n",
    "        'length': length_miles,\n",
    "        'free_speed': row.BA_FinalSpeed,  # still not sure of this\n",
    "        'capacity': ba_lanes*22000\n",
    "    }\n",
    "\n",
    "    if row.DIR == 1:  # A-> B only\n",
    "        ab_edge[\"link_id\"] = edge_idx_counter\n",
    "        nx_highway_graph.add_edge(**ab_edge)\n",
    "        edge_idx_counter += 1\n",
    "\n",
    "    elif row.DIR == -1:  # B->A only\n",
    "        ba_edge[\"link_id\"] = edge_idx_counter\n",
    "        nx_highway_graph.add_edge(**ba_edge)\n",
    "        edge_idx_counter += 1\n",
    "\n",
    "    else:\n",
    "        # add A->B\n",
    "        ab_edge[\"link_id\"] = edge_idx_counter\n",
    "        nx_highway_graph.add_edge(**ab_edge)\n",
    "        edge_idx_counter += 1\n",
    "\n",
    "        # add B->A\n",
    "        ba_edge[\"link_id\"] = edge_idx_counter\n",
    "        nx_highway_graph.add_edge(**ba_edge)\n",
    "        edge_idx_counter += 1\n",
    "\n",
    "print(f\"edges {edge_idx_counter:,}\")"
   ]
  },
  {
   "cell_type": "code",
   "execution_count": 14,
   "metadata": {},
   "outputs": [
    {
     "name": "stdout",
     "output_type": "stream",
     "text": [
      "Is graph strongly connected: False\n",
      "Number of strongly connected components 14,942\n",
      "Number of weekly connected components 152\n"
     ]
    }
   ],
   "source": [
    "print(f\"Is graph strongly connected: {nx.is_strongly_connected(nx_highway_graph)}\")\n",
    "print(f\"Number of strongly connected components {len([x for x in nx.strongly_connected_components(nx_highway_graph)]):,}\")\n",
    "print(f\"Number of weekly connected components {len([x for x in nx.weakly_connected_components(nx_highway_graph)]):,}\")"
   ]
  },
  {
   "cell_type": "code",
   "execution_count": 16,
   "metadata": {},
   "outputs": [
    {
     "data": {
      "text/plain": [
       "[(188, 10),\n",
       " (224, 9),\n",
       " (303, 2),\n",
       " (497, 2),\n",
       " (3665, 4),\n",
       " (6534, 2),\n",
       " (7462, 331177),\n",
       " (7463, 2),\n",
       " (7767, 6),\n",
       " (7812, 2),\n",
       " (7833, 2),\n",
       " (8698, 4),\n",
       " (8881, 2),\n",
       " (10544, 2),\n",
       " (11042, 2),\n",
       " (11287, 2),\n",
       " (13295, 2),\n",
       " (14070, 2),\n",
       " (14286, 2),\n",
       " (14852, 4),\n",
       " (14854, 5),\n",
       " (14885, 2)]"
      ]
     },
     "execution_count": 16,
     "metadata": {},
     "output_type": "execute_result"
    }
   ],
   "source": [
    "s_components = [x for x in nx.strongly_connected_components(nx_highway_graph)]\n",
    "[(idx, len(x)) for idx, x in enumerate(s_components) if len(x) > 1]"
   ]
  },
  {
   "cell_type": "code",
   "execution_count": 33,
   "metadata": {},
   "outputs": [
    {
     "data": {
      "text/plain": [
       "345840"
      ]
     },
     "execution_count": 33,
     "metadata": {},
     "output_type": "execute_result"
    }
   ],
   "source": [
    "w_components = [x for x in nx.weakly_connected_components(nx_highway_graph)]\n",
    "largest_component = max(w_components, key=len)\n",
    "len(largest_component)"
   ]
  },
  {
   "cell_type": "code",
   "execution_count": null,
   "metadata": {},
   "outputs": [],
   "source": [
    "largest_component\n",
    "largest_highway_graph = nx_highway_graph.subgraph(largest_component)"
   ]
  },
  {
   "cell_type": "code",
   "execution_count": 37,
   "metadata": {},
   "outputs": [],
   "source": [
    "# create ball tree from nodes of largest_highway_graph\n",
    "# we need to find where on the highway graph to connect the centroids\n",
    "# construct a ball tree based on the highway graph data\n",
    "highway_node_lat_long_radians = np.deg2rad(np.array(list(node_lat_long_to_idx.keys())))\n",
    "highway_node_ball_tree = BallTree(highway_node_lat_long_radians, metric='haversine')"
   ]
  },
  {
   "cell_type": "code",
   "execution_count": 49,
   "metadata": {},
   "outputs": [
    {
     "data": {
      "text/plain": [
       "[(40.2099992, -75.3702011)]"
      ]
     },
     "execution_count": 49,
     "metadata": {},
     "output_type": "execute_result"
    }
   ],
   "source": [
    "montgomery_county_pa = counties_df[counties_df.GEOID == \"42091\"]\n",
    "montgomery_county_pa\n",
    "montco_pa_centroid_deg = list(zip(montgomery_county_pa.INTPTLAT, montgomery_county_pa.INTPTLON))\n",
    "montco_pa_centroid_deg"
   ]
  },
  {
   "cell_type": "code",
   "execution_count": 61,
   "metadata": {},
   "outputs": [
    {
     "name": "stdout",
     "output_type": "stream",
     "text": [
      "[[ 0.70179688 -1.31545817]]\n",
      "[1.38705491 2.10696072 2.27127384 2.88111392 2.89928638 2.98939086\n",
      " 3.05627827 3.07176403 3.13318959 3.13862608]\n"
     ]
    },
    {
     "data": {
      "text/html": [
       "<div style=\"width:100%;\"><div style=\"position:relative;width:100%;height:0;padding-bottom:60%;\"><span style=\"color:#565656\">Make this Notebook Trusted to load map: File -> Trust Notebook</span><iframe srcdoc=\"&lt;!DOCTYPE html&gt;\n",
       "&lt;html&gt;\n",
       "&lt;head&gt;\n",
       "    \n",
       "    &lt;meta http-equiv=&quot;content-type&quot; content=&quot;text/html; charset=UTF-8&quot; /&gt;\n",
       "    \n",
       "        &lt;script&gt;\n",
       "            L_NO_TOUCH = false;\n",
       "            L_DISABLE_3D = false;\n",
       "        &lt;/script&gt;\n",
       "    \n",
       "    &lt;style&gt;html, body {width: 100%;height: 100%;margin: 0;padding: 0;}&lt;/style&gt;\n",
       "    &lt;style&gt;#map {position:absolute;top:0;bottom:0;right:0;left:0;}&lt;/style&gt;\n",
       "    &lt;script src=&quot;https://cdn.jsdelivr.net/npm/leaflet@1.9.3/dist/leaflet.js&quot;&gt;&lt;/script&gt;\n",
       "    &lt;script src=&quot;https://code.jquery.com/jquery-1.12.4.min.js&quot;&gt;&lt;/script&gt;\n",
       "    &lt;script src=&quot;https://cdn.jsdelivr.net/npm/bootstrap@5.2.2/dist/js/bootstrap.bundle.min.js&quot;&gt;&lt;/script&gt;\n",
       "    &lt;script src=&quot;https://cdnjs.cloudflare.com/ajax/libs/Leaflet.awesome-markers/2.0.2/leaflet.awesome-markers.js&quot;&gt;&lt;/script&gt;\n",
       "    &lt;link rel=&quot;stylesheet&quot; href=&quot;https://cdn.jsdelivr.net/npm/leaflet@1.9.3/dist/leaflet.css&quot;/&gt;\n",
       "    &lt;link rel=&quot;stylesheet&quot; href=&quot;https://cdn.jsdelivr.net/npm/bootstrap@5.2.2/dist/css/bootstrap.min.css&quot;/&gt;\n",
       "    &lt;link rel=&quot;stylesheet&quot; href=&quot;https://netdna.bootstrapcdn.com/bootstrap/3.0.0/css/bootstrap.min.css&quot;/&gt;\n",
       "    &lt;link rel=&quot;stylesheet&quot; href=&quot;https://cdn.jsdelivr.net/npm/@fortawesome/fontawesome-free@6.2.0/css/all.min.css&quot;/&gt;\n",
       "    &lt;link rel=&quot;stylesheet&quot; href=&quot;https://cdnjs.cloudflare.com/ajax/libs/Leaflet.awesome-markers/2.0.2/leaflet.awesome-markers.css&quot;/&gt;\n",
       "    &lt;link rel=&quot;stylesheet&quot; href=&quot;https://cdn.jsdelivr.net/gh/python-visualization/folium/folium/templates/leaflet.awesome.rotate.min.css&quot;/&gt;\n",
       "    \n",
       "            &lt;meta name=&quot;viewport&quot; content=&quot;width=device-width,\n",
       "                initial-scale=1.0, maximum-scale=1.0, user-scalable=no&quot; /&gt;\n",
       "            &lt;style&gt;\n",
       "                #map_c9a04b29888da365de5bda0e01208482 {\n",
       "                    position: relative;\n",
       "                    width: 100.0%;\n",
       "                    height: 100.0%;\n",
       "                    left: 0.0%;\n",
       "                    top: 0.0%;\n",
       "                }\n",
       "                .leaflet-container { font-size: 1rem; }\n",
       "            &lt;/style&gt;\n",
       "        \n",
       "    \n",
       "                    &lt;style&gt;\n",
       "                        .foliumtooltip {\n",
       "                            \n",
       "                        }\n",
       "                       .foliumtooltip table{\n",
       "                            margin: auto;\n",
       "                        }\n",
       "                        .foliumtooltip tr{\n",
       "                            text-align: left;\n",
       "                        }\n",
       "                        .foliumtooltip th{\n",
       "                            padding: 2px; padding-right: 8px;\n",
       "                        }\n",
       "                    &lt;/style&gt;\n",
       "            \n",
       "&lt;/head&gt;\n",
       "&lt;body&gt;\n",
       "    \n",
       "    \n",
       "            &lt;div class=&quot;folium-map&quot; id=&quot;map_c9a04b29888da365de5bda0e01208482&quot; &gt;&lt;/div&gt;\n",
       "        \n",
       "&lt;/body&gt;\n",
       "&lt;script&gt;\n",
       "    \n",
       "    \n",
       "            var map_c9a04b29888da365de5bda0e01208482 = L.map(\n",
       "                &quot;map_c9a04b29888da365de5bda0e01208482&quot;,\n",
       "                {\n",
       "                    center: [40.20854650000007, -75.37265550000001],\n",
       "                    crs: L.CRS.EPSG3857,\n",
       "                    zoom: 10,\n",
       "                    zoomControl: true,\n",
       "                    preferCanvas: false,\n",
       "                }\n",
       "            );\n",
       "            L.control.scale().addTo(map_c9a04b29888da365de5bda0e01208482);\n",
       "\n",
       "            \n",
       "\n",
       "        \n",
       "    \n",
       "            var tile_layer_a116a097df9c7920be902bf734bba071 = L.tileLayer(\n",
       "                &quot;https://{s}.tile.openstreetmap.org/{z}/{x}/{y}.png&quot;,\n",
       "                {&quot;attribution&quot;: &quot;Data by \\u0026copy; \\u003ca target=\\&quot;_blank\\&quot; href=\\&quot;http://openstreetmap.org\\&quot;\\u003eOpenStreetMap\\u003c/a\\u003e, under \\u003ca target=\\&quot;_blank\\&quot; href=\\&quot;http://www.openstreetmap.org/copyright\\&quot;\\u003eODbL\\u003c/a\\u003e.&quot;, &quot;detectRetina&quot;: false, &quot;maxNativeZoom&quot;: 18, &quot;maxZoom&quot;: 18, &quot;minZoom&quot;: 0, &quot;noWrap&quot;: false, &quot;opacity&quot;: 1, &quot;subdomains&quot;: &quot;abc&quot;, &quot;tms&quot;: false}\n",
       "            ).addTo(map_c9a04b29888da365de5bda0e01208482);\n",
       "        \n",
       "    \n",
       "            map_c9a04b29888da365de5bda0e01208482.fitBounds(\n",
       "                [[40.16596200000009, -75.40571599999998], [40.25113100000004, -75.33959500000003]],\n",
       "                {}\n",
       "            );\n",
       "        \n",
       "    \n",
       "        function geo_json_fc7177a0b3df239f078a8e4a85944bbe_styler(feature) {\n",
       "            switch(feature.id) {\n",
       "                default:\n",
       "                    return {&quot;fillOpacity&quot;: 0.5, &quot;weight&quot;: 2};\n",
       "            }\n",
       "        }\n",
       "        function geo_json_fc7177a0b3df239f078a8e4a85944bbe_highlighter(feature) {\n",
       "            switch(feature.id) {\n",
       "                default:\n",
       "                    return {&quot;fillOpacity&quot;: 0.75};\n",
       "            }\n",
       "        }\n",
       "        function geo_json_fc7177a0b3df239f078a8e4a85944bbe_pointToLayer(feature, latlng) {\n",
       "            var opts = {&quot;bubblingMouseEvents&quot;: true, &quot;color&quot;: &quot;#3388ff&quot;, &quot;dashArray&quot;: null, &quot;dashOffset&quot;: null, &quot;fill&quot;: true, &quot;fillColor&quot;: &quot;#3388ff&quot;, &quot;fillOpacity&quot;: 0.2, &quot;fillRule&quot;: &quot;evenodd&quot;, &quot;lineCap&quot;: &quot;round&quot;, &quot;lineJoin&quot;: &quot;round&quot;, &quot;opacity&quot;: 1.0, &quot;radius&quot;: 2, &quot;stroke&quot;: true, &quot;weight&quot;: 3};\n",
       "            \n",
       "            let style = geo_json_fc7177a0b3df239f078a8e4a85944bbe_styler(feature)\n",
       "            Object.assign(opts, style)\n",
       "            \n",
       "            return new L.CircleMarker(latlng, opts)\n",
       "        }\n",
       "\n",
       "        function geo_json_fc7177a0b3df239f078a8e4a85944bbe_onEachFeature(feature, layer) {\n",
       "            layer.on({\n",
       "                mouseout: function(e) {\n",
       "                    if(typeof e.target.setStyle === &quot;function&quot;){\n",
       "                        geo_json_fc7177a0b3df239f078a8e4a85944bbe.resetStyle(e.target);\n",
       "                    }\n",
       "                },\n",
       "                mouseover: function(e) {\n",
       "                    if(typeof e.target.setStyle === &quot;function&quot;){\n",
       "                        const highlightStyle = geo_json_fc7177a0b3df239f078a8e4a85944bbe_highlighter(e.target.feature)\n",
       "                        e.target.setStyle(highlightStyle);\n",
       "                    }\n",
       "                },\n",
       "            });\n",
       "        };\n",
       "        var geo_json_fc7177a0b3df239f078a8e4a85944bbe = L.geoJson(null, {\n",
       "                onEachFeature: geo_json_fc7177a0b3df239f078a8e4a85944bbe_onEachFeature,\n",
       "            \n",
       "                style: geo_json_fc7177a0b3df239f078a8e4a85944bbe_styler,\n",
       "                pointToLayer: geo_json_fc7177a0b3df239f078a8e4a85944bbe_pointToLayer\n",
       "        });\n",
       "\n",
       "        function geo_json_fc7177a0b3df239f078a8e4a85944bbe_add (data) {\n",
       "            geo_json_fc7177a0b3df239f078a8e4a85944bbe\n",
       "                .addData(data)\n",
       "                .addTo(map_c9a04b29888da365de5bda0e01208482);\n",
       "        }\n",
       "            geo_json_fc7177a0b3df239f078a8e4a85944bbe_add({&quot;bbox&quot;: [-75.40571599999998, 40.16596200000009, -75.33959500000003, 40.25113100000004], &quot;features&quot;: [{&quot;bbox&quot;: [-75.346543, 40.20125100000013, -75.346543, 40.20125100000013], &quot;geometry&quot;: {&quot;coordinates&quot;: [-75.346543, 40.20125100000013], &quot;type&quot;: &quot;Point&quot;}, &quot;id&quot;: &quot;317907&quot;, &quot;properties&quot;: {&quot;Centroid&quot;: null, &quot;CentroidID&quot;: null, &quot;County&quot;: null, &quot;DATA&quot;: 42979339, &quot;Entry_or_Exit&quot;: null, &quot;Exit_Number&quot;: null, &quot;FAFID&quot;: null, &quot;Facility_Name&quot;: null, &quot;Facility_Type&quot;: null, &quot;ID&quot;: 1780998, &quot;Interchange&quot;: null, &quot;State&quot;: null, &quot;StateID&quot;: null, &quot;StateName&quot;: null, &quot;StateNameBak&quot;: null}, &quot;type&quot;: &quot;Feature&quot;}, {&quot;bbox&quot;: [-75.36254600000001, 40.180071000000055, -75.36254600000001, 40.180071000000055], &quot;geometry&quot;: {&quot;coordinates&quot;: [-75.36254600000001, 40.180071000000055], &quot;type&quot;: &quot;Point&quot;}, &quot;id&quot;: &quot;317906&quot;, &quot;properties&quot;: {&quot;Centroid&quot;: null, &quot;CentroidID&quot;: null, &quot;County&quot;: null, &quot;DATA&quot;: 42979323, &quot;Entry_or_Exit&quot;: null, &quot;Exit_Number&quot;: null, &quot;FAFID&quot;: null, &quot;Facility_Name&quot;: null, &quot;Facility_Type&quot;: null, &quot;ID&quot;: 1780996, &quot;Interchange&quot;: null, &quot;State&quot;: null, &quot;StateID&quot;: null, &quot;StateName&quot;: null, &quot;StateNameBak&quot;: null}, &quot;type&quot;: &quot;Feature&quot;}, {&quot;bbox&quot;: [-75.40571599999998, 40.22857800000003, -75.40571599999998, 40.22857800000003], &quot;geometry&quot;: {&quot;coordinates&quot;: [-75.40571599999998, 40.22857800000003], &quot;type&quot;: &quot;Point&quot;}, &quot;id&quot;: &quot;245096&quot;, &quot;properties&quot;: {&quot;Centroid&quot;: null, &quot;CentroidID&quot;: null, &quot;County&quot;: null, &quot;DATA&quot;: 42972621, &quot;Entry_or_Exit&quot;: null, &quot;Exit_Number&quot;: null, &quot;FAFID&quot;: null, &quot;Facility_Name&quot;: null, &quot;Facility_Type&quot;: null, &quot;ID&quot;: 1375778, &quot;Interchange&quot;: null, &quot;State&quot;: null, &quot;StateID&quot;: null, &quot;StateName&quot;: null, &quot;StateNameBak&quot;: null}, &quot;type&quot;: &quot;Feature&quot;}, {&quot;bbox&quot;: [-75.33959500000003, 40.244534999999985, -75.33959500000003, 40.244534999999985], &quot;geometry&quot;: {&quot;coordinates&quot;: [-75.33959500000003, 40.244534999999985], &quot;type&quot;: &quot;Point&quot;}, &quot;id&quot;: &quot;317557&quot;, &quot;properties&quot;: {&quot;Centroid&quot;: null, &quot;CentroidID&quot;: null, &quot;County&quot;: null, &quot;DATA&quot;: 42983144, &quot;Entry_or_Exit&quot;: null, &quot;Exit_Number&quot;: null, &quot;FAFID&quot;: null, &quot;Facility_Name&quot;: null, &quot;Facility_Type&quot;: null, &quot;ID&quot;: 1783094, &quot;Interchange&quot;: null, &quot;State&quot;: null, &quot;StateID&quot;: null, &quot;StateName&quot;: null, &quot;StateNameBak&quot;: null}, &quot;type&quot;: &quot;Feature&quot;}, {&quot;bbox&quot;: [-75.34290099999998, 40.24641799999995, -75.34290099999998, 40.24641799999995], &quot;geometry&quot;: {&quot;coordinates&quot;: [-75.34290099999998, 40.24641799999995], &quot;type&quot;: &quot;Point&quot;}, &quot;id&quot;: &quot;317553&quot;, &quot;properties&quot;: {&quot;Centroid&quot;: null, &quot;CentroidID&quot;: null, &quot;County&quot;: null, &quot;DATA&quot;: 47022420, &quot;Entry_or_Exit&quot;: null, &quot;Exit_Number&quot;: null, &quot;FAFID&quot;: null, &quot;Facility_Name&quot;: null, &quot;Facility_Type&quot;: null, &quot;ID&quot;: 1781016, &quot;Interchange&quot;: null, &quot;State&quot;: null, &quot;StateID&quot;: null, &quot;StateName&quot;: null, &quot;StateNameBak&quot;: null}, &quot;type&quot;: &quot;Feature&quot;}, {&quot;bbox&quot;: [-75.34618099999994, 40.24918600000001, -75.34618099999994, 40.24918600000001], &quot;geometry&quot;: {&quot;coordinates&quot;: [-75.34618099999994, 40.24918600000001], &quot;type&quot;: &quot;Point&quot;}, &quot;id&quot;: &quot;318258&quot;, &quot;properties&quot;: {&quot;Centroid&quot;: null, &quot;CentroidID&quot;: null, &quot;County&quot;: null, &quot;DATA&quot;: 46786619, &quot;Entry_or_Exit&quot;: &quot;Exit&quot;, &quot;Exit_Number&quot;: &quot;31&quot;, &quot;FAFID&quot;: null, &quot;Facility_Name&quot;: &quot;PENNSYLVANIA TURNPIKE-TICKET SYSTEM&quot;, &quot;Facility_Type&quot;: &quot;Toll Road Exit Point&quot;, &quot;ID&quot;: 1783074, &quot;Interchange&quot;: &quot;LANSDALE&quot;, &quot;State&quot;: null, &quot;StateID&quot;: null, &quot;StateName&quot;: null, &quot;StateNameBak&quot;: null}, &quot;type&quot;: &quot;Feature&quot;}, {&quot;bbox&quot;: [-75.375651, 40.16596200000009, -75.375651, 40.16596200000009], &quot;geometry&quot;: {&quot;coordinates&quot;: [-75.375651, 40.16596200000009], &quot;type&quot;: &quot;Point&quot;}, &quot;id&quot;: &quot;317904&quot;, &quot;properties&quot;: {&quot;Centroid&quot;: null, &quot;CentroidID&quot;: null, &quot;County&quot;: null, &quot;DATA&quot;: 42971012, &quot;Entry_or_Exit&quot;: null, &quot;Exit_Number&quot;: null, &quot;FAFID&quot;: null, &quot;Facility_Name&quot;: null, &quot;Facility_Type&quot;: null, &quot;ID&quot;: 1780994, &quot;Interchange&quot;: null, &quot;State&quot;: null, &quot;StateID&quot;: null, &quot;StateName&quot;: null, &quot;StateNameBak&quot;: null}, &quot;type&quot;: &quot;Feature&quot;}, {&quot;bbox&quot;: [-75.347173, 40.25083300000006, -75.347173, 40.25083300000006], &quot;geometry&quot;: {&quot;coordinates&quot;: [-75.347173, 40.25083300000006], &quot;type&quot;: &quot;Point&quot;}, &quot;id&quot;: &quot;317556&quot;, &quot;properties&quot;: {&quot;Centroid&quot;: null, &quot;CentroidID&quot;: null, &quot;County&quot;: null, &quot;DATA&quot;: 46786851, &quot;Entry_or_Exit&quot;: &quot;Entry&quot;, &quot;Exit_Number&quot;: &quot;31&quot;, &quot;FAFID&quot;: null, &quot;Facility_Name&quot;: &quot;PENNSYLVANIA TURNPIKE-TICKET SYSTEM&quot;, &quot;Facility_Type&quot;: &quot;Toll Road Entry Point&quot;, &quot;ID&quot;: 1783098, &quot;Interchange&quot;: &quot;LANSDALE&quot;, &quot;State&quot;: null, &quot;StateID&quot;: null, &quot;StateName&quot;: null, &quot;StateNameBak&quot;: null}, &quot;type&quot;: &quot;Feature&quot;}, {&quot;bbox&quot;: [-75.34504200000003, 40.25107700000001, -75.34504200000003, 40.25107700000001], &quot;geometry&quot;: {&quot;coordinates&quot;: [-75.34504200000003, 40.25107700000001], &quot;type&quot;: &quot;Point&quot;}, &quot;id&quot;: &quot;317552&quot;, &quot;properties&quot;: {&quot;Centroid&quot;: null, &quot;CentroidID&quot;: null, &quot;County&quot;: null, &quot;DATA&quot;: 46786857, &quot;Entry_or_Exit&quot;: null, &quot;Exit_Number&quot;: null, &quot;FAFID&quot;: null, &quot;Facility_Name&quot;: null, &quot;Facility_Type&quot;: null, &quot;ID&quot;: 1783097, &quot;Interchange&quot;: null, &quot;State&quot;: null, &quot;StateID&quot;: null, &quot;StateName&quot;: null, &quot;StateNameBak&quot;: null}, &quot;type&quot;: &quot;Feature&quot;}, {&quot;bbox&quot;: [-75.34494999999998, 40.25113100000004, -75.34494999999998, 40.25113100000004], &quot;geometry&quot;: {&quot;coordinates&quot;: [-75.34494999999998, 40.25113100000004], &quot;type&quot;: &quot;Point&quot;}, &quot;id&quot;: &quot;317554&quot;, &quot;properties&quot;: {&quot;Centroid&quot;: null, &quot;CentroidID&quot;: null, &quot;County&quot;: null, &quot;DATA&quot;: 46786850, &quot;Entry_or_Exit&quot;: null, &quot;Exit_Number&quot;: null, &quot;FAFID&quot;: null, &quot;Facility_Name&quot;: null, &quot;Facility_Type&quot;: null, &quot;ID&quot;: 1783095, &quot;Interchange&quot;: null, &quot;State&quot;: null, &quot;StateID&quot;: null, &quot;StateName&quot;: null, &quot;StateNameBak&quot;: null}, &quot;type&quot;: &quot;Feature&quot;}], &quot;type&quot;: &quot;FeatureCollection&quot;});\n",
       "\n",
       "        \n",
       "    \n",
       "    geo_json_fc7177a0b3df239f078a8e4a85944bbe.bindTooltip(\n",
       "    function(layer){\n",
       "    let div = L.DomUtil.create(&#x27;div&#x27;);\n",
       "    \n",
       "    let handleObject = feature=&gt;typeof(feature)==&#x27;object&#x27; ? JSON.stringify(feature) : feature;\n",
       "    let fields = [&quot;ID&quot;, &quot;DATA&quot;, &quot;Entry_or_Exit&quot;, &quot;Exit_Number&quot;, &quot;Interchange&quot;, &quot;Centroid&quot;, &quot;CentroidID&quot;, &quot;Facility_Type&quot;, &quot;Facility_Name&quot;, &quot;County&quot;, &quot;State&quot;, &quot;StateID&quot;, &quot;StateName&quot;, &quot;FAFID&quot;, &quot;StateNameBak&quot;];\n",
       "    let aliases = [&quot;ID&quot;, &quot;DATA&quot;, &quot;Entry_or_Exit&quot;, &quot;Exit_Number&quot;, &quot;Interchange&quot;, &quot;Centroid&quot;, &quot;CentroidID&quot;, &quot;Facility_Type&quot;, &quot;Facility_Name&quot;, &quot;County&quot;, &quot;State&quot;, &quot;StateID&quot;, &quot;StateName&quot;, &quot;FAFID&quot;, &quot;StateNameBak&quot;];\n",
       "    let table = &#x27;&lt;table&gt;&#x27; +\n",
       "        String(\n",
       "        fields.map(\n",
       "        (v,i)=&gt;\n",
       "        `&lt;tr&gt;\n",
       "            &lt;th&gt;${aliases[i]}&lt;/th&gt;\n",
       "            \n",
       "            &lt;td&gt;${handleObject(layer.feature.properties[v])}&lt;/td&gt;\n",
       "        &lt;/tr&gt;`).join(&#x27;&#x27;))\n",
       "    +&#x27;&lt;/table&gt;&#x27;;\n",
       "    div.innerHTML=table;\n",
       "    \n",
       "    return div\n",
       "    }\n",
       "    ,{&quot;className&quot;: &quot;foliumtooltip&quot;, &quot;sticky&quot;: true});\n",
       "                     \n",
       "&lt;/script&gt;\n",
       "&lt;/html&gt;\" style=\"position:absolute;width:100%;height:100%;left:0;top:0;border:none !important;\" allowfullscreen webkitallowfullscreen mozallowfullscreen></iframe></div></div>"
      ],
      "text/plain": [
       "<folium.folium.Map at 0x26846152e90>"
      ]
     },
     "execution_count": 61,
     "metadata": {},
     "output_type": "execute_result"
    }
   ],
   "source": [
    "RADIUS_EARTH_MILES = 3958.8\n",
    "\n",
    "montgomery_county_pa_centroid = np.deg2rad(montco_pa_centroid_deg)\n",
    "print(montgomery_county_pa_centroid)\n",
    "distances, indices = highway_node_ball_tree.query(montgomery_county_pa_centroid, k=10, return_distance=True)\n",
    "print(distances.squeeze()*RADIUS_EARTH_MILES)\n",
    "faf_nodes_df.iloc[indices.squeeze()].explore()"
   ]
  },
  {
   "cell_type": "code",
   "execution_count": null,
   "metadata": {},
   "outputs": [],
   "source": [
    "largest_component.pl"
   ]
  },
  {
   "cell_type": "code",
   "execution_count": null,
   "metadata": {},
   "outputs": [],
   "source": [
    "faf_nodes_df.loc[[0]].explore()"
   ]
  },
  {
   "cell_type": "code",
   "execution_count": null,
   "metadata": {},
   "outputs": [],
   "source": [
    "lon, lat = faf_nodes_df.loc[120178].geometry.coords[0]\n",
    "lat, lon"
   ]
  },
  {
   "cell_type": "code",
   "execution_count": null,
   "metadata": {},
   "outputs": [],
   "source": [
    "fake_graph = nx.DiGraph([(0, 1), (1, 2), (2, 3)])\n",
    "nx.is_strongly_connected(fake_graph)"
   ]
  },
  {
   "cell_type": "code",
   "execution_count": null,
   "metadata": {},
   "outputs": [],
   "source": [
    "faf_nodes_df.loc[[892231,892233]]"
   ]
  },
  {
   "cell_type": "code",
   "execution_count": null,
   "metadata": {},
   "outputs": [],
   "source": [
    "x = faf_links_df.loc[faf_links_df.ID.isin([1784578, 1784579, 1391622])]\n",
    "x"
   ]
  },
  {
   "cell_type": "code",
   "execution_count": null,
   "metadata": {},
   "outputs": [],
   "source": [
    "faf_links_df.DIR.value_counts()"
   ]
  },
  {
   "cell_type": "code",
   "execution_count": null,
   "metadata": {},
   "outputs": [],
   "source": [
    "faf_nodes_df.loc[faf_links_df.loc[443800].FROM_NODE_IDX]"
   ]
  },
  {
   "cell_type": "code",
   "execution_count": null,
   "metadata": {},
   "outputs": [],
   "source": [
    "faf_nodes_df.loc[faf_links_df.loc[443800].TO_NODE_IDX]"
   ]
  },
  {
   "cell_type": "code",
   "execution_count": null,
   "metadata": {},
   "outputs": [],
   "source": [
    "faf_links_df[(faf_links_df.DIR == -1) & (faf_links_df.STATE == \"PA\")]"
   ]
  },
  {
   "cell_type": "code",
   "execution_count": null,
   "metadata": {},
   "outputs": [],
   "source": [
    "x.explore()"
   ]
  },
  {
   "cell_type": "code",
   "execution_count": null,
   "metadata": {},
   "outputs": [],
   "source": [
    "faf_nodes_df.loc[[889753,889751]]"
   ]
  },
  {
   "cell_type": "code",
   "execution_count": null,
   "metadata": {},
   "outputs": [],
   "source": [
    "faf_links_df.loc[[444875,444881]]"
   ]
  },
  {
   "cell_type": "code",
   "execution_count": null,
   "metadata": {},
   "outputs": [],
   "source": [
    "# input 2\n",
    "target_path = CACHE_PATH /  'data/raw/us_county_shp_files.zip'\n",
    "county_gdf = pyogrio.read_dataframe(target_path, use_arrow=True)"
   ]
  },
  {
   "cell_type": "code",
   "execution_count": null,
   "metadata": {},
   "outputs": [],
   "source": [
    "# Now we need to figure out where in each county we want a \"connector\" [a location from which tons will attach to the transport graph]\n",
    "# right now, we're using the \"actual\" geometric centroid as the \"connector\" location  in the county but we could refine this in the future\n",
    "# based on where in the county we expect things to be originating from and/or how many \"connectors\" we want to have within each county\n",
    "county_gdf = county_gdf.to_crs(\"EPSG:5070\") # albers"
   ]
  },
  {
   "cell_type": "code",
   "execution_count": null,
   "metadata": {},
   "outputs": [],
   "source": [
    "centroid_x = np.array([row.centroid.x for row in county_gdf.itertuples()])\n",
    "centroid_y = np.array([row.centroid.y for row in county_gdf.itertuples()])"
   ]
  }
 ],
 "metadata": {
  "kernelspec": {
   "display_name": "venv311",
   "language": "python",
   "name": "python3"
  },
  "language_info": {
   "codemirror_mode": {
    "name": "ipython",
    "version": 3
   },
   "file_extension": ".py",
   "mimetype": "text/x-python",
   "name": "python",
   "nbconvert_exporter": "python",
   "pygments_lexer": "ipython3",
   "version": "3.11.5"
  }
 },
 "nbformat": 4,
 "nbformat_minor": 2
}
