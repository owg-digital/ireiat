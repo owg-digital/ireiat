{
 "cells": [
  {
   "cell_type": "code",
   "execution_count": 7,
   "metadata": {},
   "outputs": [],
   "source": [
    "import yaml"
   ]
  },
  {
   "cell_type": "code",
   "execution_count": 8,
   "metadata": {},
   "outputs": [],
   "source": [
    "with open(r'../Data/rail_network/rail_interchange_impedances.yaml', 'r') as yml:\n",
    "    impedance_rules = yaml.safe_load(yml)"
   ]
  },
  {
   "cell_type": "code",
   "execution_count": 9,
   "metadata": {},
   "outputs": [
    {
     "data": {
      "text/plain": [
       "{'class1_to_class1_default_impedance': 1000,\n",
       " 'class1_to_shortline_default_impedance': 350,\n",
       " 'interchange_impedance_defaults': None,\n",
       " 'impedance_override_rules': [{'class1_to_class1_impedance': 250},\n",
       "  {'not_class1_to_class1_impedance': 275},\n",
       "  {'radius_to_search_miles': '20,'},\n",
       "  {'overrides': [{'jr260': 'BATON',\n",
       "     'lat_long': [30.484715, -91.18676],\n",
       "     'franodeids': [123456, 789012],\n",
       "     'overrides': {'CN,CPKC': 249, 'CSXT,CN': 251}},\n",
       "    {'jr260': 'BUFF', 'lat_long': [42.8827172727273, -78.8435945454545]}]}]}"
      ]
     },
     "execution_count": 9,
     "metadata": {},
     "output_type": "execute_result"
    }
   ],
   "source": [
    "impedance_rules"
   ]
  },
  {
   "cell_type": "code",
   "execution_count": null,
   "metadata": {},
   "outputs": [],
   "source": []
  }
 ],
 "metadata": {
  "kernelspec": {
   "display_name": "venv311",
   "language": "python",
   "name": "python3"
  },
  "language_info": {
   "codemirror_mode": {
    "name": "ipython",
    "version": 3
   },
   "file_extension": ".py",
   "mimetype": "text/x-python",
   "name": "python",
   "nbconvert_exporter": "python",
   "pygments_lexer": "ipython3",
   "version": "3.11.5"
  }
 },
 "nbformat": 4,
 "nbformat_minor": 4
}
