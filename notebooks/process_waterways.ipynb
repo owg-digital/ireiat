{
 "cells": [
  {
   "cell_type": "markdown",
   "metadata": {},
   "source": [
    "# Waterways\n",
    "\n",
    "The best US government supported waterways network seems to be:"
   ]
  },
  {
   "cell_type": "code",
   "execution_count": null,
   "metadata": {},
   "outputs": [],
   "source": [
    "from pathlib import Path\n",
    "import pandas as pd\n",
    "import geopandas as gpd\n",
    "import numpy as np\n",
    "from sklearn.neighbors import BallTree"
   ]
  },
  {
   "cell_type": "code",
   "execution_count": null,
   "metadata": {},
   "outputs": [],
   "source": [
    "input_directory = Path(r'C:/Users/Marc.Meketon/Downloads')\n",
    "ww_gdf = gpd.read_file(input_directory / 'ndc_-93513140148177336.geojson')\n",
    "# 6 links have bad data\n",
    "ww_gdf = ww_gdf[~pd.isna(ww_gdf.ANODE)]\n",
    "\n",
    "ww_nodes_gdf = gpd.read_file(input_directory / 'ndc_-5268635341862566859.geojson')\n",
    "# use NODENUM for the index\n",
    "ww_nodes_gdf.set_index('NODENUM', inplace=True, drop=False)\n",
    "\n",
    "principal_ports_gdf = gpd.read_file(input_directory / 'ndc_-137970917446961778.geojson')\n",
    "river_mile_markers_gdf = gpd.read_file(input_directory / 'usace_river_mile_markers_-7040874731012618368.geojson')"
   ]
  },
  {
   "cell_type": "markdown",
   "metadata": {},
   "source": [
    "## Ports\n",
    "\n",
    "**We will be restricting locations where intermodal traffic occurs on the waterways to where there are ports.**\n",
    "\n",
    "The \"Navigable Waterway Network Nodes\" has a field called Port Name, as well as a Port ID (typically of the form xDDDD, where x is C, I or L, DDDD is a 4 digit number, possible with leading zeros).  There are 580 nodes with a Port Name, out of 6255 nodes altogether.\n",
    "\n",
    "There is another file call Principal Ports, and there are 150 of those nodes.  It also has a Port ID, although formatted differently.\n",
    "\n",
    "About 92 of the ports in Principal Ports have the same Port ID as found in the Network Nodes.  Of the remaining 58 principal ports, there are Network Nodes that are close to these ports for about 50 of these cases.  Of these 50, sometimes the network Nodes have a port id (but not always) that is numerically close to the principal port id.\n",
    "\n",
    "We want to label all the ports as correctly as possible (use the principal port name when possible), and where a Network Node does not have a Port ID, to use the principal port ID."
   ]
  },
  {
   "cell_type": "code",
   "execution_count": null,
   "metadata": {},
   "outputs": [],
   "source": [
    "principal_ports_gdf['PORT_TYPE_NUMBER'] = principal_ports_gdf['TYPE'] + principal_ports_gdf['PORT'].apply(lambda x: f'{x:04d}').astype(str)"
   ]
  },
  {
   "cell_type": "code",
   "execution_count": null,
   "metadata": {},
   "outputs": [],
   "source": [
    "ww2_nodes_gdf = ww_nodes_gdf.merge(principal_ports_gdf[['PORT_NAME', 'PORT_TYPE_NUMBER']], how='left', left_on='PORT_ID', right_on='PORT_TYPE_NUMBER')"
   ]
  },
  {
   "cell_type": "code",
   "execution_count": null,
   "metadata": {},
   "outputs": [],
   "source": [
    "ww_nodes_lat_lon_rad = np.deg2rad(list(zip(ww2_nodes_gdf.geometry.y.to_numpy(), ww2_nodes_gdf.geometry.x.to_numpy())))\n",
    "ball_tree = BallTree(ww_nodes_lat_lon_rad, metric='haversine')\n",
    "\n",
    "principal_ports_lat_lon_rad = np.deg2rad(principal_ports_gdf[['LATITUDE1', 'LONGITUDE1']].to_numpy())\n",
    "distance, indices = ball_tree.query(principal_ports_lat_lon_rad, return_distance=True, k=1)\n",
    "distance = distance.ravel()\n",
    "indices = indices.ravel()\n",
    "distance *= 3958.8"
   ]
  },
  {
   "cell_type": "code",
   "execution_count": null,
   "metadata": {},
   "outputs": [],
   "source": [
    "ww_node_closest_to_principal_port_gdf = ww2_nodes_gdf.iloc[indices].copy().reset_index()"
   ]
  },
  {
   "cell_type": "code",
   "execution_count": null,
   "metadata": {},
   "outputs": [],
   "source": [
    "x_df = ww_node_closest_to_principal_port_gdf  # alias\n",
    "x_df['PRINCIPAL_PORT_NAME'] = principal_ports_gdf.PORT_NAME\n",
    "x_df['PRINCIPAL_PORT_TYPE_NUMBER'] = principal_ports_gdf.PORT_TYPE_NUMBER\n",
    "x_df['DISTANCE'] = np.round(distance, 2)\n",
    "x_df['IS_PRINCIPAL_PORT'] = 'Y'\n",
    "index_to_change = x_df[pd.isna(ww_node_closest_to_principal_port_gdf.PORT_NAME_y) & \n",
    "                                                        (x_df.DISTANCE <= 5.0)].index\n",
    "\n",
    "x_df.loc[index_to_change, 'PORT_NAME_y'] = x_df.loc[index_to_change, 'PRINCIPAL_PORT_NAME']\n",
    "x_df.loc[x_df.PORT_ID.str.strip().str.len() == 0, 'PORT_ID'] = x_df.loc[x_df.PORT_ID.str.strip().str.len() == 0, 'PRINCIPAL_PORT_TYPE_NUMBER']\n",
    "x_df.set_index('NODENUM', inplace=True, drop=False)"
   ]
  },
  {
   "cell_type": "markdown",
   "metadata": {},
   "source": [
    "Place in the PORT_NAME_y and the PORT_ID back into the original Network Nodes\n",
    "\n",
    "(recall, `x_df` is an alias for `ww_node_closest_to_principal_port_gdf`)"
   ]
  },
  {
   "cell_type": "code",
   "execution_count": null,
   "metadata": {},
   "outputs": [],
   "source": [
    "ww_nodes_gdf.loc[ww_node_closest_to_principal_port_gdf.NODENUM, 'PRINCIPAL_PORT_NAME'] = ww_node_closest_to_principal_port_gdf.PORT_NAME_y\n",
    "ww_nodes_gdf.loc[ww_node_closest_to_principal_port_gdf.NODENUM, 'PORT_ID'] = ww_node_closest_to_principal_port_gdf.PORT_ID\n",
    "\n",
    "ww_nodes_gdf['IS_PRINCIPAL_PORT'] = 'N'\n",
    "ww_nodes_gdf.loc[~pd.isna(ww_nodes_gdf.PRINCIPAL_PORT_NAME), 'IS_PRINCIPAL_PORT'] = 'Y'"
   ]
  },
  {
   "cell_type": "code",
   "execution_count": null,
   "metadata": {},
   "outputs": [],
   "source": [
    "ww_gdf.explore()"
   ]
  },
  {
   "cell_type": "markdown",
   "metadata": {},
   "source": [
    "# Waterway types (WTWY_TYPE)\n",
    "\n",
    "Below table is based on https://services7.arcgis.com/n1YM8pTrFmm7L4hs/ArcGIS/rest/services/ndc/FeatureServer/7\n",
    "\n",
    "Another listing of the fields with codes explained (somewhat) is in https://doi.org/10.21949/1529053\n",
    "\n",
    "|WTWY_TYPE|Description|\n",
    "| -: | :- |\n",
    "|1|Bay, Harbor|\n",
    "|2|Intercoastal Waterway|\n",
    "|3|Sealane|\n",
    "|4|Sealane with separation zone|\n",
    "|5|Open water|\n",
    "|6|River, creek, thoroughfare, Lake|\n",
    "|7|Estuary|\n",
    "|8|Channel|\n",
    "|9|Canal|\n",
    "|10|Great Lakes direct link|\n",
    "|11|Great Lakes indirect link|\n",
    "|12|USACE Lock|\n",
    "\n",
    "We only care about the continental US, not Alaska, Hawaii, Puerto Rico, Panama Canal, or territories like Guam, Saipan, etc.  We use the FIPS code to eliminate them.\n",
    "\n",
    "We also get rid of 'non navigable' waterways (FUNC_CLASS = 'N), and anything that Vanderbilt added.  For the great lakes, we kept the 'spine'\n",
    "\n",
    "Also, wanted to ensure that any link that touches a principal port is kept."
   ]
  },
  {
   "cell_type": "markdown",
   "metadata": {},
   "source": [
    "## For each node, add a 'river name'\n",
    "\n",
    "This is particularly important for the Mississippi, which has an \"UM\" (upper Mississippi) and a \"LM\" (lower Mississippi).  These designations are used by all shipping companies that use the Mississippi (and attached rivers like the Ohio, Missouri, etc.)"
   ]
  },
  {
   "cell_type": "code",
   "execution_count": null,
   "metadata": {},
   "outputs": [],
   "source": [
    "ww_gdf = ww_gdf.astype({'ANODE': 'int64', 'BNODE': 'int64'})\n",
    "port_nodenums = set(ww_nodes_gdf.loc[ww_nodes_gdf.IS_PRINCIPAL_PORT == 'Y', 'NODENUM'].to_list())"
   ]
  },
  {
   "cell_type": "code",
   "execution_count": null,
   "metadata": {},
   "outputs": [],
   "source": [
    "ww2_gdf = ww_gdf[~ww_gdf.FIPS.isin(['02', '15', '72', '74', '99'])]"
   ]
  },
  {
   "cell_type": "code",
   "execution_count": null,
   "metadata": {},
   "outputs": [],
   "source": [
    "ww2_gdf = ww2_gdf[(\n",
    "                   (~pd.isna(ww2_gdf.ID)) &\n",
    "                   ww2_gdf.WTWY_TYPE.isin([1, 2, 5, 6, 7, 8, 9, 10, 12]) & \n",
    "                   (ww2_gdf.FUNC_CLASS != 'N') &\n",
    "                   (ww2_gdf.GEO_CLASS != 'O') &\n",
    "                   (ww2_gdf.LINKTYPE != \"VANDERBILT\") &\n",
    "                   (~((ww2_gdf.GEO_CLASS == 'G') & (ww2_gdf.LINKNAME.str.contains(\" SPINE \"))))\n",
    "                   )\n",
    "                   | ww2_gdf.ANODE.isin(port_nodenums) | ww2_gdf.BNODE.isin(port_nodenums)\n",
    "                   ]\n",
    "ww2_gdf.explore()"
   ]
  },
  {
   "cell_type": "markdown",
   "metadata": {},
   "source": [
    "## Reduce the nodes to be the nodes that are left"
   ]
  },
  {
   "cell_type": "code",
   "execution_count": null,
   "metadata": {},
   "outputs": [],
   "source": [
    "ww_nodes_remaining_gdf = ww_nodes_gdf[ww_nodes_gdf.NODENUM.isin(ww2_gdf.ANODE) | ww_nodes_gdf.NODENUM.isin(ww2_gdf.BNODE)].copy()\n",
    "print(ww_nodes_gdf.shape, ww_nodes_remaining_gdf.shape)\n",
    "river_mile_lat_lon_rad = np.deg2rad(river_mile_markers_gdf[['LATITUDE1', 'LONGITUDE1']].to_numpy())\n",
    "ball_tree = BallTree(river_mile_lat_lon_rad, metric='haversine')\n",
    "\n",
    "ww_nodes_lat_lon_rad = np.deg2rad(list(zip(ww_nodes_remaining_gdf.geometry.y.to_numpy(), ww_nodes_remaining_gdf.geometry.x.to_numpy())))\n",
    "distance, indices = ball_tree.query(ww_nodes_lat_lon_rad, return_distance=True, k=1)\n",
    "distance = distance.ravel()\n",
    "indices = indices.ravel()\n",
    "distance *= 3958.8\n",
    "print(distance.shape, ww_nodes_remaining_gdf.shape)\n",
    "ww_nodes_remaining_gdf['DISTANCE_TO_RMM'] = distance\n",
    "ww_nodes_remaining_gdf['RIVER_NAME'] = river_mile_markers_gdf.loc[indices, 'RIVER_NAME'].to_numpy()"
   ]
  },
  {
   "cell_type": "code",
   "execution_count": null,
   "metadata": {},
   "outputs": [],
   "source": [
    "mileage_by_river_name = ww2_gdf.groupby(by=['RIVERNAME'])['LENGTH1'].sum().to_dict()"
   ]
  },
  {
   "cell_type": "code",
   "execution_count": null,
   "metadata": {},
   "outputs": [],
   "source": [
    "x = ww2_gdf[['ANODE', 'AMILE', 'RIVERNAME']].merge(ww2_gdf[['BNODE', 'BMILE', 'RIVERNAME']], how='outer', left_on='ANODE', right_on='BNODE').to_numpy()\n",
    "len(x[[(anode == bnode and amile != bmile) for anode, amile, river1, bnode, bmile, river2 in x]])"
   ]
  },
  {
   "cell_type": "code",
   "execution_count": null,
   "metadata": {},
   "outputs": [],
   "source": [
    "lats_by_node = ww_nodes_gdf.geometry.y.to_dict()\n",
    "ww_nodes_remaining_gdf['RIVER_NAME'] = ''\n",
    "ww_nodes_remaining_gdf['MILE_MARKER'] = 0.0\n",
    "for anode, amile, river1, bnode, bmile, river2 in x:\n",
    "    if np.isnan(anode):\n",
    "        river_name = river2\n",
    "        mile_marker = bmile\n",
    "        nodenum = int(bnode)\n",
    "    elif np.isnan(bnode):\n",
    "        river_name = river1\n",
    "        mile_marker = amile\n",
    "        nodenum = int(anode)\n",
    "    else:\n",
    "        nodenum = int(anode)\n",
    "        mile_marker = max(amile, bmile)\n",
    "        if mileage_by_river_name[river1] > mileage_by_river_name[river2]:\n",
    "            river_name = river1\n",
    "        else:\n",
    "            river_name = river2\n",
    "    if river_name.startswith('MISSISSIPPI'):\n",
    "        if lats_by_node[nodenum] >= 39.98 or (lats_by_node[nodenum] >= 39.97 and mile_marker <= 100.0):\n",
    "            river_name = \"UM\"\n",
    "        else:\n",
    "            river_name = \"LM\"\n",
    "        \n",
    "    ww_nodes_remaining_gdf.at[nodenum, 'RIVER_NAME'] = river_name\n",
    "    ww_nodes_remaining_gdf.at[nodenum, 'MILE_MARKER'] = mile_marker"
   ]
  },
  {
   "cell_type": "code",
   "execution_count": null,
   "metadata": {},
   "outputs": [],
   "source": [
    "ww_nodes_remaining_gdf.index.name = 'NODENUM_IDX'\n",
    "ww_nodes_remaining_gdf.explore()"
   ]
  },
  {
   "cell_type": "code",
   "execution_count": null,
   "metadata": {},
   "outputs": [],
   "source": [
    "output_directory = Path(r'C:\\Users\\Marc.Meketon\\OneDrive - MMC\\Documents\\OliverWyman\\DOE_IntermodalRouting\\Truck_Areas')\n",
    "ww_nodes_remaining_gdf.to_parquet(output_directory / 'waterway_nodes_gdf.parquet')\n",
    "ww2_gdf.to_parquet(output_directory / 'waterway_lines_gdf.parquet')"
   ]
  }
 ],
 "metadata": {
  "kernelspec": {
   "display_name": "venv311",
   "language": "python",
   "name": "python3"
  },
  "language_info": {
   "codemirror_mode": {
    "name": "ipython",
    "version": 3
   },
   "file_extension": ".py",
   "mimetype": "text/x-python",
   "name": "python",
   "nbconvert_exporter": "python",
   "pygments_lexer": "ipython3",
   "version": "3.11.3"
  }
 },
 "nbformat": 4,
 "nbformat_minor": 2
}
