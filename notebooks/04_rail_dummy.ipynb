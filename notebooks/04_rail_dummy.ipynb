{
 "cells": [
  {
   "cell_type": "code",
   "execution_count": 3,
   "id": "dac13d43-710a-4844-ac93-bb2d42a6f3ab",
   "metadata": {},
   "outputs": [],
   "source": [
    "import pyogrio\n",
    "from ireiat.config import CACHE_PATH,RADIUS_EARTH_MILES, LATLONG_CRS\n",
    "from ireiat.util.graph import get_coordinates_from_geoframe, get_allowed_node_indices,generate_zero_based_node_maps\n",
    "import pandas as pd\n",
    "import numpy as np\n",
    "pd.set_option('display.max_columns',None)\n",
    "from typing import Dict, Tuple, Optional, List\n",
    "import igraph as ig\n",
    "from collections import Counter\n",
    "from itertools import chain\n",
    "import geopandas"
   ]
  },
  {
   "cell_type": "code",
   "execution_count": 2,
   "id": "a330eee3-e854-4488-b8c6-ddb37bf7edac",
   "metadata": {},
   "outputs": [
    {
     "name": "stdout",
     "output_type": "stream",
     "text": [
      "CPU times: total: 3.52 s\n",
      "Wall time: 3.42 s\n"
     ]
    }
   ],
   "source": [
    "%%time\n",
    "narn_links = pyogrio.read_dataframe(CACHE_PATH / \"raw/narn_rail_links.zip\",use_arrow=True)"
   ]
  },
  {
   "cell_type": "code",
   "execution_count": 21,
   "id": "7edcfb7d-fe67-40d3-b655-d7aff74386f6",
   "metadata": {},
   "outputs": [],
   "source": [
    "# narn_links['shape_Leng']-narn_links['geometry'].length) < 1e-5)"
   ]
  },
  {
   "cell_type": "code",
   "execution_count": 5,
   "id": "ce043137-9e4f-4244-addb-a7f852c90bdc",
   "metadata": {},
   "outputs": [
    {
     "name": "stdout",
     "output_type": "stream",
     "text": [
      "CPU times: total: 375 ms\n",
      "Wall time: 371 ms\n"
     ]
    }
   ],
   "source": [
    "%%time\n",
    "# we need a strongly connected graph, so we create one by iterating through the links\n",
    "# we get the coordinates of every line segment and \"melt\" the dataframe. We group by each line segment and take the first and last coordinates,\n",
    "# which should be the start / end nodes\n",
    "link_coords = get_coordinates_from_geoframe(narn_links)\n",
    "link_coords = pd.concat([narn_links[['miles','frfranode','tofranode']],link_coords],axis=1) # join in the direction"
   ]
  },
  {
   "cell_type": "code",
   "execution_count": 6,
   "id": "1be516af-4d99-4c8e-b036-d838c839ca30",
   "metadata": {},
   "outputs": [],
   "source": [
    "# link_coords.groupby(['origin_latitude','origin_longitude'])[['frfranode']].nunique().max()"
   ]
  },
  {
   "cell_type": "code",
   "execution_count": 6,
   "id": "020c9263-dd6a-48b8-9ed9-3acdba12eacc",
   "metadata": {},
   "outputs": [],
   "source": [
    "# we create a simple graph and check its connectedness\n",
    "complete_rail_node_to_idx = generate_zero_based_node_maps(link_coords)\n",
    "unfiltered_idx_node_dict = {v:k for k,v in complete_rail_node_to_idx.items()}\n",
    "\n",
    "\n",
    "edge_tuples = []\n",
    "edge_attributes = []\n",
    "for row in link_coords.itertuples():\n",
    "    origin_coords = (row.origin_latitude, row.origin_longitude)\n",
    "    destination_coords = (row.destination_latitude, row.destination_longitude)\n",
    "    tail, head = (\n",
    "        complete_rail_node_to_idx[origin_coords],\n",
    "        complete_rail_node_to_idx[destination_coords],\n",
    "    )\n",
    "\n",
    "    # record some original edge information needed for visualization and/or TAP setup\n",
    "    attribute_tuple_one_way = (row.miles, row.frfranode, row.tofranode)\n",
    "    attribute_tuple_two_way = (row.miles, row.tofranode, row.frfranode)\n",
    "    edge_tuples.append((tail, head))\n",
    "    edge_attributes.append(attribute_tuple_one_way)\n",
    "    edge_tuples.append((head, tail))\n",
    "    edge_attributes.append(attribute_tuple_two_way)"
   ]
  },
  {
   "cell_type": "code",
   "execution_count": 7,
   "id": "61a5c2f2-59a8-4920-a2ca-bc72e069e4e5",
   "metadata": {},
   "outputs": [
    {
     "name": "stdout",
     "output_type": "stream",
     "text": [
      "Original number of nodes 250436, edges 605988.\n",
      "Number of nodes in largest connected component Counter({2: 112, 3: 44, 4: 38, 5: 18, 6: 12, 7: 9, 11: 8, 8: 7, 12: 4, 9: 4, 18: 3, 17: 3, 15: 2, 13: 2, 21: 2, 60: 1, 79: 1, 31: 1, 48: 1, 24: 1, 34: 1, 36: 1, 19: 1, 35: 1, 33: 1, 23: 1, 248850: 1})\n",
      "Excluded # of nodes that are not strongly connected 1586\n"
     ]
    }
   ],
   "source": [
    "n_vertices = len(complete_rail_node_to_idx)\n",
    "print(f\"Original number of nodes {n_vertices}, edges {len(edge_tuples)}.\")\n",
    "g = ig.Graph(\n",
    "    n_vertices,\n",
    "    edge_tuples,\n",
    "    vertex_attrs={\"original_node_idx\": list(complete_rail_node_to_idx.values())},\n",
    "    edge_attrs={\n",
    "        \"length\": [attr[0] for attr in edge_attributes],\n",
    "        \"frfranode\": [attr[1] for attr in edge_attributes],\n",
    "        \"tofranode\": [attr[2] for attr in edge_attributes]\n",
    "    },\n",
    "    directed=True,\n",
    ")\n",
    "allowed_node_indices = get_allowed_node_indices(g)"
   ]
  },
  {
   "cell_type": "code",
   "execution_count": 8,
   "id": "a5aef2b3-c1f3-4c04-8f9f-a6bbed9188f6",
   "metadata": {},
   "outputs": [
    {
     "data": {
      "text/plain": [
       "False"
      ]
     },
     "execution_count": 8,
     "metadata": {},
     "output_type": "execute_result"
    }
   ],
   "source": [
    "g.is_connected()"
   ]
  },
  {
   "cell_type": "code",
   "execution_count": 9,
   "id": "8edc73fc-c120-44f0-aa9c-61bd089cc29b",
   "metadata": {},
   "outputs": [],
   "source": [
    "connected_subgraph = g.subgraph(allowed_node_indices)"
   ]
  },
  {
   "cell_type": "code",
   "execution_count": 10,
   "id": "3b587d64-52c8-46be-82b4-1c97c620e38d",
   "metadata": {},
   "outputs": [
    {
     "data": {
      "text/plain": [
       "True"
      ]
     },
     "execution_count": 10,
     "metadata": {},
     "output_type": "execute_result"
    }
   ],
   "source": [
    "connected_subgraph.is_connected()"
   ]
  }
 ],
 "metadata": {
  "kernelspec": {
   "display_name": "Python 3 (ipykernel)",
   "language": "python",
   "name": "python3"
  },
  "language_info": {
   "codemirror_mode": {
    "name": "ipython",
    "version": 3
   },
   "file_extension": ".py",
   "mimetype": "text/x-python",
   "name": "python",
   "nbconvert_exporter": "python",
   "pygments_lexer": "ipython3",
   "version": "3.11.7"
  }
 },
 "nbformat": 4,
 "nbformat_minor": 5
}
